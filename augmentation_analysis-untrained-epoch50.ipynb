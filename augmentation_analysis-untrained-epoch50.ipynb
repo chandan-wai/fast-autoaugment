{
 "cells": [
  {
   "cell_type": "code",
   "execution_count": 1,
   "metadata": {},
   "outputs": [],
   "source": [
    "import sys\n",
    "sys.path.append('/home/ubuntu/fast-autoaugment')\n",
    "import torch\n",
    "from torch.nn.parallel.data_parallel import DataParallel\n",
    "from torch.nn.parallel import DistributedDataParallel\n",
    "from FastAutoAugment.networks import get_model\n",
    "from theconf import Config as C\n",
    "import random\n",
    "import copy\n",
    "from torchvision.transforms import transforms\n",
    "import multiprocessing as mp\n",
    "from tqdm import tqdm\n",
    "import matplotlib.pyplot as plt\n",
    "\n",
    "from FastAutoAugment.datasets import CIFAR10_mod \n",
    "from FastAutoAugment.metrics import accuracy\n",
    "from FastAutoAugment.hardness_measures import AVH\n",
    "from FastAutoAugment.augmentations import *"
   ]
  },
  {
   "cell_type": "code",
   "execution_count": 2,
   "metadata": {},
   "outputs": [],
   "source": [
    "_ = C('/home/ubuntu/fast-autoaugment/confs/test.yaml')"
   ]
  },
  {
   "cell_type": "code",
   "execution_count": 3,
   "metadata": {},
   "outputs": [],
   "source": [
    "model = get_model(C.get()['model'], 10, local_rank=-1)"
   ]
  },
  {
   "cell_type": "code",
   "execution_count": 5,
   "metadata": {},
   "outputs": [],
   "source": [
    "save_path = '/efs-cotton/outputs/fast-autoaugment/confs/hardnessaware/wresnet28x10_rcifar-AA-rerun6/test.pth'\n",
    "data = torch.load(save_path)\n",
    "key = 'model' if 'model' in data else 'state_dict'\n",
    "\n",
    "if 'epoch' not in data:\n",
    "    model.load_state_dict(data)\n",
    "else:\n",
    "    if not isinstance(model, (DataParallel, DistributedDataParallel)):\n",
    "        model.load_state_dict({k.replace('module.', ''): v for k, v in data[key].items()})\n",
    "    else:\n",
    "        model.load_state_dict({k if 'module.' in k else 'module.'+k: v for k, v in data[key].items()})"
   ]
  },
  {
   "cell_type": "code",
   "execution_count": 7,
   "metadata": {},
   "outputs": [
    {
     "data": {
      "text/plain": [
       "50"
      ]
     },
     "execution_count": 7,
     "metadata": {},
     "output_type": "execute_result"
    }
   ],
   "source": [
    "data['epoch']"
   ]
  },
  {
   "cell_type": "code",
   "execution_count": 8,
   "metadata": {},
   "outputs": [],
   "source": [
    "augmentations = [\"ShearX\", \"ShearY\", \"Rotate\", \"AutoContrast\", \"Invert\", \n",
    "                 \"Equalize\", \"Solarize\", \"Contrast\", \"Color\", \"Brightness\", \n",
    "                 \"Sharpness\", \"Posterize2\", \"TranslateXAbs\", \"TranslateYAbs\"]"
   ]
  },
  {
   "cell_type": "code",
   "execution_count": 9,
   "metadata": {},
   "outputs": [],
   "source": [
    "policy = []\n",
    "for i in range(10):\n",
    "    policy.append([(aug, 0.5, 'random') for aug in random.sample(augmentations, 5)])"
   ]
  },
  {
   "cell_type": "code",
   "execution_count": 10,
   "metadata": {},
   "outputs": [],
   "source": [
    "policy = [[('Contrast', 0.5, 'random'),\n",
    "  ('Rotate', 0.5, 'random'),\n",
    "  ('TranslateXAbs', 0.5, 'random'),\n",
    "  ('Solarize', 0.5, 'random'),\n",
    "  ('Invert', 0.5, 'random')],\n",
    " [('Rotate', 0.5, 'random'),\n",
    "  ('ShearX', 0.5, 'random'),\n",
    "  ('TranslateXAbs', 0.5, 'random'),\n",
    "  ('TranslateYAbs', 0.5, 'random'),\n",
    "  ('ShearY', 0.5, 'random')],\n",
    " [('Solarize', 0.5, 'random'),\n",
    "  ('Sharpness', 0.5, 'random'),\n",
    "  ('Rotate', 0.5, 'random'),\n",
    "  ('TranslateYAbs', 0.5, 'random'),\n",
    "  ('Posterize2', 0.5, 'random')],\n",
    " [('TranslateYAbs', 0.5, 'random'),\n",
    "  ('TranslateXAbs', 0.5, 'random'),\n",
    "  ('AutoContrast', 0.5, 'random'),\n",
    "  ('Posterize2', 0.5, 'random'),\n",
    "  ('Solarize', 0.5, 'random')],\n",
    " [('TranslateYAbs', 0.5, 'random'),\n",
    "  ('ShearY', 0.5, 'random'),\n",
    "  ('Invert', 0.5, 'random'),\n",
    "  ('Contrast', 0.5, 'random'),\n",
    "  ('TranslateXAbs', 0.5, 'random')],\n",
    " [('ShearX', 0.5, 'random'),\n",
    "  ('Rotate', 0.5, 'random'),\n",
    "  ('Invert', 0.5, 'random'),\n",
    "  ('TranslateYAbs', 0.5, 'random'),\n",
    "  ('ShearY', 0.5, 'random')],\n",
    " [('Solarize', 0.5, 'random'),\n",
    "  ('AutoContrast', 0.5, 'random'),\n",
    "  ('Color', 0.5, 'random'),\n",
    "  ('Posterize2', 0.5, 'random'),\n",
    "  ('Brightness', 0.5, 'random')],\n",
    " [('ShearY', 0.5, 'random'),\n",
    "  ('Contrast', 0.5, 'random'),\n",
    "  ('ShearX', 0.5, 'random'),\n",
    "  ('TranslateYAbs', 0.5, 'random'),\n",
    "  ('TranslateXAbs', 0.5, 'random')],\n",
    " [('Solarize', 0.5, 'random'),\n",
    "  ('Color', 0.5, 'random'),\n",
    "  ('Brightness', 0.5, 'random'),\n",
    "  ('TranslateXAbs', 0.5, 'random'),\n",
    "  ('Equalize', 0.5, 'random')],\n",
    " [('Brightness', 0.5, 'random'),\n",
    "  ('Solarize', 0.5, 'random'),\n",
    "  ('ShearX', 0.5, 'random'),\n",
    "  ('Equalize', 0.5, 'random'),\n",
    "  ('Invert', 0.5, 'random')]]"
   ]
  },
  {
   "cell_type": "code",
   "execution_count": 11,
   "metadata": {},
   "outputs": [],
   "source": [
    "class Augmentation2(object):\n",
    "    def __init__(self, policies):\n",
    "        self.policies = policies\n",
    "\n",
    "    def __call__(self, img, hardness_score=None):\n",
    "        for name, pr, level in self.policies:\n",
    "            if random.random() > pr:\n",
    "                continue\n",
    "            if level == 'random':\n",
    "                level = random.choice(range(10))*0.1\n",
    "            img = apply_augment(img, name, level)\n",
    "        return img"
   ]
  },
  {
   "cell_type": "code",
   "execution_count": 12,
   "metadata": {},
   "outputs": [],
   "source": [
    "_CIFAR_MEAN, _CIFAR_STD = (0.4914, 0.4822, 0.4465), (0.2023, 0.1994, 0.2010)\n",
    "dataroot = \"data\""
   ]
  },
  {
   "cell_type": "code",
   "execution_count": 13,
   "metadata": {},
   "outputs": [
    {
     "name": "stdout",
     "output_type": "stream",
     "text": [
      "Files already downloaded and verified\n"
     ]
    }
   ],
   "source": [
    "basic_transform = transforms.Compose([\n",
    "            transforms.RandomCrop(32, padding=4),\n",
    "            transforms.RandomHorizontalFlip(),\n",
    "            transforms.ToTensor(),\n",
    "            transforms.Normalize(_CIFAR_MEAN, _CIFAR_STD),\n",
    "        ])\n",
    "basic_dataset = CIFAR10_mod(root=dataroot, train=True, download=True, transform=basic_transform)"
   ]
  },
  {
   "cell_type": "code",
   "execution_count": 14,
   "metadata": {},
   "outputs": [],
   "source": [
    "policy_transforms = []\n",
    "for i in range(10):\n",
    "    transform = copy.deepcopy(basic_transform)\n",
    "    transform.transforms.insert(0, Augmentation2(policy[i]))\n",
    "    policy_transforms.append(transform)"
   ]
  },
  {
   "cell_type": "code",
   "execution_count": 15,
   "metadata": {},
   "outputs": [
    {
     "data": {
      "text/plain": [
       "[<__main__.Augmentation2 at 0x7f92abced790>,\n",
       " RandomCrop(size=(32, 32), padding=4),\n",
       " RandomHorizontalFlip(p=0.5),\n",
       " ToTensor(),\n",
       " Normalize(mean=(0.4914, 0.4822, 0.4465), std=(0.2023, 0.1994, 0.201))]"
      ]
     },
     "execution_count": 15,
     "metadata": {},
     "output_type": "execute_result"
    }
   ],
   "source": [
    "policy_transforms[0].transforms"
   ]
  },
  {
   "cell_type": "code",
   "execution_count": 16,
   "metadata": {},
   "outputs": [
    {
     "data": {
      "text/plain": [
       "[<__main__.Augmentation2 at 0x7f92abced290>,\n",
       " RandomCrop(size=(32, 32), padding=4),\n",
       " RandomHorizontalFlip(p=0.5),\n",
       " ToTensor(),\n",
       " Normalize(mean=(0.4914, 0.4822, 0.4465), std=(0.2023, 0.1994, 0.201))]"
      ]
     },
     "execution_count": 16,
     "metadata": {},
     "output_type": "execute_result"
    }
   ],
   "source": [
    "policy_transforms[1].transforms"
   ]
  },
  {
   "cell_type": "code",
   "execution_count": 17,
   "metadata": {},
   "outputs": [
    {
     "name": "stdout",
     "output_type": "stream",
     "text": [
      "Files already downloaded and verified\n",
      "Files already downloaded and verified\n",
      "Files already downloaded and verified\n",
      "Files already downloaded and verified\n",
      "Files already downloaded and verified\n",
      "Files already downloaded and verified\n",
      "Files already downloaded and verified\n",
      "Files already downloaded and verified\n",
      "Files already downloaded and verified\n",
      "Files already downloaded and verified\n"
     ]
    }
   ],
   "source": [
    "policy_datasets = []\n",
    "for i in range(10):\n",
    "    policy_datasets.append(CIFAR10_mod(root=dataroot, train=True, download=True, transform=policy_transforms[i]))"
   ]
  },
  {
   "cell_type": "code",
   "execution_count": 18,
   "metadata": {},
   "outputs": [],
   "source": [
    "basic_dataloader = torch.utils.data.DataLoader(basic_dataset, batch_size=16, shuffle=False, num_workers=0, drop_last=False)\n",
    "policy_dataloaders = []\n",
    "for i in range(10):\n",
    "    policy_dataloaders.append(torch.utils.data.DataLoader(\n",
    "        policy_datasets[i], batch_size=16, shuffle=False, \n",
    "        num_workers=0, drop_last=False))"
   ]
  },
  {
   "cell_type": "code",
   "execution_count": 19,
   "metadata": {},
   "outputs": [
    {
     "name": "stderr",
     "output_type": "stream",
     "text": [
      "  0%|          | 3/3125 [00:01<33:38,  1.55it/s]"
     ]
    },
    {
     "name": "stdout",
     "output_type": "stream",
     "text": [
      "top1 tensor(0.7500, device='cuda:0') top5 tensor(1., device='cuda:0')\n"
     ]
    },
    {
     "name": "stderr",
     "output_type": "stream",
     "text": [
      "  3%|▎         | 101/3125 [00:10<05:42,  8.84it/s]"
     ]
    },
    {
     "name": "stdout",
     "output_type": "stream",
     "text": [
      "top1 tensor(0.6875, device='cuda:0') top5 tensor(0.9375, device='cuda:0')\n"
     ]
    },
    {
     "name": "stderr",
     "output_type": "stream",
     "text": [
      "  6%|▋         | 201/3125 [00:20<05:33,  8.77it/s]"
     ]
    },
    {
     "name": "stdout",
     "output_type": "stream",
     "text": [
      "top1 tensor(0.8125, device='cuda:0') top5 tensor(1., device='cuda:0')\n"
     ]
    },
    {
     "name": "stderr",
     "output_type": "stream",
     "text": [
      " 10%|▉         | 301/3125 [00:30<05:21,  8.77it/s]"
     ]
    },
    {
     "name": "stdout",
     "output_type": "stream",
     "text": [
      "top1 tensor(0.8750, device='cuda:0') top5 tensor(1., device='cuda:0')\n"
     ]
    },
    {
     "name": "stderr",
     "output_type": "stream",
     "text": [
      " 13%|█▎        | 401/3125 [00:40<05:12,  8.70it/s]"
     ]
    },
    {
     "name": "stdout",
     "output_type": "stream",
     "text": [
      "top1 tensor(0.5625, device='cuda:0') top5 tensor(0.9375, device='cuda:0')\n"
     ]
    },
    {
     "name": "stderr",
     "output_type": "stream",
     "text": [
      " 16%|█▌        | 501/3125 [00:50<05:00,  8.73it/s]"
     ]
    },
    {
     "name": "stdout",
     "output_type": "stream",
     "text": [
      "top1 tensor(0.7500, device='cuda:0') top5 tensor(1., device='cuda:0')\n"
     ]
    },
    {
     "name": "stderr",
     "output_type": "stream",
     "text": [
      " 19%|█▉        | 601/3125 [00:59<04:49,  8.72it/s]"
     ]
    },
    {
     "name": "stdout",
     "output_type": "stream",
     "text": [
      "top1 tensor(0.6875, device='cuda:0') top5 tensor(1., device='cuda:0')\n"
     ]
    },
    {
     "name": "stderr",
     "output_type": "stream",
     "text": [
      " 22%|██▏       | 701/3125 [01:09<04:38,  8.71it/s]"
     ]
    },
    {
     "name": "stdout",
     "output_type": "stream",
     "text": [
      "top1 tensor(0.8125, device='cuda:0') top5 tensor(1., device='cuda:0')\n"
     ]
    },
    {
     "name": "stderr",
     "output_type": "stream",
     "text": [
      " 26%|██▌       | 801/3125 [01:19<04:24,  8.80it/s]"
     ]
    },
    {
     "name": "stdout",
     "output_type": "stream",
     "text": [
      "top1 tensor(0.8750, device='cuda:0') top5 tensor(1., device='cuda:0')\n"
     ]
    },
    {
     "name": "stderr",
     "output_type": "stream",
     "text": [
      " 29%|██▉       | 901/3125 [01:29<04:13,  8.78it/s]"
     ]
    },
    {
     "name": "stdout",
     "output_type": "stream",
     "text": [
      "top1 tensor(0.6875, device='cuda:0') top5 tensor(1., device='cuda:0')\n"
     ]
    },
    {
     "name": "stderr",
     "output_type": "stream",
     "text": [
      " 32%|███▏      | 1001/3125 [01:39<04:00,  8.82it/s]"
     ]
    },
    {
     "name": "stdout",
     "output_type": "stream",
     "text": [
      "top1 tensor(0.6875, device='cuda:0') top5 tensor(1., device='cuda:0')\n"
     ]
    },
    {
     "name": "stderr",
     "output_type": "stream",
     "text": [
      " 35%|███▌      | 1101/3125 [01:49<03:52,  8.72it/s]"
     ]
    },
    {
     "name": "stdout",
     "output_type": "stream",
     "text": [
      "top1 tensor(0.8750, device='cuda:0') top5 tensor(1., device='cuda:0')\n"
     ]
    },
    {
     "name": "stderr",
     "output_type": "stream",
     "text": [
      " 38%|███▊      | 1201/3125 [01:58<03:39,  8.78it/s]"
     ]
    },
    {
     "name": "stdout",
     "output_type": "stream",
     "text": [
      "top1 tensor(0.7500, device='cuda:0') top5 tensor(1., device='cuda:0')\n"
     ]
    },
    {
     "name": "stderr",
     "output_type": "stream",
     "text": [
      " 42%|████▏     | 1301/3125 [02:08<03:27,  8.81it/s]"
     ]
    },
    {
     "name": "stdout",
     "output_type": "stream",
     "text": [
      "top1 tensor(0.5625, device='cuda:0') top5 tensor(0.9375, device='cuda:0')\n"
     ]
    },
    {
     "name": "stderr",
     "output_type": "stream",
     "text": [
      " 45%|████▍     | 1401/3125 [02:18<03:16,  8.75it/s]"
     ]
    },
    {
     "name": "stdout",
     "output_type": "stream",
     "text": [
      "top1 tensor(0.8125, device='cuda:0') top5 tensor(1., device='cuda:0')\n"
     ]
    },
    {
     "name": "stderr",
     "output_type": "stream",
     "text": [
      " 48%|████▊     | 1501/3125 [02:28<03:06,  8.73it/s]"
     ]
    },
    {
     "name": "stdout",
     "output_type": "stream",
     "text": [
      "top1 tensor(0.8750, device='cuda:0') top5 tensor(0.9375, device='cuda:0')\n"
     ]
    },
    {
     "name": "stderr",
     "output_type": "stream",
     "text": [
      " 51%|█████     | 1601/3125 [02:38<02:54,  8.76it/s]"
     ]
    },
    {
     "name": "stdout",
     "output_type": "stream",
     "text": [
      "top1 tensor(0.8125, device='cuda:0') top5 tensor(0.9375, device='cuda:0')\n"
     ]
    },
    {
     "name": "stderr",
     "output_type": "stream",
     "text": [
      " 54%|█████▍    | 1701/3125 [02:48<02:40,  8.89it/s]"
     ]
    },
    {
     "name": "stdout",
     "output_type": "stream",
     "text": [
      "top1 tensor(0.6875, device='cuda:0') top5 tensor(1., device='cuda:0')\n"
     ]
    },
    {
     "name": "stderr",
     "output_type": "stream",
     "text": [
      " 58%|█████▊    | 1801/3125 [02:57<02:30,  8.79it/s]"
     ]
    },
    {
     "name": "stdout",
     "output_type": "stream",
     "text": [
      "top1 tensor(0.7500, device='cuda:0') top5 tensor(1., device='cuda:0')\n"
     ]
    },
    {
     "name": "stderr",
     "output_type": "stream",
     "text": [
      " 61%|██████    | 1901/3125 [03:07<02:20,  8.71it/s]"
     ]
    },
    {
     "name": "stdout",
     "output_type": "stream",
     "text": [
      "top1 tensor(0.6875, device='cuda:0') top5 tensor(0.9375, device='cuda:0')\n"
     ]
    },
    {
     "name": "stderr",
     "output_type": "stream",
     "text": [
      " 64%|██████▍   | 2001/3125 [03:17<02:09,  8.70it/s]"
     ]
    },
    {
     "name": "stdout",
     "output_type": "stream",
     "text": [
      "top1 tensor(0.6875, device='cuda:0') top5 tensor(0.9375, device='cuda:0')\n"
     ]
    },
    {
     "name": "stderr",
     "output_type": "stream",
     "text": [
      " 67%|██████▋   | 2101/3125 [03:27<01:55,  8.85it/s]"
     ]
    },
    {
     "name": "stdout",
     "output_type": "stream",
     "text": [
      "top1 tensor(0.5625, device='cuda:0') top5 tensor(1., device='cuda:0')\n"
     ]
    },
    {
     "name": "stderr",
     "output_type": "stream",
     "text": [
      " 70%|███████   | 2201/3125 [03:37<01:44,  8.80it/s]"
     ]
    },
    {
     "name": "stdout",
     "output_type": "stream",
     "text": [
      "top1 tensor(0.6875, device='cuda:0') top5 tensor(0.9375, device='cuda:0')\n"
     ]
    },
    {
     "name": "stderr",
     "output_type": "stream",
     "text": [
      " 74%|███████▎  | 2301/3125 [03:47<01:34,  8.76it/s]"
     ]
    },
    {
     "name": "stdout",
     "output_type": "stream",
     "text": [
      "top1 tensor(0.6875, device='cuda:0') top5 tensor(1., device='cuda:0')\n"
     ]
    },
    {
     "name": "stderr",
     "output_type": "stream",
     "text": [
      " 77%|███████▋  | 2401/3125 [03:57<01:22,  8.79it/s]"
     ]
    },
    {
     "name": "stdout",
     "output_type": "stream",
     "text": [
      "top1 tensor(0.7500, device='cuda:0') top5 tensor(1., device='cuda:0')\n"
     ]
    },
    {
     "name": "stderr",
     "output_type": "stream",
     "text": [
      " 80%|████████  | 2501/3125 [04:06<01:11,  8.77it/s]"
     ]
    },
    {
     "name": "stdout",
     "output_type": "stream",
     "text": [
      "top1 tensor(0.8125, device='cuda:0') top5 tensor(1., device='cuda:0')\n"
     ]
    },
    {
     "name": "stderr",
     "output_type": "stream",
     "text": [
      " 83%|████████▎ | 2601/3125 [04:16<00:59,  8.76it/s]"
     ]
    },
    {
     "name": "stdout",
     "output_type": "stream",
     "text": [
      "top1 tensor(0.8750, device='cuda:0') top5 tensor(1., device='cuda:0')\n"
     ]
    },
    {
     "name": "stderr",
     "output_type": "stream",
     "text": [
      " 86%|████████▋ | 2701/3125 [04:26<00:48,  8.80it/s]"
     ]
    },
    {
     "name": "stdout",
     "output_type": "stream",
     "text": [
      "top1 tensor(0.8125, device='cuda:0') top5 tensor(1., device='cuda:0')\n"
     ]
    },
    {
     "name": "stderr",
     "output_type": "stream",
     "text": [
      " 90%|████████▉ | 2801/3125 [04:36<00:36,  8.89it/s]"
     ]
    },
    {
     "name": "stdout",
     "output_type": "stream",
     "text": [
      "top1 tensor(0.6875, device='cuda:0') top5 tensor(0.9375, device='cuda:0')\n"
     ]
    },
    {
     "name": "stderr",
     "output_type": "stream",
     "text": [
      " 93%|█████████▎| 2901/3125 [04:46<00:25,  8.87it/s]"
     ]
    },
    {
     "name": "stdout",
     "output_type": "stream",
     "text": [
      "top1 tensor(0.7500, device='cuda:0') top5 tensor(1., device='cuda:0')\n"
     ]
    },
    {
     "name": "stderr",
     "output_type": "stream",
     "text": [
      " 96%|█████████▌| 3001/3125 [04:55<00:14,  8.84it/s]"
     ]
    },
    {
     "name": "stdout",
     "output_type": "stream",
     "text": [
      "top1 tensor(0.7500, device='cuda:0') top5 tensor(0.9375, device='cuda:0')\n"
     ]
    },
    {
     "name": "stderr",
     "output_type": "stream",
     "text": [
      " 99%|█████████▉| 3101/3125 [05:05<00:02,  8.82it/s]"
     ]
    },
    {
     "name": "stdout",
     "output_type": "stream",
     "text": [
      "top1 tensor(0.7500, device='cuda:0') top5 tensor(0.9375, device='cuda:0')\n"
     ]
    },
    {
     "name": "stderr",
     "output_type": "stream",
     "text": [
      "100%|██████████| 3125/3125 [05:08<00:00, 10.15it/s]\n"
     ]
    }
   ],
   "source": [
    "all_preds = []\n",
    "all_embeddings = []\n",
    "all_labels = []\n",
    "all_indices = []\n",
    "with torch.no_grad():\n",
    "    model.eval()\n",
    "    loader = tqdm(basic_dataloader, disable=False)\n",
    "    for i, (data, label, index) in enumerate(loader):\n",
    "        data, label = data.cuda(), label.cuda()\n",
    "        preds, embeddings = model(data)\n",
    "\n",
    "        all_preds.append(preds)\n",
    "        all_embeddings.append(embeddings)\n",
    "        all_labels.append(label)\n",
    "        all_indices.append(index)\n",
    "        top1, top5 = accuracy(preds, label, (1, 5))\n",
    "        if i%100==0:\n",
    "            print(\"top1\", top1, \"top5\", top5)\n",
    "    del data, label, index, preds, embeddings"
   ]
  },
  {
   "cell_type": "code",
   "execution_count": 20,
   "metadata": {},
   "outputs": [],
   "source": [
    "avh = AVH()"
   ]
  },
  {
   "cell_type": "code",
   "execution_count": 21,
   "metadata": {},
   "outputs": [
    {
     "ename": "RuntimeError",
     "evalue": "CUDA out of memory. Tried to allocate 124.00 MiB (GPU 0; 7.44 GiB total capacity; 667.95 MiB already allocated; 49.00 MiB free; 730.00 MiB reserved in total by PyTorch)",
     "output_type": "error",
     "traceback": [
      "\u001b[0;31m---------------------------------------------------------------------------\u001b[0m",
      "\u001b[0;31mRuntimeError\u001b[0m                              Traceback (most recent call last)",
      "\u001b[0;32m<ipython-input-21-6e7e3d9e1215>\u001b[0m in \u001b[0;36m<module>\u001b[0;34m\u001b[0m\n\u001b[1;32m      1\u001b[0m unaugmented_hardness = avh(model=model, embeddings=torch.cat(all_embeddings), \n\u001b[0;32m----> 2\u001b[0;31m                            targets=torch.cat(all_labels))\n\u001b[0m",
      "\u001b[0;32m~/fast-autoaugment/FastAutoAugment/hardness_measures.py\u001b[0m in \u001b[0;36m__call__\u001b[0;34m(self, model, embeddings, targets)\u001b[0m\n\u001b[1;32m     23\u001b[0m         \u001b[0mtargets\u001b[0m \u001b[0;34m=\u001b[0m \u001b[0mtargets\u001b[0m\u001b[0;34m.\u001b[0m\u001b[0mlong\u001b[0m\u001b[0;34m(\u001b[0m\u001b[0;34m)\u001b[0m\u001b[0;34m\u001b[0m\u001b[0;34m\u001b[0m\u001b[0m\n\u001b[1;32m     24\u001b[0m \u001b[0;34m\u001b[0m\u001b[0m\n\u001b[0;32m---> 25\u001b[0;31m         \u001b[0mnum\u001b[0m \u001b[0;34m=\u001b[0m \u001b[0mcos\u001b[0m\u001b[0;34m(\u001b[0m\u001b[0membeddings\u001b[0m\u001b[0;34m,\u001b[0m \u001b[0mweight_matrix\u001b[0m\u001b[0;34m[\u001b[0m\u001b[0mtargets\u001b[0m\u001b[0;34m]\u001b[0m\u001b[0;34m)\u001b[0m\u001b[0;34m\u001b[0m\u001b[0;34m\u001b[0m\u001b[0m\n\u001b[0m\u001b[1;32m     26\u001b[0m         \u001b[0mnum\u001b[0m \u001b[0;34m=\u001b[0m \u001b[0mtorch\u001b[0m\u001b[0;34m.\u001b[0m\u001b[0mclamp\u001b[0m\u001b[0;34m(\u001b[0m\u001b[0mnum\u001b[0m\u001b[0;34m,\u001b[0m \u001b[0mmin\u001b[0m\u001b[0;34m=\u001b[0m\u001b[0;34m-\u001b[0m\u001b[0;36m1\u001b[0m\u001b[0;34m,\u001b[0m \u001b[0mmax\u001b[0m\u001b[0;34m=\u001b[0m\u001b[0;36m1\u001b[0m\u001b[0;34m)\u001b[0m\u001b[0;34m\u001b[0m\u001b[0;34m\u001b[0m\u001b[0m\n\u001b[1;32m     27\u001b[0m         \u001b[0mnum\u001b[0m \u001b[0;34m=\u001b[0m \u001b[0mtorch\u001b[0m\u001b[0;34m.\u001b[0m\u001b[0macos\u001b[0m\u001b[0;34m(\u001b[0m\u001b[0mnum\u001b[0m\u001b[0;34m)\u001b[0m\u001b[0;34m\u001b[0m\u001b[0;34m\u001b[0m\u001b[0m\n",
      "\u001b[0;31mRuntimeError\u001b[0m: CUDA out of memory. Tried to allocate 124.00 MiB (GPU 0; 7.44 GiB total capacity; 667.95 MiB already allocated; 49.00 MiB free; 730.00 MiB reserved in total by PyTorch)"
     ]
    }
   ],
   "source": [
    "unaugmented_hardness = avh(model=model, embeddings=torch.cat(all_embeddings), \n",
    "                           targets=torch.cat(all_labels))"
   ]
  },
  {
   "cell_type": "code",
   "execution_count": null,
   "metadata": {},
   "outputs": [],
   "source": [
    "unaugmented_hardness = unaugmented_hardness.cpu().numpy()\n",
    "all_indices = torch.cat(all_indices).cpu().numpy()"
   ]
  },
  {
   "cell_type": "code",
   "execution_count": null,
   "metadata": {},
   "outputs": [],
   "source": [
    "combined = list(zip(*sorted(zip(unaugmented_hardness, all_indices))))"
   ]
  },
  {
   "cell_type": "code",
   "execution_count": null,
   "metadata": {},
   "outputs": [],
   "source": [
    "sorted_indices = list(combined[1])"
   ]
  },
  {
   "cell_type": "code",
   "execution_count": null,
   "metadata": {},
   "outputs": [],
   "source": [
    "easy_indices = sorted_indices[0:50]\n",
    "hard_indices = sorted_indices[-50:]"
   ]
  },
  {
   "cell_type": "code",
   "execution_count": null,
   "metadata": {},
   "outputs": [],
   "source": [
    "def process(model, dataloader):\n",
    "    all_preds = []\n",
    "    all_embeddings = []\n",
    "    all_labels = []\n",
    "    all_indices = []\n",
    "    with torch.no_grad():\n",
    "        model.eval()\n",
    "        loader = tqdm(dataloader, disable=False)\n",
    "        for i, (data, label, index) in enumerate(loader):\n",
    "            data, label = data.cuda(), label.cuda()\n",
    "            preds, embeddings = model(data)\n",
    "\n",
    "            all_preds.append(preds)\n",
    "            all_embeddings.append(embeddings)\n",
    "            all_labels.append(label)\n",
    "            all_indices.append(index)\n",
    "            top1, top5 = accuracy(preds, label, (1, 5))\n",
    "            if i%1000==0:\n",
    "                print(\"top1\", top1, \"top5\", top5)\n",
    "        del data, label, index, preds, embeddings\n",
    "    \n",
    "    avh = AVH()\n",
    "    hardness_scores = avh(model=model, embeddings=torch.cat(all_embeddings), \n",
    "                           targets=torch.cat(all_labels))\n",
    "    return hardness_scores"
   ]
  },
  {
   "cell_type": "code",
   "execution_count": null,
   "metadata": {},
   "outputs": [],
   "source": [
    "policy_hardness_scores = []\n",
    "for i in range(10):\n",
    "    policy_hardness_scores.append(process(model, policy_dataloaders[i]))"
   ]
  },
  {
   "cell_type": "code",
   "execution_count": null,
   "metadata": {},
   "outputs": [],
   "source": [
    "len(policy_hardness_scores)"
   ]
  },
  {
   "cell_type": "code",
   "execution_count": null,
   "metadata": {},
   "outputs": [],
   "source": [
    "easy_hardness_scores = []\n",
    "hard_hardness_scores = []\n",
    "unaugmented_easy_hardness_scores = unaugmented_hardness[easy_indices]\n",
    "unaugmented_hard_hardness_scores = unaugmented_hardness[hard_indices]\n",
    "for hardness_scores in policy_hardness_scores:\n",
    "    easy_hardness_scores.append(hardness_scores[easy_indices].cpu().numpy())\n",
    "    hard_hardness_scores.append(hardness_scores[hard_indices].cpu().numpy())"
   ]
  },
  {
   "cell_type": "code",
   "execution_count": null,
   "metadata": {},
   "outputs": [],
   "source": [
    "easy_hardness_scores = np.array(easy_hardness_scores)\n",
    "hard_hardness_scores = np.array(hard_hardness_scores)"
   ]
  },
  {
   "cell_type": "code",
   "execution_count": null,
   "metadata": {},
   "outputs": [],
   "source": [
    "easy_hardness_scores.mean(axis=1)"
   ]
  },
  {
   "cell_type": "code",
   "execution_count": null,
   "metadata": {},
   "outputs": [],
   "source": [
    "easy_hardness_scores.std(axis=1)"
   ]
  },
  {
   "cell_type": "code",
   "execution_count": null,
   "metadata": {},
   "outputs": [],
   "source": [
    "hard_hardness_scores.mean(axis=1)"
   ]
  },
  {
   "cell_type": "code",
   "execution_count": null,
   "metadata": {},
   "outputs": [],
   "source": [
    "hard_hardness_scores.std(axis=1)"
   ]
  },
  {
   "cell_type": "code",
   "execution_count": null,
   "metadata": {},
   "outputs": [],
   "source": [
    "policy_mean_easy = easy_hardness_scores.mean(axis=0)"
   ]
  },
  {
   "cell_type": "code",
   "execution_count": null,
   "metadata": {},
   "outputs": [],
   "source": [
    "policy_std_easy = easy_hardness_scores.std(axis=0)"
   ]
  },
  {
   "cell_type": "code",
   "execution_count": null,
   "metadata": {},
   "outputs": [],
   "source": [
    "policy_mean_hard = hard_hardness_scores.mean(axis=0)"
   ]
  },
  {
   "cell_type": "code",
   "execution_count": null,
   "metadata": {},
   "outputs": [],
   "source": [
    "policy_std_hard = hard_hardness_scores.std(axis=0)"
   ]
  },
  {
   "cell_type": "code",
   "execution_count": null,
   "metadata": {},
   "outputs": [],
   "source": [
    "plt.figure(figsize=(15,7))\n",
    "plt.plot(np.arange(50), unaugmented_easy_hardness_scores, color='green')\n",
    "plt.plot(np.arange(50), unaugmented_hard_hardness_scores, color='black')\n",
    "\n",
    "plt.plot(np.arange(50), policy_mean_easy, color='r')\n",
    "plt.plot(np.arange(50), policy_mean_easy-policy_std_easy, color='b')\n",
    "plt.plot(np.arange(50), policy_mean_easy+policy_std_easy, color='b')\n",
    "plt.fill_between(np.arange(50), policy_mean_easy-policy_std_easy, policy_mean_easy+policy_std_easy, color='blue', alpha=0.1)\n",
    "\n",
    "plt.plot(np.arange(50), policy_mean_hard, color='r')\n",
    "plt.plot(np.arange(50), policy_mean_hard-policy_std_hard, color='b')\n",
    "plt.plot(np.arange(50), policy_mean_hard+policy_std_hard, color='b')\n",
    "plt.fill_between(np.arange(50), policy_mean_hard-policy_std_hard, policy_mean_hard+policy_std_hard, color='blue', alpha=0.1)\n",
    "plt.ylim(0, 0.2)\n",
    "plt.xlabel('images')\n",
    "plt.ylabel('avh_scores')\n",
    "plt.legend([\"unaugmented_easy\", \"unaugmented_hard\", \"easy\", \"\", \"\", \"hard\", \"\", \"\"])\n",
    "plt.show();"
   ]
  },
  {
   "cell_type": "code",
   "execution_count": null,
   "metadata": {},
   "outputs": [],
   "source": [
    "range = (0, unaugmented_hard_hardness_scores.max()+0.05)"
   ]
  },
  {
   "cell_type": "code",
   "execution_count": null,
   "metadata": {},
   "outputs": [],
   "source": [
    "plt.hist(unaugmented_easy_hardness_scores, bins=50, align='mid', range=range)"
   ]
  },
  {
   "cell_type": "code",
   "execution_count": null,
   "metadata": {},
   "outputs": [],
   "source": [
    "plt.hist(unaugmented_hard_hardness_scores, bins=50, align='mid', range=range)"
   ]
  },
  {
   "cell_type": "code",
   "execution_count": null,
   "metadata": {},
   "outputs": [],
   "source": [
    "plt.hist(policy_mean_easy, bins=50, align='mid', range=range)"
   ]
  },
  {
   "cell_type": "code",
   "execution_count": null,
   "metadata": {},
   "outputs": [],
   "source": [
    "plt.hist(policy_mean_hard, bins=50, align='mid', range=range)"
   ]
  },
  {
   "cell_type": "code",
   "execution_count": null,
   "metadata": {},
   "outputs": [],
   "source": [
    "plt.hist(unaugmented_easy_hardness_scores, bins=50, align='mid')\n",
    "plt.hist(unaugmented_hard_hardness_scores, bins=50, align='mid')\n",
    "plt.hist(policy_mean_easy, bins=50, align='mid')\n",
    "plt.hist(policy_mean_hard, bins=50, align='mid')\n",
    "plt.hist(policy_std_easy, bins=50, align='mid')\n",
    "plt.hist(policy_std_hard, bins=50, align='mid')\n",
    "plt.ylabel('number of images')\n",
    "plt.xlabel('avh')\n",
    "plt.legend([\"unaugmented_easy\", \"unaugmented_hard\", \"augmented_easy\", \"augmented_hard\", \"std_easy\", \"std_hard\"])"
   ]
  },
  {
   "cell_type": "code",
   "execution_count": null,
   "metadata": {},
   "outputs": [],
   "source": [
    "difference_easy = policy_mean_easy - unaugmented_easy_hardness_scores\n",
    "difference_hard = policy_mean_hard - unaugmented_hard_hardness_scores"
   ]
  },
  {
   "cell_type": "code",
   "execution_count": null,
   "metadata": {},
   "outputs": [],
   "source": [
    "plt.plot(np.arange(50), difference_easy)\n",
    "plt.plot(np.arange(50), difference_hard)\n",
    "plt.legend([\"difference_easy\", \"difference_hard\"])\n",
    "plt.xlabel('images')\n",
    "plt.ylabel('(augmented_avh - unaugmented_avh)')\n",
    "plt.show();"
   ]
  },
  {
   "cell_type": "code",
   "execution_count": null,
   "metadata": {},
   "outputs": [],
   "source": [
    "plt.hist(difference_easy, bins=50)\n",
    "plt.hist(difference_hard, bins=50)\n",
    "plt.legend([\"difference_easy\", \"difference_hard\"])\n",
    "plt.ylabel('number of images')\n",
    "plt.xlabel('(augmented_avh - unaugmented_avh)')\n",
    "plt.show();"
   ]
  },
  {
   "cell_type": "code",
   "execution_count": null,
   "metadata": {},
   "outputs": [],
   "source": [
    "print(\"Differnce_easy\", \"mean\", difference_easy.mean(), \"std\", difference_easy.std())"
   ]
  },
  {
   "cell_type": "code",
   "execution_count": null,
   "metadata": {},
   "outputs": [],
   "source": [
    "print(\"Differnce_hard\", \"mean\", difference_hard.mean(), \"std\", difference_hard.std())"
   ]
  },
  {
   "cell_type": "code",
   "execution_count": null,
   "metadata": {},
   "outputs": [],
   "source": []
  },
  {
   "cell_type": "code",
   "execution_count": null,
   "metadata": {},
   "outputs": [],
   "source": []
  },
  {
   "cell_type": "code",
   "execution_count": 140,
   "metadata": {},
   "outputs": [
    {
     "name": "stderr",
     "output_type": "stream",
     "text": [
      "  0%|          | 3/3125 [00:00<02:09, 24.17it/s]"
     ]
    },
    {
     "name": "stdout",
     "output_type": "stream",
     "text": [
      "top1 tensor(0.1250, device='cuda:0') top5 tensor(0.6875, device='cuda:0')\n"
     ]
    },
    {
     "name": "stderr",
     "output_type": "stream",
     "text": [
      "  3%|▎         | 104/3125 [00:05<02:36, 19.31it/s]"
     ]
    },
    {
     "name": "stdout",
     "output_type": "stream",
     "text": [
      "top1 tensor(0.0625, device='cuda:0') top5 tensor(0.5625, device='cuda:0')\n"
     ]
    },
    {
     "name": "stderr",
     "output_type": "stream",
     "text": [
      "  7%|▋         | 204/3125 [00:10<02:31, 19.33it/s]"
     ]
    },
    {
     "name": "stdout",
     "output_type": "stream",
     "text": [
      "top1 tensor(0., device='cuda:0') top5 tensor(0.2500, device='cuda:0')\n"
     ]
    },
    {
     "name": "stderr",
     "output_type": "stream",
     "text": [
      " 10%|▉         | 304/3125 [00:15<02:26, 19.32it/s]"
     ]
    },
    {
     "name": "stdout",
     "output_type": "stream",
     "text": [
      "top1 tensor(0.1875, device='cuda:0') top5 tensor(0.4375, device='cuda:0')\n"
     ]
    },
    {
     "name": "stderr",
     "output_type": "stream",
     "text": [
      " 13%|█▎        | 404/3125 [00:20<02:20, 19.31it/s]"
     ]
    },
    {
     "name": "stdout",
     "output_type": "stream",
     "text": [
      "top1 tensor(0.0625, device='cuda:0') top5 tensor(0.5625, device='cuda:0')\n"
     ]
    },
    {
     "name": "stderr",
     "output_type": "stream",
     "text": [
      " 16%|█▌        | 504/3125 [00:25<02:15, 19.31it/s]"
     ]
    },
    {
     "name": "stdout",
     "output_type": "stream",
     "text": [
      "top1 tensor(0.0625, device='cuda:0') top5 tensor(0.1875, device='cuda:0')\n"
     ]
    },
    {
     "name": "stderr",
     "output_type": "stream",
     "text": [
      " 19%|█▉        | 604/3125 [00:30<02:10, 19.31it/s]"
     ]
    },
    {
     "name": "stdout",
     "output_type": "stream",
     "text": [
      "top1 tensor(0.0625, device='cuda:0') top5 tensor(0.6250, device='cuda:0')\n"
     ]
    },
    {
     "name": "stderr",
     "output_type": "stream",
     "text": [
      " 23%|██▎       | 704/3125 [00:35<02:05, 19.31it/s]"
     ]
    },
    {
     "name": "stdout",
     "output_type": "stream",
     "text": [
      "top1 tensor(0.1250, device='cuda:0') top5 tensor(0.3125, device='cuda:0')\n"
     ]
    },
    {
     "name": "stderr",
     "output_type": "stream",
     "text": [
      " 26%|██▌       | 804/3125 [00:40<02:00, 19.30it/s]"
     ]
    },
    {
     "name": "stdout",
     "output_type": "stream",
     "text": [
      "top1 tensor(0.1250, device='cuda:0') top5 tensor(0.4375, device='cuda:0')\n"
     ]
    },
    {
     "name": "stderr",
     "output_type": "stream",
     "text": [
      " 29%|██▉       | 904/3125 [00:46<01:55, 19.30it/s]"
     ]
    },
    {
     "name": "stdout",
     "output_type": "stream",
     "text": [
      "top1 tensor(0.1875, device='cuda:0') top5 tensor(0.6250, device='cuda:0')\n"
     ]
    },
    {
     "name": "stderr",
     "output_type": "stream",
     "text": [
      " 32%|███▏      | 1004/3125 [00:51<01:49, 19.31it/s]"
     ]
    },
    {
     "name": "stdout",
     "output_type": "stream",
     "text": [
      "top1 tensor(0.1250, device='cuda:0') top5 tensor(0.5000, device='cuda:0')\n"
     ]
    },
    {
     "name": "stderr",
     "output_type": "stream",
     "text": [
      " 35%|███▌      | 1104/3125 [00:56<01:44, 19.31it/s]"
     ]
    },
    {
     "name": "stdout",
     "output_type": "stream",
     "text": [
      "top1 tensor(0.0625, device='cuda:0') top5 tensor(0.5000, device='cuda:0')\n"
     ]
    },
    {
     "name": "stderr",
     "output_type": "stream",
     "text": [
      " 39%|███▊      | 1204/3125 [01:01<01:39, 19.31it/s]"
     ]
    },
    {
     "name": "stdout",
     "output_type": "stream",
     "text": [
      "top1 tensor(0.0625, device='cuda:0') top5 tensor(0.8125, device='cuda:0')\n"
     ]
    },
    {
     "name": "stderr",
     "output_type": "stream",
     "text": [
      " 42%|████▏     | 1304/3125 [01:06<01:34, 19.31it/s]"
     ]
    },
    {
     "name": "stdout",
     "output_type": "stream",
     "text": [
      "top1 tensor(0.1250, device='cuda:0') top5 tensor(0.5625, device='cuda:0')\n"
     ]
    },
    {
     "name": "stderr",
     "output_type": "stream",
     "text": [
      " 45%|████▍     | 1404/3125 [01:11<01:29, 19.31it/s]"
     ]
    },
    {
     "name": "stdout",
     "output_type": "stream",
     "text": [
      "top1 tensor(0.0625, device='cuda:0') top5 tensor(0.3750, device='cuda:0')\n"
     ]
    },
    {
     "name": "stderr",
     "output_type": "stream",
     "text": [
      " 48%|████▊     | 1504/3125 [01:16<01:23, 19.30it/s]"
     ]
    },
    {
     "name": "stdout",
     "output_type": "stream",
     "text": [
      "top1 tensor(0.0625, device='cuda:0') top5 tensor(0.6250, device='cuda:0')\n"
     ]
    },
    {
     "name": "stderr",
     "output_type": "stream",
     "text": [
      " 51%|█████▏    | 1604/3125 [01:21<01:18, 19.31it/s]"
     ]
    },
    {
     "name": "stdout",
     "output_type": "stream",
     "text": [
      "top1 tensor(0.1250, device='cuda:0') top5 tensor(0.6250, device='cuda:0')\n"
     ]
    },
    {
     "name": "stderr",
     "output_type": "stream",
     "text": [
      " 55%|█████▍    | 1704/3125 [01:26<01:13, 19.29it/s]"
     ]
    },
    {
     "name": "stdout",
     "output_type": "stream",
     "text": [
      "top1 tensor(0.1250, device='cuda:0') top5 tensor(0.5625, device='cuda:0')\n"
     ]
    },
    {
     "name": "stderr",
     "output_type": "stream",
     "text": [
      " 58%|█████▊    | 1804/3125 [01:31<01:08, 19.31it/s]"
     ]
    },
    {
     "name": "stdout",
     "output_type": "stream",
     "text": [
      "top1 tensor(0.1250, device='cuda:0') top5 tensor(0.5625, device='cuda:0')\n"
     ]
    },
    {
     "name": "stderr",
     "output_type": "stream",
     "text": [
      " 61%|██████    | 1904/3125 [01:36<01:03, 19.31it/s]"
     ]
    },
    {
     "name": "stdout",
     "output_type": "stream",
     "text": [
      "top1 tensor(0.0625, device='cuda:0') top5 tensor(0.5000, device='cuda:0')\n"
     ]
    },
    {
     "name": "stderr",
     "output_type": "stream",
     "text": [
      " 64%|██████▍   | 2004/3125 [01:42<00:58, 19.30it/s]"
     ]
    },
    {
     "name": "stdout",
     "output_type": "stream",
     "text": [
      "top1 tensor(0.2500, device='cuda:0') top5 tensor(0.6875, device='cuda:0')\n"
     ]
    },
    {
     "name": "stderr",
     "output_type": "stream",
     "text": [
      " 67%|██████▋   | 2104/3125 [01:47<00:52, 19.30it/s]"
     ]
    },
    {
     "name": "stdout",
     "output_type": "stream",
     "text": [
      "top1 tensor(0.1250, device='cuda:0') top5 tensor(0.5625, device='cuda:0')\n"
     ]
    },
    {
     "name": "stderr",
     "output_type": "stream",
     "text": [
      " 71%|███████   | 2204/3125 [01:52<00:47, 19.31it/s]"
     ]
    },
    {
     "name": "stdout",
     "output_type": "stream",
     "text": [
      "top1 tensor(0.0625, device='cuda:0') top5 tensor(0.3750, device='cuda:0')\n"
     ]
    },
    {
     "name": "stderr",
     "output_type": "stream",
     "text": [
      " 74%|███████▎  | 2304/3125 [01:57<00:42, 19.30it/s]"
     ]
    },
    {
     "name": "stdout",
     "output_type": "stream",
     "text": [
      "top1 tensor(0.0625, device='cuda:0') top5 tensor(0.3750, device='cuda:0')\n"
     ]
    },
    {
     "name": "stderr",
     "output_type": "stream",
     "text": [
      " 77%|███████▋  | 2404/3125 [02:02<00:37, 19.30it/s]"
     ]
    },
    {
     "name": "stdout",
     "output_type": "stream",
     "text": [
      "top1 tensor(0.1250, device='cuda:0') top5 tensor(0.5000, device='cuda:0')\n"
     ]
    },
    {
     "name": "stderr",
     "output_type": "stream",
     "text": [
      " 80%|████████  | 2504/3125 [02:07<00:32, 19.30it/s]"
     ]
    },
    {
     "name": "stdout",
     "output_type": "stream",
     "text": [
      "top1 tensor(0.0625, device='cuda:0') top5 tensor(0.6250, device='cuda:0')\n"
     ]
    },
    {
     "name": "stderr",
     "output_type": "stream",
     "text": [
      " 83%|████████▎ | 2604/3125 [02:12<00:26, 19.30it/s]"
     ]
    },
    {
     "name": "stdout",
     "output_type": "stream",
     "text": [
      "top1 tensor(0.1250, device='cuda:0') top5 tensor(0.6250, device='cuda:0')\n"
     ]
    },
    {
     "name": "stderr",
     "output_type": "stream",
     "text": [
      " 87%|████████▋ | 2704/3125 [02:17<00:21, 19.30it/s]"
     ]
    },
    {
     "name": "stdout",
     "output_type": "stream",
     "text": [
      "top1 tensor(0.1250, device='cuda:0') top5 tensor(0.6250, device='cuda:0')\n"
     ]
    },
    {
     "name": "stderr",
     "output_type": "stream",
     "text": [
      " 90%|████████▉ | 2804/3125 [02:22<00:16, 19.30it/s]"
     ]
    },
    {
     "name": "stdout",
     "output_type": "stream",
     "text": [
      "top1 tensor(0.1875, device='cuda:0') top5 tensor(0.3750, device='cuda:0')\n"
     ]
    },
    {
     "name": "stderr",
     "output_type": "stream",
     "text": [
      " 93%|█████████▎| 2904/3125 [02:27<00:11, 19.31it/s]"
     ]
    },
    {
     "name": "stdout",
     "output_type": "stream",
     "text": [
      "top1 tensor(0., device='cuda:0') top5 tensor(0.5000, device='cuda:0')\n"
     ]
    },
    {
     "name": "stderr",
     "output_type": "stream",
     "text": [
      " 96%|█████████▌| 3004/3125 [02:33<00:06, 19.29it/s]"
     ]
    },
    {
     "name": "stdout",
     "output_type": "stream",
     "text": [
      "top1 tensor(0.1250, device='cuda:0') top5 tensor(0.6250, device='cuda:0')\n"
     ]
    },
    {
     "name": "stderr",
     "output_type": "stream",
     "text": [
      " 99%|█████████▉| 3104/3125 [02:38<00:01, 19.29it/s]"
     ]
    },
    {
     "name": "stdout",
     "output_type": "stream",
     "text": [
      "top1 tensor(0.1250, device='cuda:0') top5 tensor(0.6250, device='cuda:0')\n"
     ]
    },
    {
     "name": "stderr",
     "output_type": "stream",
     "text": [
      "100%|██████████| 3125/3125 [02:39<00:00, 19.63it/s]\n"
     ]
    }
   ],
   "source": [
    "all_preds = []\n",
    "all_embeddings = []\n",
    "all_labels = []\n",
    "all_indices = []\n",
    "with torch.no_grad():\n",
    "    model.eval()\n",
    "    loader = tqdm(basic_dataloader, disable=False)\n",
    "    for i, (data, label, index) in enumerate(loader):\n",
    "        data, label = data.cuda(), label.cuda()\n",
    "        preds, embeddings = model(data)\n",
    "\n",
    "        all_preds.append(preds)\n",
    "        all_embeddings.append(embeddings)\n",
    "        all_labels.append(label)\n",
    "        all_indices.append(index)\n",
    "        top1, top5 = accuracy(preds, label, (1, 5))\n",
    "        if i%100==0:\n",
    "            print(\"top1\", top1, \"top5\", top5)\n",
    "    del data, label, index, preds, embeddings"
   ]
  },
  {
   "cell_type": "code",
   "execution_count": 143,
   "metadata": {},
   "outputs": [],
   "source": [
    "augmented_hardness = avh(model=model, embeddings=torch.cat(all_embeddings), \n",
    "                           targets=torch.cat(all_labels))"
   ]
  },
  {
   "cell_type": "code",
   "execution_count": 144,
   "metadata": {},
   "outputs": [],
   "source": [
    "augmented_hardness = unaugmented_hardness.cpu().numpy()\n",
    "all_indices = torch.cat(all_indices).cpu().numpy()"
   ]
  },
  {
   "cell_type": "code",
   "execution_count": null,
   "metadata": {},
   "outputs": [],
   "source": []
  }
 ],
 "metadata": {
  "kernelspec": {
   "display_name": "FA",
   "language": "python",
   "name": "fa"
  },
  "language_info": {
   "codemirror_mode": {
    "name": "ipython",
    "version": 3
   },
   "file_extension": ".py",
   "mimetype": "text/x-python",
   "name": "python",
   "nbconvert_exporter": "python",
   "pygments_lexer": "ipython3",
   "version": "3.7.7"
  }
 },
 "nbformat": 4,
 "nbformat_minor": 4
}
