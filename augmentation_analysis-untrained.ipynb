{
 "cells": [
  {
   "cell_type": "code",
   "execution_count": 1,
   "metadata": {},
   "outputs": [],
   "source": [
    "import sys\n",
    "sys.path.append('/home/ubuntu/fast-autoaugment')\n",
    "import torch\n",
    "from torch.nn.parallel.data_parallel import DataParallel\n",
    "from torch.nn.parallel import DistributedDataParallel\n",
    "from FastAutoAugment.networks import get_model\n",
    "from theconf import Config as C\n",
    "import random\n",
    "import copy\n",
    "from torchvision.transforms import transforms\n",
    "import multiprocessing as mp\n",
    "from tqdm import tqdm\n",
    "import matplotlib.pyplot as plt\n",
    "\n",
    "from FastAutoAugment.datasets import CIFAR10_mod \n",
    "from FastAutoAugment.metrics import accuracy\n",
    "from FastAutoAugment.hardness_measures import AVH\n",
    "from FastAutoAugment.augmentations import *"
   ]
  },
  {
   "cell_type": "code",
   "execution_count": 2,
   "metadata": {},
   "outputs": [],
   "source": [
    "_ = C('/home/ubuntu/fast-autoaugment/confs/test.yaml')"
   ]
  },
  {
   "cell_type": "code",
   "execution_count": 4,
   "metadata": {},
   "outputs": [],
   "source": [
    "untrained_model = get_model(C.get()['model'], 10, local_rank=-1)\n"
   ]
  },
  {
   "cell_type": "code",
   "execution_count": 5,
   "metadata": {},
   "outputs": [],
   "source": [
    "augmentations = [\"ShearX\", \"ShearY\", \"Rotate\", \"AutoContrast\", \"Invert\", \n",
    "                 \"Equalize\", \"Solarize\", \"Contrast\", \"Color\", \"Brightness\", \n",
    "                 \"Sharpness\", \"Posterize2\", \"TranslateXAbs\", \"TranslateYAbs\"]"
   ]
  },
  {
   "cell_type": "code",
   "execution_count": 6,
   "metadata": {},
   "outputs": [],
   "source": [
    "policy = []\n",
    "for i in range(10):\n",
    "    policy.append([(aug, 0.5, 'random') for aug in random.sample(augmentations, 5)])"
   ]
  },
  {
   "cell_type": "code",
   "execution_count": 8,
   "metadata": {},
   "outputs": [],
   "source": [
    "policy = [[('Contrast', 0.5, 'random'),\n",
    "  ('Rotate', 0.5, 'random'),\n",
    "  ('TranslateXAbs', 0.5, 'random'),\n",
    "  ('Solarize', 0.5, 'random'),\n",
    "  ('Invert', 0.5, 'random')],\n",
    " [('Rotate', 0.5, 'random'),\n",
    "  ('ShearX', 0.5, 'random'),\n",
    "  ('TranslateXAbs', 0.5, 'random'),\n",
    "  ('TranslateYAbs', 0.5, 'random'),\n",
    "  ('ShearY', 0.5, 'random')],\n",
    " [('Solarize', 0.5, 'random'),\n",
    "  ('Sharpness', 0.5, 'random'),\n",
    "  ('Rotate', 0.5, 'random'),\n",
    "  ('TranslateYAbs', 0.5, 'random'),\n",
    "  ('Posterize2', 0.5, 'random')],\n",
    " [('TranslateYAbs', 0.5, 'random'),\n",
    "  ('TranslateXAbs', 0.5, 'random'),\n",
    "  ('AutoContrast', 0.5, 'random'),\n",
    "  ('Posterize2', 0.5, 'random'),\n",
    "  ('Solarize', 0.5, 'random')],\n",
    " [('TranslateYAbs', 0.5, 'random'),\n",
    "  ('ShearY', 0.5, 'random'),\n",
    "  ('Invert', 0.5, 'random'),\n",
    "  ('Contrast', 0.5, 'random'),\n",
    "  ('TranslateXAbs', 0.5, 'random')],\n",
    " [('ShearX', 0.5, 'random'),\n",
    "  ('Rotate', 0.5, 'random'),\n",
    "  ('Invert', 0.5, 'random'),\n",
    "  ('TranslateYAbs', 0.5, 'random'),\n",
    "  ('ShearY', 0.5, 'random')],\n",
    " [('Solarize', 0.5, 'random'),\n",
    "  ('AutoContrast', 0.5, 'random'),\n",
    "  ('Color', 0.5, 'random'),\n",
    "  ('Posterize2', 0.5, 'random'),\n",
    "  ('Brightness', 0.5, 'random')],\n",
    " [('ShearY', 0.5, 'random'),\n",
    "  ('Contrast', 0.5, 'random'),\n",
    "  ('ShearX', 0.5, 'random'),\n",
    "  ('TranslateYAbs', 0.5, 'random'),\n",
    "  ('TranslateXAbs', 0.5, 'random')],\n",
    " [('Solarize', 0.5, 'random'),\n",
    "  ('Color', 0.5, 'random'),\n",
    "  ('Brightness', 0.5, 'random'),\n",
    "  ('TranslateXAbs', 0.5, 'random'),\n",
    "  ('Equalize', 0.5, 'random')],\n",
    " [('Brightness', 0.5, 'random'),\n",
    "  ('Solarize', 0.5, 'random'),\n",
    "  ('ShearX', 0.5, 'random'),\n",
    "  ('Equalize', 0.5, 'random'),\n",
    "  ('Invert', 0.5, 'random')]]"
   ]
  },
  {
   "cell_type": "code",
   "execution_count": 9,
   "metadata": {},
   "outputs": [],
   "source": [
    "class Augmentation2(object):\n",
    "    def __init__(self, policies):\n",
    "        self.policies = policies\n",
    "\n",
    "    def __call__(self, img, hardness_score=None):\n",
    "        for name, pr, level in self.policies:\n",
    "            if random.random() > pr:\n",
    "                continue\n",
    "            if level == 'random':\n",
    "                level = random.choice(range(10))*0.1\n",
    "            img = apply_augment(img, name, level)\n",
    "        return img"
   ]
  },
  {
   "cell_type": "code",
   "execution_count": 10,
   "metadata": {},
   "outputs": [],
   "source": [
    "_CIFAR_MEAN, _CIFAR_STD = (0.4914, 0.4822, 0.4465), (0.2023, 0.1994, 0.2010)\n",
    "dataroot = \"data\""
   ]
  },
  {
   "cell_type": "code",
   "execution_count": 11,
   "metadata": {},
   "outputs": [
    {
     "name": "stdout",
     "output_type": "stream",
     "text": [
      "Files already downloaded and verified\n"
     ]
    }
   ],
   "source": [
    "basic_transform = transforms.Compose([\n",
    "            transforms.RandomCrop(32, padding=4),\n",
    "            transforms.RandomHorizontalFlip(),\n",
    "            transforms.ToTensor(),\n",
    "            transforms.Normalize(_CIFAR_MEAN, _CIFAR_STD),\n",
    "        ])\n",
    "basic_dataset = CIFAR10_mod(root=dataroot, train=True, download=True, transform=basic_transform)"
   ]
  },
  {
   "cell_type": "code",
   "execution_count": 12,
   "metadata": {},
   "outputs": [],
   "source": [
    "policy_transforms = []\n",
    "for i in range(10):\n",
    "    transform = copy.deepcopy(basic_transform)\n",
    "    transform.transforms.insert(0, Augmentation2(policy[i]))\n",
    "    policy_transforms.append(transform)"
   ]
  },
  {
   "cell_type": "code",
   "execution_count": 13,
   "metadata": {},
   "outputs": [
    {
     "data": {
      "text/plain": [
       "[<__main__.Augmentation2 at 0x7f337e2d3b10>,\n",
       " RandomCrop(size=(32, 32), padding=4),\n",
       " RandomHorizontalFlip(p=0.5),\n",
       " ToTensor(),\n",
       " Normalize(mean=(0.4914, 0.4822, 0.4465), std=(0.2023, 0.1994, 0.201))]"
      ]
     },
     "execution_count": 13,
     "metadata": {},
     "output_type": "execute_result"
    }
   ],
   "source": [
    "policy_transforms[0].transforms"
   ]
  },
  {
   "cell_type": "code",
   "execution_count": 14,
   "metadata": {},
   "outputs": [
    {
     "data": {
      "text/plain": [
       "[<__main__.Augmentation2 at 0x7f337e2d3fd0>,\n",
       " RandomCrop(size=(32, 32), padding=4),\n",
       " RandomHorizontalFlip(p=0.5),\n",
       " ToTensor(),\n",
       " Normalize(mean=(0.4914, 0.4822, 0.4465), std=(0.2023, 0.1994, 0.201))]"
      ]
     },
     "execution_count": 14,
     "metadata": {},
     "output_type": "execute_result"
    }
   ],
   "source": [
    "policy_transforms[1].transforms"
   ]
  },
  {
   "cell_type": "code",
   "execution_count": 15,
   "metadata": {},
   "outputs": [
    {
     "name": "stdout",
     "output_type": "stream",
     "text": [
      "Files already downloaded and verified\n",
      "Files already downloaded and verified\n",
      "Files already downloaded and verified\n",
      "Files already downloaded and verified\n",
      "Files already downloaded and verified\n",
      "Files already downloaded and verified\n",
      "Files already downloaded and verified\n",
      "Files already downloaded and verified\n",
      "Files already downloaded and verified\n",
      "Files already downloaded and verified\n"
     ]
    }
   ],
   "source": [
    "policy_datasets = []\n",
    "for i in range(10):\n",
    "    policy_datasets.append(CIFAR10_mod(root=dataroot, train=True, download=True, transform=policy_transforms[i]))"
   ]
  },
  {
   "cell_type": "code",
   "execution_count": 17,
   "metadata": {},
   "outputs": [],
   "source": [
    "basic_dataloader = torch.utils.data.DataLoader(basic_dataset, batch_size=16, shuffle=False, num_workers=0, drop_last=False)\n",
    "policy_dataloaders = []\n",
    "for i in range(10):\n",
    "    policy_dataloaders.append(torch.utils.data.DataLoader(\n",
    "        policy_datasets[i], batch_size=16, shuffle=False, \n",
    "        num_workers=0, drop_last=False))"
   ]
  },
  {
   "cell_type": "code",
   "execution_count": 18,
   "metadata": {},
   "outputs": [
    {
     "name": "stderr",
     "output_type": "stream",
     "text": [
      "  0%|          | 4/3125 [00:01<53:18,  1.02s/it]  "
     ]
    },
    {
     "name": "stdout",
     "output_type": "stream",
     "text": [
      "top1 tensor(0.0625, device='cuda:0') top5 tensor(0.5625, device='cuda:0')\n"
     ]
    },
    {
     "name": "stderr",
     "output_type": "stream",
     "text": [
      "  3%|▎         | 104/3125 [00:06<02:35, 19.48it/s]"
     ]
    },
    {
     "name": "stdout",
     "output_type": "stream",
     "text": [
      "top1 tensor(0.0625, device='cuda:0') top5 tensor(0.6875, device='cuda:0')\n"
     ]
    },
    {
     "name": "stderr",
     "output_type": "stream",
     "text": [
      "  7%|▋         | 204/3125 [00:11<02:29, 19.51it/s]"
     ]
    },
    {
     "name": "stdout",
     "output_type": "stream",
     "text": [
      "top1 tensor(0., device='cuda:0') top5 tensor(0.3750, device='cuda:0')\n"
     ]
    },
    {
     "name": "stderr",
     "output_type": "stream",
     "text": [
      " 10%|▉         | 304/3125 [00:16<02:24, 19.46it/s]"
     ]
    },
    {
     "name": "stdout",
     "output_type": "stream",
     "text": [
      "top1 tensor(0.0625, device='cuda:0') top5 tensor(0.2500, device='cuda:0')\n"
     ]
    },
    {
     "name": "stderr",
     "output_type": "stream",
     "text": [
      " 13%|█▎        | 404/3125 [00:21<02:20, 19.43it/s]"
     ]
    },
    {
     "name": "stdout",
     "output_type": "stream",
     "text": [
      "top1 tensor(0.1250, device='cuda:0') top5 tensor(0.5625, device='cuda:0')\n"
     ]
    },
    {
     "name": "stderr",
     "output_type": "stream",
     "text": [
      " 16%|█▌        | 504/3125 [00:26<02:15, 19.38it/s]"
     ]
    },
    {
     "name": "stdout",
     "output_type": "stream",
     "text": [
      "top1 tensor(0.0625, device='cuda:0') top5 tensor(0.3750, device='cuda:0')\n"
     ]
    },
    {
     "name": "stderr",
     "output_type": "stream",
     "text": [
      " 19%|█▉        | 604/3125 [00:32<02:10, 19.37it/s]"
     ]
    },
    {
     "name": "stdout",
     "output_type": "stream",
     "text": [
      "top1 tensor(0.0625, device='cuda:0') top5 tensor(0.5000, device='cuda:0')\n"
     ]
    },
    {
     "name": "stderr",
     "output_type": "stream",
     "text": [
      " 23%|██▎       | 704/3125 [00:37<02:05, 19.36it/s]"
     ]
    },
    {
     "name": "stdout",
     "output_type": "stream",
     "text": [
      "top1 tensor(0.0625, device='cuda:0') top5 tensor(0.3750, device='cuda:0')\n"
     ]
    },
    {
     "name": "stderr",
     "output_type": "stream",
     "text": [
      " 26%|██▌       | 804/3125 [00:42<01:59, 19.37it/s]"
     ]
    },
    {
     "name": "stdout",
     "output_type": "stream",
     "text": [
      "top1 tensor(0.2500, device='cuda:0') top5 tensor(0.5625, device='cuda:0')\n"
     ]
    },
    {
     "name": "stderr",
     "output_type": "stream",
     "text": [
      " 29%|██▉       | 904/3125 [00:47<01:54, 19.36it/s]"
     ]
    },
    {
     "name": "stdout",
     "output_type": "stream",
     "text": [
      "top1 tensor(0.1875, device='cuda:0') top5 tensor(0.5000, device='cuda:0')\n"
     ]
    },
    {
     "name": "stderr",
     "output_type": "stream",
     "text": [
      " 32%|███▏      | 1004/3125 [00:52<01:49, 19.34it/s]"
     ]
    },
    {
     "name": "stdout",
     "output_type": "stream",
     "text": [
      "top1 tensor(0.0625, device='cuda:0') top5 tensor(0.5000, device='cuda:0')\n"
     ]
    },
    {
     "name": "stderr",
     "output_type": "stream",
     "text": [
      " 35%|███▌      | 1104/3125 [00:57<01:44, 19.36it/s]"
     ]
    },
    {
     "name": "stdout",
     "output_type": "stream",
     "text": [
      "top1 tensor(0., device='cuda:0') top5 tensor(0.5000, device='cuda:0')\n"
     ]
    },
    {
     "name": "stderr",
     "output_type": "stream",
     "text": [
      " 39%|███▊      | 1204/3125 [01:02<01:39, 19.34it/s]"
     ]
    },
    {
     "name": "stdout",
     "output_type": "stream",
     "text": [
      "top1 tensor(0.0625, device='cuda:0') top5 tensor(0.5000, device='cuda:0')\n"
     ]
    },
    {
     "name": "stderr",
     "output_type": "stream",
     "text": [
      " 42%|████▏     | 1304/3125 [01:07<01:34, 19.35it/s]"
     ]
    },
    {
     "name": "stdout",
     "output_type": "stream",
     "text": [
      "top1 tensor(0.0625, device='cuda:0') top5 tensor(0.3125, device='cuda:0')\n"
     ]
    },
    {
     "name": "stderr",
     "output_type": "stream",
     "text": [
      " 45%|████▍     | 1404/3125 [01:12<01:28, 19.36it/s]"
     ]
    },
    {
     "name": "stdout",
     "output_type": "stream",
     "text": [
      "top1 tensor(0., device='cuda:0') top5 tensor(0.5000, device='cuda:0')\n"
     ]
    },
    {
     "name": "stderr",
     "output_type": "stream",
     "text": [
      " 48%|████▊     | 1504/3125 [01:17<01:23, 19.36it/s]"
     ]
    },
    {
     "name": "stdout",
     "output_type": "stream",
     "text": [
      "top1 tensor(0., device='cuda:0') top5 tensor(0.5000, device='cuda:0')\n"
     ]
    },
    {
     "name": "stderr",
     "output_type": "stream",
     "text": [
      " 51%|█████▏    | 1604/3125 [01:23<01:18, 19.37it/s]"
     ]
    },
    {
     "name": "stdout",
     "output_type": "stream",
     "text": [
      "top1 tensor(0., device='cuda:0') top5 tensor(0.4375, device='cuda:0')\n"
     ]
    },
    {
     "name": "stderr",
     "output_type": "stream",
     "text": [
      " 55%|█████▍    | 1704/3125 [01:28<01:13, 19.36it/s]"
     ]
    },
    {
     "name": "stdout",
     "output_type": "stream",
     "text": [
      "top1 tensor(0.1250, device='cuda:0') top5 tensor(0.7500, device='cuda:0')\n"
     ]
    },
    {
     "name": "stderr",
     "output_type": "stream",
     "text": [
      " 58%|█████▊    | 1804/3125 [01:33<01:08, 19.35it/s]"
     ]
    },
    {
     "name": "stdout",
     "output_type": "stream",
     "text": [
      "top1 tensor(0.0625, device='cuda:0') top5 tensor(0.3750, device='cuda:0')\n"
     ]
    },
    {
     "name": "stderr",
     "output_type": "stream",
     "text": [
      " 61%|██████    | 1904/3125 [01:38<01:03, 19.36it/s]"
     ]
    },
    {
     "name": "stdout",
     "output_type": "stream",
     "text": [
      "top1 tensor(0.1250, device='cuda:0') top5 tensor(0.5000, device='cuda:0')\n"
     ]
    },
    {
     "name": "stderr",
     "output_type": "stream",
     "text": [
      " 64%|██████▍   | 2004/3125 [01:43<00:57, 19.36it/s]"
     ]
    },
    {
     "name": "stdout",
     "output_type": "stream",
     "text": [
      "top1 tensor(0.1250, device='cuda:0') top5 tensor(0.5625, device='cuda:0')\n"
     ]
    },
    {
     "name": "stderr",
     "output_type": "stream",
     "text": [
      " 67%|██████▋   | 2104/3125 [01:48<00:52, 19.36it/s]"
     ]
    },
    {
     "name": "stdout",
     "output_type": "stream",
     "text": [
      "top1 tensor(0.1875, device='cuda:0') top5 tensor(0.5625, device='cuda:0')\n"
     ]
    },
    {
     "name": "stderr",
     "output_type": "stream",
     "text": [
      " 71%|███████   | 2204/3125 [01:53<00:47, 19.38it/s]"
     ]
    },
    {
     "name": "stdout",
     "output_type": "stream",
     "text": [
      "top1 tensor(0.0625, device='cuda:0') top5 tensor(0.5625, device='cuda:0')\n"
     ]
    },
    {
     "name": "stderr",
     "output_type": "stream",
     "text": [
      " 74%|███████▎  | 2304/3125 [01:58<00:42, 19.40it/s]"
     ]
    },
    {
     "name": "stdout",
     "output_type": "stream",
     "text": [
      "top1 tensor(0., device='cuda:0') top5 tensor(0.3750, device='cuda:0')\n"
     ]
    },
    {
     "name": "stderr",
     "output_type": "stream",
     "text": [
      " 77%|███████▋  | 2404/3125 [02:03<00:37, 19.38it/s]"
     ]
    },
    {
     "name": "stdout",
     "output_type": "stream",
     "text": [
      "top1 tensor(0.0625, device='cuda:0') top5 tensor(0.4375, device='cuda:0')\n"
     ]
    },
    {
     "name": "stderr",
     "output_type": "stream",
     "text": [
      " 80%|████████  | 2504/3125 [02:09<00:32, 19.39it/s]"
     ]
    },
    {
     "name": "stdout",
     "output_type": "stream",
     "text": [
      "top1 tensor(0., device='cuda:0') top5 tensor(0.3125, device='cuda:0')\n"
     ]
    },
    {
     "name": "stderr",
     "output_type": "stream",
     "text": [
      " 83%|████████▎ | 2604/3125 [02:14<00:26, 19.36it/s]"
     ]
    },
    {
     "name": "stdout",
     "output_type": "stream",
     "text": [
      "top1 tensor(0.1250, device='cuda:0') top5 tensor(0.6250, device='cuda:0')\n"
     ]
    },
    {
     "name": "stderr",
     "output_type": "stream",
     "text": [
      " 87%|████████▋ | 2704/3125 [02:19<00:21, 19.38it/s]"
     ]
    },
    {
     "name": "stdout",
     "output_type": "stream",
     "text": [
      "top1 tensor(0.0625, device='cuda:0') top5 tensor(0.5000, device='cuda:0')\n"
     ]
    },
    {
     "name": "stderr",
     "output_type": "stream",
     "text": [
      " 90%|████████▉ | 2804/3125 [02:24<00:16, 19.38it/s]"
     ]
    },
    {
     "name": "stdout",
     "output_type": "stream",
     "text": [
      "top1 tensor(0.1250, device='cuda:0') top5 tensor(0.5625, device='cuda:0')\n"
     ]
    },
    {
     "name": "stderr",
     "output_type": "stream",
     "text": [
      " 93%|█████████▎| 2904/3125 [02:29<00:11, 19.37it/s]"
     ]
    },
    {
     "name": "stdout",
     "output_type": "stream",
     "text": [
      "top1 tensor(0.0625, device='cuda:0') top5 tensor(0.4375, device='cuda:0')\n"
     ]
    },
    {
     "name": "stderr",
     "output_type": "stream",
     "text": [
      " 96%|█████████▌| 3004/3125 [02:34<00:06, 19.36it/s]"
     ]
    },
    {
     "name": "stdout",
     "output_type": "stream",
     "text": [
      "top1 tensor(0.0625, device='cuda:0') top5 tensor(0.3750, device='cuda:0')\n"
     ]
    },
    {
     "name": "stderr",
     "output_type": "stream",
     "text": [
      " 99%|█████████▉| 3104/3125 [02:39<00:01, 19.34it/s]"
     ]
    },
    {
     "name": "stdout",
     "output_type": "stream",
     "text": [
      "top1 tensor(0.1250, device='cuda:0') top5 tensor(0.6875, device='cuda:0')\n"
     ]
    },
    {
     "name": "stderr",
     "output_type": "stream",
     "text": [
      "100%|██████████| 3125/3125 [02:40<00:00, 19.44it/s]\n"
     ]
    }
   ],
   "source": [
    "all_preds = []\n",
    "all_embeddings = []\n",
    "all_labels = []\n",
    "all_indices = []\n",
    "with torch.no_grad():\n",
    "    untrained_model.eval()\n",
    "    loader = tqdm(basic_dataloader, disable=False)\n",
    "    for i, (data, label, index) in enumerate(loader):\n",
    "        data, label = data.cuda(), label.cuda()\n",
    "        preds, embeddings = untrained_model(data)\n",
    "\n",
    "        all_preds.append(preds)\n",
    "        all_embeddings.append(embeddings)\n",
    "        all_labels.append(label)\n",
    "        all_indices.append(index)\n",
    "        top1, top5 = accuracy(preds, label, (1, 5))\n",
    "        if i%100==0:\n",
    "            print(\"top1\", top1, \"top5\", top5)\n",
    "    del data, label, index, preds, embeddings"
   ]
  },
  {
   "cell_type": "code",
   "execution_count": 19,
   "metadata": {},
   "outputs": [],
   "source": [
    "avh = AVH()"
   ]
  },
  {
   "cell_type": "code",
   "execution_count": 20,
   "metadata": {},
   "outputs": [],
   "source": [
    "unaugmented_hardness = avh(model=untrained_model, embeddings=torch.cat(all_embeddings), \n",
    "                           targets=torch.cat(all_labels))"
   ]
  },
  {
   "cell_type": "code",
   "execution_count": 21,
   "metadata": {},
   "outputs": [],
   "source": [
    "unaugmented_hardness = unaugmented_hardness.cpu().numpy()\n",
    "all_indices = torch.cat(all_indices).cpu().numpy()"
   ]
  },
  {
   "cell_type": "code",
   "execution_count": 22,
   "metadata": {},
   "outputs": [],
   "source": [
    "combined = list(zip(*sorted(zip(unaugmented_hardness, all_indices))))"
   ]
  },
  {
   "cell_type": "code",
   "execution_count": 23,
   "metadata": {},
   "outputs": [],
   "source": [
    "sorted_indices = list(combined[1])"
   ]
  },
  {
   "cell_type": "code",
   "execution_count": 24,
   "metadata": {},
   "outputs": [],
   "source": [
    "easy_indices = sorted_indices[0:50]\n",
    "hard_indices = sorted_indices[-50:]"
   ]
  },
  {
   "cell_type": "code",
   "execution_count": 25,
   "metadata": {},
   "outputs": [],
   "source": [
    "def process(model, dataloader):\n",
    "    all_preds = []\n",
    "    all_embeddings = []\n",
    "    all_labels = []\n",
    "    all_indices = []\n",
    "    with torch.no_grad():\n",
    "        model.eval()\n",
    "        loader = tqdm(dataloader, disable=False)\n",
    "        for i, (data, label, index) in enumerate(loader):\n",
    "            data, label = data.cuda(), label.cuda()\n",
    "            preds, embeddings = model(data)\n",
    "\n",
    "            all_preds.append(preds)\n",
    "            all_embeddings.append(embeddings)\n",
    "            all_labels.append(label)\n",
    "            all_indices.append(index)\n",
    "            top1, top5 = accuracy(preds, label, (1, 5))\n",
    "            if i%1000==0:\n",
    "                print(\"top1\", top1, \"top5\", top5)\n",
    "        del data, label, index, preds, embeddings\n",
    "    \n",
    "    avh = AVH()\n",
    "    hardness_scores = avh(model=model, embeddings=torch.cat(all_embeddings), \n",
    "                           targets=torch.cat(all_labels))\n",
    "    return hardness_scores"
   ]
  },
  {
   "cell_type": "code",
   "execution_count": 26,
   "metadata": {},
   "outputs": [
    {
     "name": "stderr",
     "output_type": "stream",
     "text": [
      "  0%|          | 3/3125 [00:00<02:10, 23.96it/s]"
     ]
    },
    {
     "name": "stdout",
     "output_type": "stream",
     "text": [
      "top1 tensor(0.0625, device='cuda:0') top5 tensor(0.5625, device='cuda:0')\n"
     ]
    },
    {
     "name": "stderr",
     "output_type": "stream",
     "text": [
      " 32%|███▏      | 1004/3125 [00:51<01:50, 19.17it/s]"
     ]
    },
    {
     "name": "stdout",
     "output_type": "stream",
     "text": [
      "top1 tensor(0.1250, device='cuda:0') top5 tensor(0.6250, device='cuda:0')\n"
     ]
    },
    {
     "name": "stderr",
     "output_type": "stream",
     "text": [
      " 64%|██████▍   | 2004/3125 [01:42<00:58, 19.13it/s]"
     ]
    },
    {
     "name": "stdout",
     "output_type": "stream",
     "text": [
      "top1 tensor(0.1875, device='cuda:0') top5 tensor(0.5625, device='cuda:0')\n"
     ]
    },
    {
     "name": "stderr",
     "output_type": "stream",
     "text": [
      " 96%|█████████▌| 3004/3125 [02:33<00:06, 19.15it/s]"
     ]
    },
    {
     "name": "stdout",
     "output_type": "stream",
     "text": [
      "top1 tensor(0.0625, device='cuda:0') top5 tensor(0.4375, device='cuda:0')\n"
     ]
    },
    {
     "name": "stderr",
     "output_type": "stream",
     "text": [
      "100%|██████████| 3125/3125 [02:39<00:00, 19.60it/s]\n",
      "  0%|          | 4/3125 [00:00<05:48,  8.95it/s]"
     ]
    },
    {
     "name": "stdout",
     "output_type": "stream",
     "text": [
      "top1 tensor(0.0625, device='cuda:0') top5 tensor(0.6875, device='cuda:0')\n"
     ]
    },
    {
     "name": "stderr",
     "output_type": "stream",
     "text": [
      " 32%|███▏      | 1004/3125 [00:51<01:49, 19.31it/s]"
     ]
    },
    {
     "name": "stdout",
     "output_type": "stream",
     "text": [
      "top1 tensor(0.0625, device='cuda:0') top5 tensor(0.3125, device='cuda:0')\n"
     ]
    },
    {
     "name": "stderr",
     "output_type": "stream",
     "text": [
      " 64%|██████▍   | 2004/3125 [01:42<00:58, 19.30it/s]"
     ]
    },
    {
     "name": "stdout",
     "output_type": "stream",
     "text": [
      "top1 tensor(0.1250, device='cuda:0') top5 tensor(0.5625, device='cuda:0')\n"
     ]
    },
    {
     "name": "stderr",
     "output_type": "stream",
     "text": [
      " 96%|█████████▌| 3004/3125 [02:33<00:06, 19.21it/s]"
     ]
    },
    {
     "name": "stdout",
     "output_type": "stream",
     "text": [
      "top1 tensor(0.0625, device='cuda:0') top5 tensor(0.4375, device='cuda:0')\n"
     ]
    },
    {
     "name": "stderr",
     "output_type": "stream",
     "text": [
      "100%|██████████| 3125/3125 [02:39<00:00, 19.59it/s]\n",
      "  0%|          | 4/3125 [00:00<05:45,  9.03it/s]"
     ]
    },
    {
     "name": "stdout",
     "output_type": "stream",
     "text": [
      "top1 tensor(0.0625, device='cuda:0') top5 tensor(0.6875, device='cuda:0')\n"
     ]
    },
    {
     "name": "stderr",
     "output_type": "stream",
     "text": [
      " 32%|███▏      | 1004/3125 [00:51<01:50, 19.27it/s]"
     ]
    },
    {
     "name": "stdout",
     "output_type": "stream",
     "text": [
      "top1 tensor(0.0625, device='cuda:0') top5 tensor(0.5625, device='cuda:0')\n"
     ]
    },
    {
     "name": "stderr",
     "output_type": "stream",
     "text": [
      " 64%|██████▍   | 2004/3125 [01:42<00:58, 19.25it/s]"
     ]
    },
    {
     "name": "stdout",
     "output_type": "stream",
     "text": [
      "top1 tensor(0.1250, device='cuda:0') top5 tensor(0.5000, device='cuda:0')\n"
     ]
    },
    {
     "name": "stderr",
     "output_type": "stream",
     "text": [
      " 96%|█████████▌| 3001/3125 [02:33<00:08, 13.99it/s]"
     ]
    },
    {
     "name": "stdout",
     "output_type": "stream",
     "text": [
      "top1 tensor(0.0625, device='cuda:0') top5 tensor(0.1875, device='cuda:0')\n"
     ]
    },
    {
     "name": "stderr",
     "output_type": "stream",
     "text": [
      "100%|██████████| 3125/3125 [02:46<00:00, 18.75it/s]\n",
      "  0%|          | 1/3125 [00:00<18:27,  2.82it/s]"
     ]
    },
    {
     "name": "stdout",
     "output_type": "stream",
     "text": [
      "top1 tensor(0., device='cuda:0') top5 tensor(0.6875, device='cuda:0')\n"
     ]
    },
    {
     "name": "stderr",
     "output_type": "stream",
     "text": [
      " 32%|███▏      | 1001/3125 [01:50<05:12,  6.81it/s]"
     ]
    },
    {
     "name": "stdout",
     "output_type": "stream",
     "text": [
      "top1 tensor(0.0625, device='cuda:0') top5 tensor(0.5000, device='cuda:0')\n"
     ]
    },
    {
     "name": "stderr",
     "output_type": "stream",
     "text": [
      " 64%|██████▍   | 2001/3125 [03:40<02:44,  6.83it/s]"
     ]
    },
    {
     "name": "stdout",
     "output_type": "stream",
     "text": [
      "top1 tensor(0.1875, device='cuda:0') top5 tensor(0.5625, device='cuda:0')\n"
     ]
    },
    {
     "name": "stderr",
     "output_type": "stream",
     "text": [
      " 96%|█████████▌| 3004/3125 [05:10<00:06, 19.13it/s]"
     ]
    },
    {
     "name": "stdout",
     "output_type": "stream",
     "text": [
      "top1 tensor(0.0625, device='cuda:0') top5 tensor(0.3125, device='cuda:0')\n"
     ]
    },
    {
     "name": "stderr",
     "output_type": "stream",
     "text": [
      "100%|██████████| 3125/3125 [05:17<00:00,  9.86it/s]\n",
      "  0%|          | 4/3125 [00:00<05:41,  9.14it/s]"
     ]
    },
    {
     "name": "stdout",
     "output_type": "stream",
     "text": [
      "top1 tensor(0.1250, device='cuda:0') top5 tensor(0.6250, device='cuda:0')\n"
     ]
    },
    {
     "name": "stderr",
     "output_type": "stream",
     "text": [
      " 32%|███▏      | 1004/3125 [00:51<01:50, 19.25it/s]"
     ]
    },
    {
     "name": "stdout",
     "output_type": "stream",
     "text": [
      "top1 tensor(0.0625, device='cuda:0') top5 tensor(0.5000, device='cuda:0')\n"
     ]
    },
    {
     "name": "stderr",
     "output_type": "stream",
     "text": [
      " 64%|██████▍   | 2004/3125 [01:42<00:58, 19.25it/s]"
     ]
    },
    {
     "name": "stdout",
     "output_type": "stream",
     "text": [
      "top1 tensor(0.1250, device='cuda:0') top5 tensor(0.6250, device='cuda:0')\n"
     ]
    },
    {
     "name": "stderr",
     "output_type": "stream",
     "text": [
      " 96%|█████████▌| 3004/3125 [02:33<00:06, 19.23it/s]"
     ]
    },
    {
     "name": "stdout",
     "output_type": "stream",
     "text": [
      "top1 tensor(0.1250, device='cuda:0') top5 tensor(0.5000, device='cuda:0')\n"
     ]
    },
    {
     "name": "stderr",
     "output_type": "stream",
     "text": [
      "100%|██████████| 3125/3125 [02:39<00:00, 19.59it/s]\n",
      "  0%|          | 4/3125 [00:00<05:45,  9.03it/s]"
     ]
    },
    {
     "name": "stdout",
     "output_type": "stream",
     "text": [
      "top1 tensor(0., device='cuda:0') top5 tensor(0.7500, device='cuda:0')\n"
     ]
    },
    {
     "name": "stderr",
     "output_type": "stream",
     "text": [
      " 32%|███▏      | 1004/3125 [00:51<01:50, 19.27it/s]"
     ]
    },
    {
     "name": "stdout",
     "output_type": "stream",
     "text": [
      "top1 tensor(0.0625, device='cuda:0') top5 tensor(0.5000, device='cuda:0')\n"
     ]
    },
    {
     "name": "stderr",
     "output_type": "stream",
     "text": [
      " 64%|██████▍   | 2004/3125 [01:42<00:58, 19.28it/s]"
     ]
    },
    {
     "name": "stdout",
     "output_type": "stream",
     "text": [
      "top1 tensor(0.1250, device='cuda:0') top5 tensor(0.5000, device='cuda:0')\n"
     ]
    },
    {
     "name": "stderr",
     "output_type": "stream",
     "text": [
      " 96%|█████████▌| 3004/3125 [02:33<00:06, 19.26it/s]"
     ]
    },
    {
     "name": "stdout",
     "output_type": "stream",
     "text": [
      "top1 tensor(0.0625, device='cuda:0') top5 tensor(0.4375, device='cuda:0')\n"
     ]
    },
    {
     "name": "stderr",
     "output_type": "stream",
     "text": [
      "100%|██████████| 3125/3125 [02:39<00:00, 19.59it/s]\n",
      "  0%|          | 4/3125 [00:00<05:45,  9.02it/s]"
     ]
    },
    {
     "name": "stdout",
     "output_type": "stream",
     "text": [
      "top1 tensor(0.0625, device='cuda:0') top5 tensor(0.6875, device='cuda:0')\n"
     ]
    },
    {
     "name": "stderr",
     "output_type": "stream",
     "text": [
      " 32%|███▏      | 1004/3125 [00:51<01:50, 19.22it/s]"
     ]
    },
    {
     "name": "stdout",
     "output_type": "stream",
     "text": [
      "top1 tensor(0., device='cuda:0') top5 tensor(0.6250, device='cuda:0')\n"
     ]
    },
    {
     "name": "stderr",
     "output_type": "stream",
     "text": [
      " 64%|██████▍   | 2004/3125 [01:42<00:58, 19.18it/s]"
     ]
    },
    {
     "name": "stdout",
     "output_type": "stream",
     "text": [
      "top1 tensor(0.1875, device='cuda:0') top5 tensor(0.5000, device='cuda:0')\n"
     ]
    },
    {
     "name": "stderr",
     "output_type": "stream",
     "text": [
      " 96%|█████████▌| 3004/3125 [02:33<00:06, 19.20it/s]"
     ]
    },
    {
     "name": "stdout",
     "output_type": "stream",
     "text": [
      "top1 tensor(0.0625, device='cuda:0') top5 tensor(0.4375, device='cuda:0')\n"
     ]
    },
    {
     "name": "stderr",
     "output_type": "stream",
     "text": [
      "100%|██████████| 3125/3125 [02:39<00:00, 19.60it/s]\n",
      "  0%|          | 4/3125 [00:00<05:48,  8.96it/s]"
     ]
    },
    {
     "name": "stdout",
     "output_type": "stream",
     "text": [
      "top1 tensor(0.0625, device='cuda:0') top5 tensor(0.6875, device='cuda:0')\n"
     ]
    },
    {
     "name": "stderr",
     "output_type": "stream",
     "text": [
      " 32%|███▏      | 1004/3125 [00:51<01:50, 19.25it/s]"
     ]
    },
    {
     "name": "stdout",
     "output_type": "stream",
     "text": [
      "top1 tensor(0.0625, device='cuda:0') top5 tensor(0.3750, device='cuda:0')\n"
     ]
    },
    {
     "name": "stderr",
     "output_type": "stream",
     "text": [
      " 64%|██████▍   | 2004/3125 [01:42<00:58, 19.27it/s]"
     ]
    },
    {
     "name": "stdout",
     "output_type": "stream",
     "text": [
      "top1 tensor(0., device='cuda:0') top5 tensor(0.6250, device='cuda:0')\n"
     ]
    },
    {
     "name": "stderr",
     "output_type": "stream",
     "text": [
      " 96%|█████████▌| 3004/3125 [02:33<00:06, 19.25it/s]"
     ]
    },
    {
     "name": "stdout",
     "output_type": "stream",
     "text": [
      "top1 tensor(0.0625, device='cuda:0') top5 tensor(0.4375, device='cuda:0')\n"
     ]
    },
    {
     "name": "stderr",
     "output_type": "stream",
     "text": [
      "100%|██████████| 3125/3125 [02:39<00:00, 19.59it/s]\n",
      "  0%|          | 4/3125 [00:00<05:45,  9.02it/s]"
     ]
    },
    {
     "name": "stdout",
     "output_type": "stream",
     "text": [
      "top1 tensor(0.1250, device='cuda:0') top5 tensor(0.6875, device='cuda:0')\n"
     ]
    },
    {
     "name": "stderr",
     "output_type": "stream",
     "text": [
      " 32%|███▏      | 1004/3125 [00:51<01:50, 19.21it/s]"
     ]
    },
    {
     "name": "stdout",
     "output_type": "stream",
     "text": [
      "top1 tensor(0.0625, device='cuda:0') top5 tensor(0.5000, device='cuda:0')\n"
     ]
    },
    {
     "name": "stderr",
     "output_type": "stream",
     "text": [
      " 64%|██████▍   | 2004/3125 [01:42<00:58, 19.22it/s]"
     ]
    },
    {
     "name": "stdout",
     "output_type": "stream",
     "text": [
      "top1 tensor(0.1250, device='cuda:0') top5 tensor(0.4375, device='cuda:0')\n"
     ]
    },
    {
     "name": "stderr",
     "output_type": "stream",
     "text": [
      " 96%|█████████▌| 3004/3125 [02:33<00:06, 19.24it/s]"
     ]
    },
    {
     "name": "stdout",
     "output_type": "stream",
     "text": [
      "top1 tensor(0.0625, device='cuda:0') top5 tensor(0.3750, device='cuda:0')\n"
     ]
    },
    {
     "name": "stderr",
     "output_type": "stream",
     "text": [
      "100%|██████████| 3125/3125 [02:39<00:00, 19.58it/s]\n",
      "  0%|          | 4/3125 [00:00<05:49,  8.93it/s]"
     ]
    },
    {
     "name": "stdout",
     "output_type": "stream",
     "text": [
      "top1 tensor(0.1250, device='cuda:0') top5 tensor(0.7500, device='cuda:0')\n"
     ]
    },
    {
     "name": "stderr",
     "output_type": "stream",
     "text": [
      " 32%|███▏      | 1004/3125 [00:51<01:50, 19.22it/s]"
     ]
    },
    {
     "name": "stdout",
     "output_type": "stream",
     "text": [
      "top1 tensor(0.1250, device='cuda:0') top5 tensor(0.6875, device='cuda:0')\n"
     ]
    },
    {
     "name": "stderr",
     "output_type": "stream",
     "text": [
      " 64%|██████▍   | 2004/3125 [01:42<00:58, 19.21it/s]"
     ]
    },
    {
     "name": "stdout",
     "output_type": "stream",
     "text": [
      "top1 tensor(0.1250, device='cuda:0') top5 tensor(0.3750, device='cuda:0')\n"
     ]
    },
    {
     "name": "stderr",
     "output_type": "stream",
     "text": [
      " 96%|█████████▌| 3004/3125 [02:33<00:06, 19.19it/s]"
     ]
    },
    {
     "name": "stdout",
     "output_type": "stream",
     "text": [
      "top1 tensor(0.1250, device='cuda:0') top5 tensor(0.1875, device='cuda:0')\n"
     ]
    },
    {
     "name": "stderr",
     "output_type": "stream",
     "text": [
      "100%|██████████| 3125/3125 [02:39<00:00, 19.59it/s]\n"
     ]
    }
   ],
   "source": [
    "policy_hardness_scores = []\n",
    "for i in range(10):\n",
    "    policy_hardness_scores.append(process(untrained_model, policy_dataloaders[i]))"
   ]
  },
  {
   "cell_type": "code",
   "execution_count": 27,
   "metadata": {},
   "outputs": [
    {
     "data": {
      "text/plain": [
       "10"
      ]
     },
     "execution_count": 27,
     "metadata": {},
     "output_type": "execute_result"
    }
   ],
   "source": [
    "len(policy_hardness_scores)"
   ]
  },
  {
   "cell_type": "code",
   "execution_count": 28,
   "metadata": {},
   "outputs": [],
   "source": [
    "easy_hardness_scores = []\n",
    "hard_hardness_scores = []\n",
    "unaugmented_easy_hardness_scores = unaugmented_hardness[easy_indices]\n",
    "unaugmented_hard_hardness_scores = unaugmented_hardness[hard_indices]\n",
    "for hardness_scores in policy_hardness_scores:\n",
    "    easy_hardness_scores.append(hardness_scores[easy_indices].cpu().numpy())\n",
    "    hard_hardness_scores.append(hardness_scores[hard_indices].cpu().numpy())"
   ]
  },
  {
   "cell_type": "code",
   "execution_count": 29,
   "metadata": {},
   "outputs": [],
   "source": [
    "easy_hardness_scores = np.array(easy_hardness_scores)\n",
    "hard_hardness_scores = np.array(hard_hardness_scores)"
   ]
  },
  {
   "cell_type": "code",
   "execution_count": 30,
   "metadata": {},
   "outputs": [
    {
     "data": {
      "text/plain": [
       "array([0.09574654, 0.09433264, 0.095126  , 0.09521008, 0.0952424 ,\n",
       "       0.09523905, 0.09554157, 0.0944261 , 0.09537054, 0.09552013],\n",
       "      dtype=float32)"
      ]
     },
     "execution_count": 30,
     "metadata": {},
     "output_type": "execute_result"
    }
   ],
   "source": [
    "easy_hardness_scores.mean(axis=1)"
   ]
  },
  {
   "cell_type": "code",
   "execution_count": 31,
   "metadata": {},
   "outputs": [
    {
     "data": {
      "text/plain": [
       "array([0.00098158, 0.00029837, 0.00075039, 0.00069958, 0.00104652,\n",
       "       0.00100927, 0.00072432, 0.00044904, 0.0007024 , 0.0009815 ],\n",
       "      dtype=float32)"
      ]
     },
     "execution_count": 31,
     "metadata": {},
     "output_type": "execute_result"
    }
   ],
   "source": [
    "easy_hardness_scores.std(axis=1)"
   ]
  },
  {
   "cell_type": "code",
   "execution_count": 32,
   "metadata": {},
   "outputs": [
    {
     "data": {
      "text/plain": [
       "array([0.10431011, 0.10516606, 0.10429106, 0.10398054, 0.10444162,\n",
       "       0.1042193 , 0.1037662 , 0.10508504, 0.10427898, 0.10402476],\n",
       "      dtype=float32)"
      ]
     },
     "execution_count": 32,
     "metadata": {},
     "output_type": "execute_result"
    }
   ],
   "source": [
    "hard_hardness_scores.mean(axis=1)"
   ]
  },
  {
   "cell_type": "code",
   "execution_count": 33,
   "metadata": {},
   "outputs": [
    {
     "data": {
      "text/plain": [
       "array([0.00103348, 0.0003447 , 0.00105075, 0.00095639, 0.00088355,\n",
       "       0.0009237 , 0.00101642, 0.00050219, 0.00082783, 0.0010155 ],\n",
       "      dtype=float32)"
      ]
     },
     "execution_count": 33,
     "metadata": {},
     "output_type": "execute_result"
    }
   ],
   "source": [
    "hard_hardness_scores.std(axis=1)"
   ]
  },
  {
   "cell_type": "code",
   "execution_count": 34,
   "metadata": {},
   "outputs": [],
   "source": [
    "policy_mean_easy = easy_hardness_scores.mean(axis=0)"
   ]
  },
  {
   "cell_type": "code",
   "execution_count": 35,
   "metadata": {},
   "outputs": [],
   "source": [
    "policy_std_easy = easy_hardness_scores.std(axis=0)"
   ]
  },
  {
   "cell_type": "code",
   "execution_count": 36,
   "metadata": {},
   "outputs": [],
   "source": [
    "policy_mean_hard = hard_hardness_scores.mean(axis=0)"
   ]
  },
  {
   "cell_type": "code",
   "execution_count": 37,
   "metadata": {},
   "outputs": [],
   "source": [
    "policy_std_hard = hard_hardness_scores.std(axis=0)"
   ]
  },
  {
   "cell_type": "code",
   "execution_count": 50,
   "metadata": {},
   "outputs": [
    {
     "data": {
      "image/png": "[encoded data removed]",
      "text/plain": [
       "<Figure size 1080x504 with 1 Axes>"
      ]
     },
     "metadata": {
      "needs_background": "light"
     },
     "output_type": "display_data"
    }
   ],
   "source": [
    "plt.figure(figsize=(15,7))\n",
    "plt.plot(np.arange(50), unaugmented_easy_hardness_scores)\n",
    "plt.plot(np.arange(50), unaugmented_hard_hardness_scores)\n",
    "\n",
    "plt.plot(np.arange(50), policy_mean_easy)\n",
    "plt.plot(np.arange(50), policy_mean_easy-policy_std_easy)\n",
    "plt.plot(np.arange(50), policy_mean_easy+policy_std_easy)\n",
    "plt.fill_between(np.arange(50), policy_mean_easy-policy_std_easy, policy_mean_easy+policy_std_easy, color='blue', alpha=0.1)\n",
    "\n",
    "plt.plot(np.arange(50), policy_mean_hard)\n",
    "plt.plot(np.arange(50), policy_mean_hard-policy_std_hard)\n",
    "plt.plot(np.arange(50), policy_mean_hard+policy_std_hard)\n",
    "plt.fill_between(np.arange(50), policy_mean_hard-policy_std_hard, policy_mean_hard+policy_std_hard, color='blue', alpha=0.1)\n",
    "# plt.ylim(0, 0.2)\n",
    "plt.xlabel('images')\n",
    "plt.ylabel('avh_scores')\n",
    "plt.legend([\"unaugmented_easy\", \"unaugmented_hard\", \"easy\", \"\", \"\", \"hard\", \"\", \"\"])\n",
    "plt.show();"
   ]
  },
  {
   "cell_type": "code",
   "execution_count": 51,
   "metadata": {},
   "outputs": [],
   "source": [
    "range = (0, unaugmented_hard_hardness_scores.max()+0.05)"
   ]
  },
  {
   "cell_type": "code",
   "execution_count": 52,
   "metadata": {},
   "outputs": [
    {
     "data": {
      "text/plain": [
       "(array([ 0.,  0.,  0.,  0.,  0.,  0.,  0.,  0.,  0.,  0.,  0.,  0.,  0.,\n",
       "         0.,  0.,  0.,  0.,  0.,  0.,  0.,  0.,  0.,  0.,  0.,  0.,  0.,\n",
       "         0.,  0.,  0.,  0., 50.,  0.,  0.,  0.,  0.,  0.,  0.,  0.,  0.,\n",
       "         0.,  0.,  0.,  0.,  0.,  0.,  0.,  0.,  0.,  0.,  0.]),\n",
       " array([0.        , 0.00312152, 0.00624304, 0.00936456, 0.01248608,\n",
       "        0.0156076 , 0.01872912, 0.02185064, 0.02497216, 0.02809368,\n",
       "        0.0312152 , 0.03433672, 0.03745824, 0.04057977, 0.04370128,\n",
       "        0.0468228 , 0.04994433, 0.05306585, 0.05618737, 0.05930889,\n",
       "        0.06243041, 0.06555193, 0.06867345, 0.07179496, 0.07491649,\n",
       "        0.07803801, 0.08115953, 0.08428105, 0.08740257, 0.09052409,\n",
       "        0.09364561, 0.09676713, 0.09988865, 0.10301017, 0.1061317 ,\n",
       "        0.10925321, 0.11237473, 0.11549626, 0.11861777, 0.12173929,\n",
       "        0.12486082, 0.12798233, 0.13110386, 0.13422537, 0.1373469 ,\n",
       "        0.14046842, 0.14358993, 0.14671145, 0.14983298, 0.1529545 ,\n",
       "        0.15607601], dtype=float32),\n",
       " <BarContainer object of 50 artists>)"
      ]
     },
     "execution_count": 52,
     "metadata": {},
     "output_type": "execute_result"
    },
    {
     "data": {
      "image/png": "[encoded data removed]",
      "text/plain": [
       "<Figure size 432x288 with 1 Axes>"
      ]
     },
     "metadata": {
      "needs_background": "light"
     },
     "output_type": "display_data"
    }
   ],
   "source": [
    "plt.hist(unaugmented_easy_hardness_scores, bins=50, align='mid', range=range)"
   ]
  },
  {
   "cell_type": "code",
   "execution_count": 53,
   "metadata": {},
   "outputs": [
    {
     "data": {
      "text/plain": [
       "(array([ 0.,  0.,  0.,  0.,  0.,  0.,  0.,  0.,  0.,  0.,  0.,  0.,  0.,\n",
       "         0.,  0.,  0.,  0.,  0.,  0.,  0.,  0.,  0.,  0.,  0.,  0.,  0.,\n",
       "         0.,  0.,  0.,  0.,  0.,  0.,  0., 50.,  0.,  0.,  0.,  0.,  0.,\n",
       "         0.,  0.,  0.,  0.,  0.,  0.,  0.,  0.,  0.,  0.,  0.]),\n",
       " array([0.        , 0.00312152, 0.00624304, 0.00936456, 0.01248608,\n",
       "        0.0156076 , 0.01872912, 0.02185064, 0.02497216, 0.02809368,\n",
       "        0.0312152 , 0.03433672, 0.03745824, 0.04057977, 0.04370128,\n",
       "        0.0468228 , 0.04994433, 0.05306585, 0.05618737, 0.05930889,\n",
       "        0.06243041, 0.06555193, 0.06867345, 0.07179496, 0.07491649,\n",
       "        0.07803801, 0.08115953, 0.08428105, 0.08740257, 0.09052409,\n",
       "        0.09364561, 0.09676713, 0.09988865, 0.10301017, 0.1061317 ,\n",
       "        0.10925321, 0.11237473, 0.11549626, 0.11861777, 0.12173929,\n",
       "        0.12486082, 0.12798233, 0.13110386, 0.13422537, 0.1373469 ,\n",
       "        0.14046842, 0.14358993, 0.14671145, 0.14983298, 0.1529545 ,\n",
       "        0.15607601], dtype=float32),\n",
       " <BarContainer object of 50 artists>)"
      ]
     },
     "execution_count": 53,
     "metadata": {},
     "output_type": "execute_result"
    },
    {
     "data": {
      "image/png": "[encoded data removed]",
      "text/plain": [
       "<Figure size 432x288 with 1 Axes>"
      ]
     },
     "metadata": {
      "needs_background": "light"
     },
     "output_type": "display_data"
    }
   ],
   "source": [
    "plt.hist(unaugmented_hard_hardness_scores, bins=50, align='mid', range=range)"
   ]
  },
  {
   "cell_type": "code",
   "execution_count": 54,
   "metadata": {},
   "outputs": [
    {
     "data": {
      "text/plain": [
       "(array([ 0.,  0.,  0.,  0.,  0.,  0.,  0.,  0.,  0.,  0.,  0.,  0.,  0.,\n",
       "         0.,  0.,  0.,  0.,  0.,  0.,  0.,  0.,  0.,  0.,  0.,  0.,  0.,\n",
       "         0.,  0.,  0.,  0., 50.,  0.,  0.,  0.,  0.,  0.,  0.,  0.,  0.,\n",
       "         0.,  0.,  0.,  0.,  0.,  0.,  0.,  0.,  0.,  0.,  0.]),\n",
       " array([0.        , 0.00312152, 0.00624304, 0.00936456, 0.01248608,\n",
       "        0.0156076 , 0.01872912, 0.02185064, 0.02497216, 0.02809368,\n",
       "        0.0312152 , 0.03433672, 0.03745824, 0.04057977, 0.04370128,\n",
       "        0.0468228 , 0.04994433, 0.05306585, 0.05618737, 0.05930889,\n",
       "        0.06243041, 0.06555193, 0.06867345, 0.07179496, 0.07491649,\n",
       "        0.07803801, 0.08115953, 0.08428105, 0.08740257, 0.09052409,\n",
       "        0.09364561, 0.09676713, 0.09988865, 0.10301017, 0.1061317 ,\n",
       "        0.10925321, 0.11237473, 0.11549626, 0.11861777, 0.12173929,\n",
       "        0.12486082, 0.12798233, 0.13110386, 0.13422537, 0.1373469 ,\n",
       "        0.14046842, 0.14358993, 0.14671145, 0.14983298, 0.1529545 ,\n",
       "        0.15607601], dtype=float32),\n",
       " <BarContainer object of 50 artists>)"
      ]
     },
     "execution_count": 54,
     "metadata": {},
     "output_type": "execute_result"
    },
    {
     "data": {
      "image/png": "[encoded data removed]",
      "text/plain": [
       "<Figure size 432x288 with 1 Axes>"
      ]
     },
     "metadata": {
      "needs_background": "light"
     },
     "output_type": "display_data"
    }
   ],
   "source": [
    "plt.hist(policy_mean_easy, bins=50, align='mid', range=range)"
   ]
  },
  {
   "cell_type": "code",
   "execution_count": 55,
   "metadata": {},
   "outputs": [
    {
     "data": {
      "text/plain": [
       "(array([ 0.,  0.,  0.,  0.,  0.,  0.,  0.,  0.,  0.,  0.,  0.,  0.,  0.,\n",
       "         0.,  0.,  0.,  0.,  0.,  0.,  0.,  0.,  0.,  0.,  0.,  0.,  0.,\n",
       "         0.,  0.,  0.,  0.,  0.,  0.,  0., 50.,  0.,  0.,  0.,  0.,  0.,\n",
       "         0.,  0.,  0.,  0.,  0.,  0.,  0.,  0.,  0.,  0.,  0.]),\n",
       " array([0.        , 0.00312152, 0.00624304, 0.00936456, 0.01248608,\n",
       "        0.0156076 , 0.01872912, 0.02185064, 0.02497216, 0.02809368,\n",
       "        0.0312152 , 0.03433672, 0.03745824, 0.04057977, 0.04370128,\n",
       "        0.0468228 , 0.04994433, 0.05306585, 0.05618737, 0.05930889,\n",
       "        0.06243041, 0.06555193, 0.06867345, 0.07179496, 0.07491649,\n",
       "        0.07803801, 0.08115953, 0.08428105, 0.08740257, 0.09052409,\n",
       "        0.09364561, 0.09676713, 0.09988865, 0.10301017, 0.1061317 ,\n",
       "        0.10925321, 0.11237473, 0.11549626, 0.11861777, 0.12173929,\n",
       "        0.12486082, 0.12798233, 0.13110386, 0.13422537, 0.1373469 ,\n",
       "        0.14046842, 0.14358993, 0.14671145, 0.14983298, 0.1529545 ,\n",
       "        0.15607601], dtype=float32),\n",
       " <BarContainer object of 50 artists>)"
      ]
     },
     "execution_count": 55,
     "metadata": {},
     "output_type": "execute_result"
    },
    {
     "data": {
      "image/png": "[encoded data removed]",
      "text/plain": [
       "<Figure size 432x288 with 1 Axes>"
      ]
     },
     "metadata": {
      "needs_background": "light"
     },
     "output_type": "display_data"
    }
   ],
   "source": [
    "plt.hist(policy_mean_hard, bins=50, align='mid', range=range)"
   ]
  },
  {
   "cell_type": "code",
   "execution_count": 56,
   "metadata": {},
   "outputs": [
    {
     "data": {
      "text/plain": [
       "<matplotlib.legend.Legend at 0x7f32a9372550>"
      ]
     },
     "execution_count": 56,
     "metadata": {},
     "output_type": "execute_result"
    },
    {
     "data": {
      "image/png": "[encoded data removed]",
      "text/plain": [
       "<Figure size 432x288 with 1 Axes>"
      ]
     },
     "metadata": {
      "needs_background": "light"
     },
     "output_type": "display_data"
    }
   ],
   "source": [
    "plt.hist(unaugmented_easy_hardness_scores, bins=50, align='mid')\n",
    "plt.hist(unaugmented_hard_hardness_scores, bins=50, align='mid')\n",
    "plt.hist(policy_mean_easy, bins=50, align='mid')\n",
    "plt.hist(policy_mean_hard, bins=50, align='mid')\n",
    "plt.hist(policy_std_easy, bins=50, align='mid')\n",
    "plt.hist(policy_std_hard, bins=50, align='mid')\n",
    "plt.ylabel('number of images')\n",
    "plt.xlabel('avh')\n",
    "plt.legend([\"unaugmented_easy\", \"unaugmented_hard\", \"augmented_easy\", \"augmented_hard\", \"std_easy\", \"std_hard\"])"
   ]
  },
  {
   "cell_type": "code",
   "execution_count": 57,
   "metadata": {},
   "outputs": [],
   "source": [
    "difference_easy = policy_mean_easy - unaugmented_easy_hardness_scores\n",
    "difference_hard = policy_mean_hard - unaugmented_hard_hardness_scores"
   ]
  },
  {
   "cell_type": "code",
   "execution_count": 58,
   "metadata": {},
   "outputs": [
    {
     "data": {
      "image/png": "[encoded data removed]",
      "text/plain": [
       "<Figure size 432x288 with 1 Axes>"
      ]
     },
     "metadata": {
      "needs_background": "light"
     },
     "output_type": "display_data"
    }
   ],
   "source": [
    "plt.plot(np.arange(50), difference_easy)\n",
    "plt.plot(np.arange(50), difference_hard)\n",
    "plt.legend([\"difference_easy\", \"difference_hard\"])\n",
    "plt.xlabel('images')\n",
    "plt.ylabel('(augmented_avh - unaugmented_avh)')\n",
    "plt.show();"
   ]
  },
  {
   "cell_type": "code",
   "execution_count": 59,
   "metadata": {},
   "outputs": [
    {
     "data": {
      "image/png": "[encoded data removed]",
      "text/plain": [
       "<Figure size 432x288 with 1 Axes>"
      ]
     },
     "metadata": {
      "needs_background": "light"
     },
     "output_type": "display_data"
    }
   ],
   "source": [
    "plt.hist(difference_easy, bins=50)\n",
    "plt.hist(difference_hard, bins=50)\n",
    "plt.legend([\"difference_easy\", \"difference_hard\"])\n",
    "plt.ylabel('number of images')\n",
    "plt.xlabel('(augmented_avh - unaugmented_avh)')\n",
    "plt.show();"
   ]
  },
  {
   "cell_type": "code",
   "execution_count": 60,
   "metadata": {},
   "outputs": [
    {
     "name": "stdout",
     "output_type": "stream",
     "text": [
      "Differnce_easy mean 0.0010654345 std 0.00024153331\n"
     ]
    }
   ],
   "source": [
    "print(\"Differnce_easy\", \"mean\", difference_easy.mean(), \"std\", difference_easy.std())"
   ]
  },
  {
   "cell_type": "code",
   "execution_count": 61,
   "metadata": {},
   "outputs": [
    {
     "name": "stdout",
     "output_type": "stream",
     "text": [
      "Differnce_hard mean -0.0013628595 std 0.00030712728\n"
     ]
    }
   ],
   "source": [
    "print(\"Differnce_hard\", \"mean\", difference_hard.mean(), \"std\", difference_hard.std())"
   ]
  },
  {
   "cell_type": "code",
   "execution_count": null,
   "metadata": {},
   "outputs": [],
   "source": []
  },
  {
   "cell_type": "code",
   "execution_count": null,
   "metadata": {},
   "outputs": [],
   "source": []
  },
  {
   "cell_type": "code",
   "execution_count": null,
   "metadata": {},
   "outputs": [],
   "source": []
  }
 ],
 "metadata": {
  "kernelspec": {
   "display_name": "FA",
   "language": "python",
   "name": "fa"
  },
  "language_info": {
   "codemirror_mode": {
    "name": "ipython",
    "version": 3
   },
   "file_extension": ".py",
   "mimetype": "text/x-python",
   "name": "python",
   "nbconvert_exporter": "python",
   "pygments_lexer": "ipython3",
   "version": "3.7.7"
  }
 },
 "nbformat": 4,
 "nbformat_minor": 4
}
