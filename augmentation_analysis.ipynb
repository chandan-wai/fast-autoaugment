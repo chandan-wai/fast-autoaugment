{
 "cells": [
  {
   "cell_type": "code",
   "execution_count": 67,
   "metadata": {},
   "outputs": [],
   "source": [
    "import sys\n",
    "sys.path.append('/home/ubuntu/fast-autoaugment')\n",
    "import torch\n",
    "from torch.nn.parallel.data_parallel import DataParallel\n",
    "from torch.nn.parallel import DistributedDataParallel\n",
    "from FastAutoAugment.networks import get_model\n",
    "from theconf import Config as C\n",
    "import random\n",
    "import copy\n",
    "from torchvision.transforms import transforms\n",
    "import multiprocessing as mp\n",
    "from tqdm import tqdm\n",
    "import matplotlib.pyplot as plt\n",
    "\n",
    "from FastAutoAugment.datasets import CIFAR10_mod \n",
    "from FastAutoAugment.metrics import accuracy\n",
    "from FastAutoAugment.hardness_measures import AVH\n",
    "from FastAutoAugment.augmentations import *"
   ]
  },
  {
   "cell_type": "code",
   "execution_count": 2,
   "metadata": {},
   "outputs": [],
   "source": [
    "_ = C('/home/ubuntu/fast-autoaugment/confs/test.yaml')"
   ]
  },
  {
   "cell_type": "code",
   "execution_count": 3,
   "metadata": {},
   "outputs": [],
   "source": [
    "untrained_model = get_model(C.get()['model'], 10, local_rank=-1)\n",
    "trained_model = get_model(C.get()['model'], 10, local_rank=-1)"
   ]
  },
  {
   "cell_type": "code",
   "execution_count": 4,
   "metadata": {},
   "outputs": [],
   "source": [
    "save_path = '/efs-cotton/outputs/fast-autoaugment/confs/hardnessaware/wresnet28x10_rcifar-AA-rerun3/test.pth'\n",
    "data = torch.load(save_path)\n",
    "key = 'model' if 'model' in data else 'state_dict'\n",
    "\n",
    "if 'epoch' not in data:\n",
    "    trained_model.load_state_dict(data)\n",
    "else:\n",
    "    if not isinstance(trained_model, (DataParallel, DistributedDataParallel)):\n",
    "        trained_model.load_state_dict({k.replace('module.', ''): v for k, v in data[key].items()})\n",
    "    else:\n",
    "        trained_model.load_state_dict({k if 'module.' in k else 'module.'+k: v for k, v in data[key].items()})"
   ]
  },
  {
   "cell_type": "code",
   "execution_count": 5,
   "metadata": {},
   "outputs": [
    {
     "name": "stdout",
     "output_type": "stream",
     "text": [
      "class_norm\t\t\t      wresnet28x10_rcifar-AA-cutout-rerun3\n",
      "class_norm+hardness+prob\t      wresnet28x10_rcifar-AA-cutout-rerun4\n",
      "double_prop\t\t\t      wresnet28x10_rcifar-AA-cutout-rerun5\n",
      "double_prop2\t\t\t      wresnet28x10_rcifar-AA-rerun1\n",
      "hardness+prob\t\t\t      wresnet28x10_rcifar-AA-rerun2\n",
      "hardness+prob+mag\t\t      wresnet28x10_rcifar-AA-rerun3\n",
      "intervals\t\t\t      wresnet28x10_rcifar-AA-rerun4\n",
      "wresnet28x10_rcifar-AA-cutout-rerun1  wresnet28x10_rcifar-AA-rerun5\n",
      "wresnet28x10_rcifar-AA-cutout-rerun2\n"
     ]
    }
   ],
   "source": [
    "!ls /efs-cotton/outputs/fast-autoaugment/confs/hardnessaware"
   ]
  },
  {
   "cell_type": "code",
   "execution_count": 6,
   "metadata": {},
   "outputs": [],
   "source": [
    "save_path = '/efs-cotton/outputs/fast-autoaugment/confs/hardnessaware/wresnet28x10_rcifar-AA-rerun3/test.pth'\n",
    "data = torch.load(save_path)"
   ]
  },
  {
   "cell_type": "code",
   "execution_count": 7,
   "metadata": {},
   "outputs": [
    {
     "data": {
      "text/plain": [
       "dict_keys(['epoch', 'log', 'optimizer', 'model', 'ema'])"
      ]
     },
     "execution_count": 7,
     "metadata": {},
     "output_type": "execute_result"
    }
   ],
   "source": [
    "data.keys()"
   ]
  },
  {
   "cell_type": "code",
   "execution_count": 8,
   "metadata": {},
   "outputs": [
    {
     "data": {
      "text/plain": [
       "{'train': {'loss': 0.43232580375671387,\n",
       "  'top1': 0.96325,\n",
       "  'top5': 0.99775,\n",
       "  'lr': 0.0006155829702431171},\n",
       " 'valid': {'loss': 0.0, 'top1': 0.0, 'top5': 0.0},\n",
       " 'test': {'loss': 0.5973012451648713, 'top1': 0.8451, 'top5': 0.9913}}"
      ]
     },
     "execution_count": 8,
     "metadata": {},
     "output_type": "execute_result"
    }
   ],
   "source": [
    "data['log']"
   ]
  },
  {
   "cell_type": "code",
   "execution_count": 9,
   "metadata": {},
   "outputs": [],
   "source": [
    "augmentations = [\"ShearX\", \"ShearY\", \"Rotate\", \"AutoContrast\", \"Invert\", \n",
    "                 \"Equalize\", \"Solarize\", \"Contrast\", \"Color\", \"Brightness\", \n",
    "                 \"Sharpness\", \"Posterize2\", \"TranslateXAbs\", \"TranslateYAbs\"]"
   ]
  },
  {
   "cell_type": "code",
   "execution_count": 10,
   "metadata": {},
   "outputs": [],
   "source": [
    "policy = []\n",
    "for i in range(10):\n",
    "    policy.append([(aug, 0.5, 'random') for aug in random.sample(augmentations, 5)])"
   ]
  },
  {
   "cell_type": "code",
   "execution_count": 11,
   "metadata": {},
   "outputs": [
    {
     "data": {
      "text/plain": [
       "[[('Contrast', 0.5, 'random'),\n",
       "  ('Rotate', 0.5, 'random'),\n",
       "  ('TranslateXAbs', 0.5, 'random'),\n",
       "  ('Solarize', 0.5, 'random'),\n",
       "  ('Invert', 0.5, 'random')],\n",
       " [('Rotate', 0.5, 'random'),\n",
       "  ('ShearX', 0.5, 'random'),\n",
       "  ('TranslateXAbs', 0.5, 'random'),\n",
       "  ('TranslateYAbs', 0.5, 'random'),\n",
       "  ('ShearY', 0.5, 'random')],\n",
       " [('Solarize', 0.5, 'random'),\n",
       "  ('Sharpness', 0.5, 'random'),\n",
       "  ('Rotate', 0.5, 'random'),\n",
       "  ('TranslateYAbs', 0.5, 'random'),\n",
       "  ('Posterize2', 0.5, 'random')],\n",
       " [('TranslateYAbs', 0.5, 'random'),\n",
       "  ('TranslateXAbs', 0.5, 'random'),\n",
       "  ('AutoContrast', 0.5, 'random'),\n",
       "  ('Posterize2', 0.5, 'random'),\n",
       "  ('Solarize', 0.5, 'random')],\n",
       " [('TranslateYAbs', 0.5, 'random'),\n",
       "  ('ShearY', 0.5, 'random'),\n",
       "  ('Invert', 0.5, 'random'),\n",
       "  ('Contrast', 0.5, 'random'),\n",
       "  ('TranslateXAbs', 0.5, 'random')],\n",
       " [('ShearX', 0.5, 'random'),\n",
       "  ('Rotate', 0.5, 'random'),\n",
       "  ('Invert', 0.5, 'random'),\n",
       "  ('TranslateYAbs', 0.5, 'random'),\n",
       "  ('ShearY', 0.5, 'random')],\n",
       " [('Solarize', 0.5, 'random'),\n",
       "  ('AutoContrast', 0.5, 'random'),\n",
       "  ('Color', 0.5, 'random'),\n",
       "  ('Posterize2', 0.5, 'random'),\n",
       "  ('Brightness', 0.5, 'random')],\n",
       " [('ShearY', 0.5, 'random'),\n",
       "  ('Contrast', 0.5, 'random'),\n",
       "  ('ShearX', 0.5, 'random'),\n",
       "  ('TranslateYAbs', 0.5, 'random'),\n",
       "  ('TranslateXAbs', 0.5, 'random')],\n",
       " [('Solarize', 0.5, 'random'),\n",
       "  ('Color', 0.5, 'random'),\n",
       "  ('Brightness', 0.5, 'random'),\n",
       "  ('TranslateXAbs', 0.5, 'random'),\n",
       "  ('Equalize', 0.5, 'random')],\n",
       " [('Brightness', 0.5, 'random'),\n",
       "  ('Solarize', 0.5, 'random'),\n",
       "  ('ShearX', 0.5, 'random'),\n",
       "  ('Equalize', 0.5, 'random'),\n",
       "  ('Invert', 0.5, 'random')]]"
      ]
     },
     "execution_count": 11,
     "metadata": {},
     "output_type": "execute_result"
    }
   ],
   "source": [
    "policy"
   ]
  },
  {
   "cell_type": "code",
   "execution_count": 12,
   "metadata": {},
   "outputs": [],
   "source": [
    "class Augmentation2(object):\n",
    "    def __init__(self, policies):\n",
    "        self.policies = policies\n",
    "\n",
    "    def __call__(self, img, hardness_score=None):\n",
    "        for name, pr, level in self.policies:\n",
    "            if random.random() > pr:\n",
    "                continue\n",
    "            if level == 'random':\n",
    "                level = random.choice(range(10))*0.1\n",
    "            img = apply_augment(img, name, level)\n",
    "        return img"
   ]
  },
  {
   "cell_type": "code",
   "execution_count": 13,
   "metadata": {},
   "outputs": [],
   "source": [
    "_CIFAR_MEAN, _CIFAR_STD = (0.4914, 0.4822, 0.4465), (0.2023, 0.1994, 0.2010)\n",
    "dataroot = \"data\""
   ]
  },
  {
   "cell_type": "code",
   "execution_count": 14,
   "metadata": {},
   "outputs": [
    {
     "name": "stdout",
     "output_type": "stream",
     "text": [
      "Files already downloaded and verified\n"
     ]
    }
   ],
   "source": [
    "basic_transform = transforms.Compose([\n",
    "            transforms.RandomCrop(32, padding=4),\n",
    "            transforms.RandomHorizontalFlip(),\n",
    "            transforms.ToTensor(),\n",
    "            transforms.Normalize(_CIFAR_MEAN, _CIFAR_STD),\n",
    "        ])\n",
    "basic_dataset = CIFAR10_mod(root=dataroot, train=True, download=True, transform=basic_transform)"
   ]
  },
  {
   "cell_type": "code",
   "execution_count": 15,
   "metadata": {},
   "outputs": [],
   "source": [
    "policy_transforms = []\n",
    "for i in range(10):\n",
    "    transform = copy.deepcopy(basic_transform)\n",
    "    transform.transforms.insert(0, Augmentation2(policy[i]))\n",
    "    policy_transforms.append(transform)"
   ]
  },
  {
   "cell_type": "code",
   "execution_count": 16,
   "metadata": {},
   "outputs": [
    {
     "data": {
      "text/plain": [
       "[<__main__.Augmentation2 at 0x7fc2281d6f10>,\n",
       " RandomCrop(size=(32, 32), padding=4),\n",
       " RandomHorizontalFlip(p=0.5),\n",
       " ToTensor(),\n",
       " Normalize(mean=(0.4914, 0.4822, 0.4465), std=(0.2023, 0.1994, 0.201))]"
      ]
     },
     "execution_count": 16,
     "metadata": {},
     "output_type": "execute_result"
    }
   ],
   "source": [
    "policy_transforms[0].transforms"
   ]
  },
  {
   "cell_type": "code",
   "execution_count": 17,
   "metadata": {},
   "outputs": [
    {
     "data": {
      "text/plain": [
       "[<__main__.Augmentation2 at 0x7fc2281d62d0>,\n",
       " RandomCrop(size=(32, 32), padding=4),\n",
       " RandomHorizontalFlip(p=0.5),\n",
       " ToTensor(),\n",
       " Normalize(mean=(0.4914, 0.4822, 0.4465), std=(0.2023, 0.1994, 0.201))]"
      ]
     },
     "execution_count": 17,
     "metadata": {},
     "output_type": "execute_result"
    }
   ],
   "source": [
    "policy_transforms[1].transforms"
   ]
  },
  {
   "cell_type": "code",
   "execution_count": 18,
   "metadata": {},
   "outputs": [
    {
     "name": "stdout",
     "output_type": "stream",
     "text": [
      "Files already downloaded and verified\n",
      "Files already downloaded and verified\n",
      "Files already downloaded and verified\n",
      "Files already downloaded and verified\n",
      "Files already downloaded and verified\n",
      "Files already downloaded and verified\n",
      "Files already downloaded and verified\n",
      "Files already downloaded and verified\n",
      "Files already downloaded and verified\n",
      "Files already downloaded and verified\n"
     ]
    }
   ],
   "source": [
    "policy_datasets = []\n",
    "for i in range(10):\n",
    "    policy_datasets.append(CIFAR10_mod(root=dataroot, train=True, download=True, transform=policy_transforms[i]))"
   ]
  },
  {
   "cell_type": "code",
   "execution_count": 19,
   "metadata": {},
   "outputs": [],
   "source": [
    "basic_dataloader = torch.utils.data.DataLoader(basic_dataset, batch_size=16, shuffle=False, num_workers=0, drop_last=False)\n",
    "policy_dataloaders = []\n",
    "for i in range(10):\n",
    "    policy_dataloaders.append(torch.utils.data.DataLoader(\n",
    "        policy_datasets[i], batch_size=16, shuffle=False, \n",
    "        num_workers=0, drop_last=False))"
   ]
  },
  {
   "cell_type": "code",
   "execution_count": 38,
   "metadata": {},
   "outputs": [
    {
     "name": "stderr",
     "output_type": "stream",
     "text": [
      "  0%|          | 3/3125 [00:00<03:04, 16.96it/s]"
     ]
    },
    {
     "name": "stdout",
     "output_type": "stream",
     "text": [
      "top1 tensor(0.9375, device='cuda:0') top5 tensor(1., device='cuda:0')\n"
     ]
    },
    {
     "name": "stderr",
     "output_type": "stream",
     "text": [
      "  3%|▎         | 104/3125 [00:05<02:36, 19.30it/s]"
     ]
    },
    {
     "name": "stdout",
     "output_type": "stream",
     "text": [
      "top1 tensor(0.6875, device='cuda:0') top5 tensor(1., device='cuda:0')\n"
     ]
    },
    {
     "name": "stderr",
     "output_type": "stream",
     "text": [
      "  7%|▋         | 204/3125 [00:10<02:31, 19.29it/s]"
     ]
    },
    {
     "name": "stdout",
     "output_type": "stream",
     "text": [
      "top1 tensor(0.8750, device='cuda:0') top5 tensor(1., device='cuda:0')\n"
     ]
    },
    {
     "name": "stderr",
     "output_type": "stream",
     "text": [
      " 10%|▉         | 304/3125 [00:15<02:26, 19.31it/s]"
     ]
    },
    {
     "name": "stdout",
     "output_type": "stream",
     "text": [
      "top1 tensor(0.9375, device='cuda:0') top5 tensor(1., device='cuda:0')\n"
     ]
    },
    {
     "name": "stderr",
     "output_type": "stream",
     "text": [
      " 13%|█▎        | 404/3125 [00:20<02:21, 19.29it/s]"
     ]
    },
    {
     "name": "stdout",
     "output_type": "stream",
     "text": [
      "top1 tensor(0.8125, device='cuda:0') top5 tensor(1., device='cuda:0')\n"
     ]
    },
    {
     "name": "stderr",
     "output_type": "stream",
     "text": [
      " 16%|█▌        | 504/3125 [00:25<02:15, 19.30it/s]"
     ]
    },
    {
     "name": "stdout",
     "output_type": "stream",
     "text": [
      "top1 tensor(0.9375, device='cuda:0') top5 tensor(1., device='cuda:0')\n"
     ]
    },
    {
     "name": "stderr",
     "output_type": "stream",
     "text": [
      " 19%|█▉        | 604/3125 [00:30<02:10, 19.29it/s]"
     ]
    },
    {
     "name": "stdout",
     "output_type": "stream",
     "text": [
      "top1 tensor(0.8125, device='cuda:0') top5 tensor(1., device='cuda:0')\n"
     ]
    },
    {
     "name": "stderr",
     "output_type": "stream",
     "text": [
      " 23%|██▎       | 704/3125 [00:36<02:05, 19.29it/s]"
     ]
    },
    {
     "name": "stdout",
     "output_type": "stream",
     "text": [
      "top1 tensor(0.9375, device='cuda:0') top5 tensor(1., device='cuda:0')\n"
     ]
    },
    {
     "name": "stderr",
     "output_type": "stream",
     "text": [
      " 26%|██▌       | 804/3125 [00:41<02:00, 19.29it/s]"
     ]
    },
    {
     "name": "stdout",
     "output_type": "stream",
     "text": [
      "top1 tensor(1., device='cuda:0') top5 tensor(1., device='cuda:0')\n"
     ]
    },
    {
     "name": "stderr",
     "output_type": "stream",
     "text": [
      " 29%|██▉       | 904/3125 [00:46<01:55, 19.30it/s]"
     ]
    },
    {
     "name": "stdout",
     "output_type": "stream",
     "text": [
      "top1 tensor(0.8750, device='cuda:0') top5 tensor(1., device='cuda:0')\n"
     ]
    },
    {
     "name": "stderr",
     "output_type": "stream",
     "text": [
      " 32%|███▏      | 1004/3125 [00:51<01:49, 19.29it/s]"
     ]
    },
    {
     "name": "stdout",
     "output_type": "stream",
     "text": [
      "top1 tensor(0.8125, device='cuda:0') top5 tensor(0.9375, device='cuda:0')\n"
     ]
    },
    {
     "name": "stderr",
     "output_type": "stream",
     "text": [
      " 35%|███▌      | 1104/3125 [00:56<01:44, 19.29it/s]"
     ]
    },
    {
     "name": "stdout",
     "output_type": "stream",
     "text": [
      "top1 tensor(0.8750, device='cuda:0') top5 tensor(1., device='cuda:0')\n"
     ]
    },
    {
     "name": "stderr",
     "output_type": "stream",
     "text": [
      " 39%|███▊      | 1204/3125 [01:01<01:39, 19.28it/s]"
     ]
    },
    {
     "name": "stdout",
     "output_type": "stream",
     "text": [
      "top1 tensor(0.8750, device='cuda:0') top5 tensor(1., device='cuda:0')\n"
     ]
    },
    {
     "name": "stderr",
     "output_type": "stream",
     "text": [
      " 42%|████▏     | 1304/3125 [01:06<01:34, 19.29it/s]"
     ]
    },
    {
     "name": "stdout",
     "output_type": "stream",
     "text": [
      "top1 tensor(0.8125, device='cuda:0') top5 tensor(1., device='cuda:0')\n"
     ]
    },
    {
     "name": "stderr",
     "output_type": "stream",
     "text": [
      " 45%|████▍     | 1404/3125 [01:11<01:29, 19.29it/s]"
     ]
    },
    {
     "name": "stdout",
     "output_type": "stream",
     "text": [
      "top1 tensor(0.8750, device='cuda:0') top5 tensor(1., device='cuda:0')\n"
     ]
    },
    {
     "name": "stderr",
     "output_type": "stream",
     "text": [
      " 48%|████▊     | 1504/3125 [01:16<01:24, 19.28it/s]"
     ]
    },
    {
     "name": "stdout",
     "output_type": "stream",
     "text": [
      "top1 tensor(0.9375, device='cuda:0') top5 tensor(1., device='cuda:0')\n"
     ]
    },
    {
     "name": "stderr",
     "output_type": "stream",
     "text": [
      " 51%|█████▏    | 1604/3125 [01:21<01:18, 19.29it/s]"
     ]
    },
    {
     "name": "stdout",
     "output_type": "stream",
     "text": [
      "top1 tensor(0.8750, device='cuda:0') top5 tensor(1., device='cuda:0')\n"
     ]
    },
    {
     "name": "stderr",
     "output_type": "stream",
     "text": [
      " 55%|█████▍    | 1704/3125 [01:27<01:13, 19.29it/s]"
     ]
    },
    {
     "name": "stdout",
     "output_type": "stream",
     "text": [
      "top1 tensor(0.8750, device='cuda:0') top5 tensor(1., device='cuda:0')\n"
     ]
    },
    {
     "name": "stderr",
     "output_type": "stream",
     "text": [
      " 58%|█████▊    | 1804/3125 [01:32<01:08, 19.29it/s]"
     ]
    },
    {
     "name": "stdout",
     "output_type": "stream",
     "text": [
      "top1 tensor(1., device='cuda:0') top5 tensor(1., device='cuda:0')\n"
     ]
    },
    {
     "name": "stderr",
     "output_type": "stream",
     "text": [
      " 61%|██████    | 1904/3125 [01:37<01:03, 19.30it/s]"
     ]
    },
    {
     "name": "stdout",
     "output_type": "stream",
     "text": [
      "top1 tensor(0.8125, device='cuda:0') top5 tensor(1., device='cuda:0')\n"
     ]
    },
    {
     "name": "stderr",
     "output_type": "stream",
     "text": [
      " 64%|██████▍   | 2004/3125 [01:42<00:58, 19.29it/s]"
     ]
    },
    {
     "name": "stdout",
     "output_type": "stream",
     "text": [
      "top1 tensor(0.8750, device='cuda:0') top5 tensor(1., device='cuda:0')\n"
     ]
    },
    {
     "name": "stderr",
     "output_type": "stream",
     "text": [
      " 67%|██████▋   | 2104/3125 [01:47<00:52, 19.28it/s]"
     ]
    },
    {
     "name": "stdout",
     "output_type": "stream",
     "text": [
      "top1 tensor(0.5625, device='cuda:0') top5 tensor(0.9375, device='cuda:0')\n"
     ]
    },
    {
     "name": "stderr",
     "output_type": "stream",
     "text": [
      " 71%|███████   | 2204/3125 [01:52<00:47, 19.29it/s]"
     ]
    },
    {
     "name": "stdout",
     "output_type": "stream",
     "text": [
      "top1 tensor(0.8125, device='cuda:0') top5 tensor(0.9375, device='cuda:0')\n"
     ]
    },
    {
     "name": "stderr",
     "output_type": "stream",
     "text": [
      " 74%|███████▎  | 2304/3125 [01:57<00:42, 19.28it/s]"
     ]
    },
    {
     "name": "stdout",
     "output_type": "stream",
     "text": [
      "top1 tensor(0.8750, device='cuda:0') top5 tensor(1., device='cuda:0')\n"
     ]
    },
    {
     "name": "stderr",
     "output_type": "stream",
     "text": [
      " 77%|███████▋  | 2404/3125 [02:02<00:37, 19.28it/s]"
     ]
    },
    {
     "name": "stdout",
     "output_type": "stream",
     "text": [
      "top1 tensor(0.9375, device='cuda:0') top5 tensor(1., device='cuda:0')\n"
     ]
    },
    {
     "name": "stderr",
     "output_type": "stream",
     "text": [
      " 80%|████████  | 2504/3125 [02:07<00:32, 19.28it/s]"
     ]
    },
    {
     "name": "stdout",
     "output_type": "stream",
     "text": [
      "top1 tensor(0.8750, device='cuda:0') top5 tensor(1., device='cuda:0')\n"
     ]
    },
    {
     "name": "stderr",
     "output_type": "stream",
     "text": [
      " 83%|████████▎ | 2604/3125 [02:12<00:27, 19.28it/s]"
     ]
    },
    {
     "name": "stdout",
     "output_type": "stream",
     "text": [
      "top1 tensor(0.8750, device='cuda:0') top5 tensor(1., device='cuda:0')\n"
     ]
    },
    {
     "name": "stderr",
     "output_type": "stream",
     "text": [
      " 87%|████████▋ | 2704/3125 [02:18<00:21, 19.28it/s]"
     ]
    },
    {
     "name": "stdout",
     "output_type": "stream",
     "text": [
      "top1 tensor(0.9375, device='cuda:0') top5 tensor(1., device='cuda:0')\n"
     ]
    },
    {
     "name": "stderr",
     "output_type": "stream",
     "text": [
      " 90%|████████▉ | 2804/3125 [02:23<00:16, 19.28it/s]"
     ]
    },
    {
     "name": "stdout",
     "output_type": "stream",
     "text": [
      "top1 tensor(0.9375, device='cuda:0') top5 tensor(0.9375, device='cuda:0')\n"
     ]
    },
    {
     "name": "stderr",
     "output_type": "stream",
     "text": [
      " 93%|█████████▎| 2904/3125 [02:28<00:11, 19.27it/s]"
     ]
    },
    {
     "name": "stdout",
     "output_type": "stream",
     "text": [
      "top1 tensor(0.8750, device='cuda:0') top5 tensor(0.9375, device='cuda:0')\n"
     ]
    },
    {
     "name": "stderr",
     "output_type": "stream",
     "text": [
      " 96%|█████████▌| 3004/3125 [02:33<00:06, 19.27it/s]"
     ]
    },
    {
     "name": "stdout",
     "output_type": "stream",
     "text": [
      "top1 tensor(0.8125, device='cuda:0') top5 tensor(1., device='cuda:0')\n"
     ]
    },
    {
     "name": "stderr",
     "output_type": "stream",
     "text": [
      " 99%|█████████▉| 3104/3125 [02:38<00:01, 19.28it/s]"
     ]
    },
    {
     "name": "stdout",
     "output_type": "stream",
     "text": [
      "top1 tensor(0.8750, device='cuda:0') top5 tensor(1., device='cuda:0')\n"
     ]
    },
    {
     "name": "stderr",
     "output_type": "stream",
     "text": [
      "100%|██████████| 3125/3125 [02:39<00:00, 19.59it/s]\n"
     ]
    }
   ],
   "source": [
    "all_preds = []\n",
    "all_embeddings = []\n",
    "all_labels = []\n",
    "all_indices = []\n",
    "with torch.no_grad():\n",
    "    trained_model.eval()\n",
    "    loader = tqdm(basic_dataloader, disable=False)\n",
    "    for i, (data, label, index) in enumerate(loader):\n",
    "        data, label = data.cuda(), label.cuda()\n",
    "        preds, embeddings = trained_model(data)\n",
    "\n",
    "        all_preds.append(preds)\n",
    "        all_embeddings.append(embeddings)\n",
    "        all_labels.append(label)\n",
    "        all_indices.append(index)\n",
    "        top1, top5 = accuracy(preds, label, (1, 5))\n",
    "        if i%100==0:\n",
    "            print(\"top1\", top1, \"top5\", top5)\n",
    "    del data, label, index, preds, embeddings"
   ]
  },
  {
   "cell_type": "code",
   "execution_count": 39,
   "metadata": {},
   "outputs": [],
   "source": [
    "avh = AVH()"
   ]
  },
  {
   "cell_type": "code",
   "execution_count": 40,
   "metadata": {},
   "outputs": [],
   "source": [
    "unaugmented_hardness = avh(model=trained_model, embeddings=torch.cat(all_embeddings), \n",
    "                           targets=torch.cat(all_labels))"
   ]
  },
  {
   "cell_type": "code",
   "execution_count": 41,
   "metadata": {},
   "outputs": [],
   "source": [
    "unaugmented_hardness = unaugmented_hardness.cpu().numpy()\n",
    "all_indices = torch.cat(all_indices).cpu().numpy()"
   ]
  },
  {
   "cell_type": "code",
   "execution_count": 42,
   "metadata": {},
   "outputs": [],
   "source": [
    "combined = list(zip(*sorted(zip(unaugmented_hardness, all_indices))))"
   ]
  },
  {
   "cell_type": "code",
   "execution_count": 43,
   "metadata": {},
   "outputs": [],
   "source": [
    "sorted_indices = list(combined[1])"
   ]
  },
  {
   "cell_type": "code",
   "execution_count": 44,
   "metadata": {},
   "outputs": [],
   "source": [
    "easy_indices = sorted_indices[0:50]\n",
    "hard_indices = sorted_indices[-50:]"
   ]
  },
  {
   "cell_type": "code",
   "execution_count": 37,
   "metadata": {},
   "outputs": [],
   "source": [
    "def process(model, dataloader):\n",
    "    all_preds = []\n",
    "    all_embeddings = []\n",
    "    all_labels = []\n",
    "    all_indices = []\n",
    "    with torch.no_grad():\n",
    "        model.eval()\n",
    "        loader = tqdm(dataloader, disable=False)\n",
    "        for i, (data, label, index) in enumerate(loader):\n",
    "            data, label = data.cuda(), label.cuda()\n",
    "            preds, embeddings = model(data)\n",
    "\n",
    "            all_preds.append(preds)\n",
    "            all_embeddings.append(embeddings)\n",
    "            all_labels.append(label)\n",
    "            all_indices.append(index)\n",
    "            top1, top5 = accuracy(preds, label, (1, 5))\n",
    "            if i%1000==0:\n",
    "                print(\"top1\", top1, \"top5\", top5)\n",
    "        del data, label, index, preds, embeddings\n",
    "    \n",
    "    avh = AVH()\n",
    "    hardness_scores = avh(model=model, embeddings=torch.cat(all_embeddings), \n",
    "                           targets=torch.cat(all_labels))\n",
    "    return hardness_scores"
   ]
  },
  {
   "cell_type": "code",
   "execution_count": null,
   "metadata": {},
   "outputs": [
    {
     "name": "stderr",
     "output_type": "stream",
     "text": [
      "  0%|          | 2/3125 [00:00<02:38, 19.66it/s]"
     ]
    },
    {
     "name": "stdout",
     "output_type": "stream",
     "text": [
      "top1 tensor(0.8125, device='cuda:0') top5 tensor(0.9375, device='cuda:0')\n"
     ]
    },
    {
     "name": "stderr",
     "output_type": "stream",
     "text": [
      " 32%|███▏      | 1004/3125 [00:51<01:49, 19.31it/s]"
     ]
    },
    {
     "name": "stdout",
     "output_type": "stream",
     "text": [
      "top1 tensor(0.6875, device='cuda:0') top5 tensor(1., device='cuda:0')\n"
     ]
    },
    {
     "name": "stderr",
     "output_type": "stream",
     "text": [
      " 41%|████      | 1288/3125 [01:05<01:33, 19.66it/s]"
     ]
    }
   ],
   "source": [
    "policy_hardness_scores = []\n",
    "for i in range(10):\n",
    "    policy_hardness_scores.append(process(trained_model, policy_dataloaders[i]))"
   ]
  },
  {
   "cell_type": "code",
   "execution_count": 47,
   "metadata": {},
   "outputs": [
    {
     "data": {
      "text/plain": [
       "10"
      ]
     },
     "execution_count": 47,
     "metadata": {},
     "output_type": "execute_result"
    }
   ],
   "source": [
    "len(policy_hardness_scores)"
   ]
  },
  {
   "cell_type": "code",
   "execution_count": 31,
   "metadata": {},
   "outputs": [
    {
     "name": "stderr",
     "output_type": "stream",
     "text": [
      "  0%|          | 3/3125 [00:00<03:01, 17.21it/s]"
     ]
    },
    {
     "name": "stdout",
     "output_type": "stream",
     "text": [
      "top1 tensor(0.6250, device='cuda:0') top5 tensor(0.9375, device='cuda:0')\n"
     ]
    },
    {
     "name": "stderr",
     "output_type": "stream",
     "text": [
      " 32%|███▏      | 1004/3125 [00:51<01:50, 19.26it/s]"
     ]
    },
    {
     "name": "stdout",
     "output_type": "stream",
     "text": [
      "top1 tensor(0.5625, device='cuda:0') top5 tensor(0.8750, device='cuda:0')\n"
     ]
    },
    {
     "name": "stderr",
     "output_type": "stream",
     "text": [
      " 64%|██████▍   | 2004/3125 [01:42<00:58, 19.19it/s]"
     ]
    },
    {
     "name": "stdout",
     "output_type": "stream",
     "text": [
      "top1 tensor(0.5625, device='cuda:0') top5 tensor(1., device='cuda:0')\n"
     ]
    },
    {
     "name": "stderr",
     "output_type": "stream",
     "text": [
      " 96%|█████████▌| 3004/3125 [02:33<00:06, 19.31it/s]"
     ]
    },
    {
     "name": "stdout",
     "output_type": "stream",
     "text": [
      "top1 tensor(0.6875, device='cuda:0') top5 tensor(1., device='cuda:0')\n"
     ]
    },
    {
     "name": "stderr",
     "output_type": "stream",
     "text": [
      "100%|██████████| 3125/3125 [02:39<00:00, 19.63it/s]\n"
     ]
    }
   ],
   "source": [
    "scores, ind = process(trained_model, policy_dataloaders[5])"
   ]
  },
  {
   "cell_type": "code",
   "execution_count": 45,
   "metadata": {},
   "outputs": [
    {
     "data": {
      "text/plain": [
       "tensor([0.0469, 0.0444, 0.1140, 0.0444, 0.0453, 0.0713, 0.0477, 0.0544, 0.0511,\n",
       "        0.0829, 0.0509, 0.0554, 0.0517, 0.0473, 0.0625, 0.0826, 0.0452, 0.0604,\n",
       "        0.0487, 0.0581, 0.0594, 0.1013, 0.0515, 0.0559, 0.0969, 0.0545, 0.0602,\n",
       "        0.0714, 0.0468, 0.0480, 0.0824, 0.0510, 0.0630, 0.0459, 0.0638, 0.0449,\n",
       "        0.0862, 0.0454, 0.0557, 0.0516, 0.0532, 0.0448, 0.0513, 0.0474, 0.0451,\n",
       "        0.0454, 0.0540, 0.0686, 0.0779, 0.0455], device='cuda:0')"
      ]
     },
     "execution_count": 45,
     "metadata": {},
     "output_type": "execute_result"
    }
   ],
   "source": [
    "scores[easy_indices]"
   ]
  },
  {
   "cell_type": "code",
   "execution_count": 46,
   "metadata": {},
   "outputs": [
    {
     "data": {
      "text/plain": [
       "tensor([0.1127, 0.1190, 0.1033, 0.1039, 0.0917, 0.1210, 0.1091, 0.1026, 0.1009,\n",
       "        0.1019, 0.1192, 0.1105, 0.1068, 0.0993, 0.1018, 0.1113, 0.0853, 0.0991,\n",
       "        0.1092, 0.1067, 0.0987, 0.1026, 0.1058, 0.1063, 0.0919, 0.1154, 0.1105,\n",
       "        0.1134, 0.1113, 0.1146, 0.1042, 0.0998, 0.0963, 0.1146, 0.1066, 0.1071,\n",
       "        0.1192, 0.1127, 0.0973, 0.1182, 0.1010, 0.1151, 0.1143, 0.1213, 0.0949,\n",
       "        0.1145, 0.1182, 0.1179, 0.1189, 0.1192], device='cuda:0')"
      ]
     },
     "execution_count": 46,
     "metadata": {},
     "output_type": "execute_result"
    }
   ],
   "source": [
    "scores[hard_indices]"
   ]
  },
  {
   "cell_type": "code",
   "execution_count": 85,
   "metadata": {},
   "outputs": [],
   "source": [
    "easy_hardness_scores = []\n",
    "hard_hardness_scores = []\n",
    "unaugmented_easy_hardness_scores = unaugmented_hardness[easy_indices]\n",
    "unaugmented_hard_hardness_scores = unaugmented_hardness[hard_indices]\n",
    "for hardness_scores in policy_hardness_scores:\n",
    "    easy_hardness_scores.append(hardness_scores[easy_indices].cpu().numpy())\n",
    "    hard_hardness_scores.append(hardness_scores[hard_indices].cpu().numpy())"
   ]
  },
  {
   "cell_type": "code",
   "execution_count": 49,
   "metadata": {},
   "outputs": [],
   "source": [
    "easy_hardness_scores = np.array(easy_hardness_scores)\n",
    "hard_hardness_scores = np.array(hard_hardness_scores)"
   ]
  },
  {
   "cell_type": "code",
   "execution_count": 54,
   "metadata": {},
   "outputs": [
    {
     "data": {
      "text/plain": [
       "array([0.05631663, 0.05119267, 0.06017061, 0.05371993, 0.05212297,\n",
       "       0.05444066, 0.05377558, 0.04696631, 0.04839121, 0.05046828],\n",
       "      dtype=float32)"
      ]
     },
     "execution_count": 54,
     "metadata": {},
     "output_type": "execute_result"
    }
   ],
   "source": [
    "easy_hardness_scores.mean(axis=1)"
   ]
  },
  {
   "cell_type": "code",
   "execution_count": 56,
   "metadata": {},
   "outputs": [
    {
     "data": {
      "text/plain": [
       "array([0.0129358 , 0.00777849, 0.01539947, 0.01274564, 0.00860868,\n",
       "       0.01336464, 0.01292988, 0.00298139, 0.00716522, 0.00559608],\n",
       "      dtype=float32)"
      ]
     },
     "execution_count": 56,
     "metadata": {},
     "output_type": "execute_result"
    }
   ],
   "source": [
    "easy_hardness_scores.std(axis=1)"
   ]
  },
  {
   "cell_type": "code",
   "execution_count": 57,
   "metadata": {},
   "outputs": [
    {
     "data": {
      "text/plain": [
       "array([0.10732201, 0.10777339, 0.10272497, 0.1081401 , 0.10922161,\n",
       "       0.10908815, 0.10813341, 0.10853988, 0.10819274, 0.10682593],\n",
       "      dtype=float32)"
      ]
     },
     "execution_count": 57,
     "metadata": {},
     "output_type": "execute_result"
    }
   ],
   "source": [
    "hard_hardness_scores.mean(axis=1)"
   ]
  },
  {
   "cell_type": "code",
   "execution_count": 58,
   "metadata": {},
   "outputs": [
    {
     "data": {
      "text/plain": [
       "array([0.00960625, 0.00669786, 0.01033615, 0.00832002, 0.00791102,\n",
       "       0.01005729, 0.00828152, 0.00688571, 0.00758146, 0.00688873],\n",
       "      dtype=float32)"
      ]
     },
     "execution_count": 58,
     "metadata": {},
     "output_type": "execute_result"
    }
   ],
   "source": [
    "hard_hardness_scores.std(axis=1)"
   ]
  },
  {
   "cell_type": "code",
   "execution_count": 59,
   "metadata": {},
   "outputs": [],
   "source": [
    "policy_mean_easy = easy_hardness_scores.mean(axis=0)"
   ]
  },
  {
   "cell_type": "code",
   "execution_count": 62,
   "metadata": {},
   "outputs": [],
   "source": [
    "policy_std_easy = easy_hardness_scores.std(axis=0)"
   ]
  },
  {
   "cell_type": "code",
   "execution_count": 63,
   "metadata": {},
   "outputs": [],
   "source": [
    "policy_mean_hard = hard_hardness_scores.mean(axis=0)"
   ]
  },
  {
   "cell_type": "code",
   "execution_count": 64,
   "metadata": {},
   "outputs": [],
   "source": [
    "policy_std_hard = hard_hardness_scores.std(axis=0)"
   ]
  },
  {
   "cell_type": "code",
   "execution_count": 89,
   "metadata": {},
   "outputs": [
    {
     "data": {
      "image/png": "[encoded data removed]",
      "text/plain": [
       "<Figure size 1080x504 with 1 Axes>"
      ]
     },
     "metadata": {
      "needs_background": "light"
     },
     "output_type": "display_data"
    }
   ],
   "source": [
    "plt.figure(figsize=(15,7))\n",
    "plt.plot(np.arange(50), unaugmented_easy_hardness_scores, color='green')\n",
    "plt.plot(np.arange(50), unaugmented_hard_hardness_scores, color='black')\n",
    "\n",
    "plt.plot(np.arange(50), policy_mean_easy, color='r')\n",
    "plt.plot(np.arange(50), policy_mean_easy-policy_std_easy, color='b')\n",
    "plt.plot(np.arange(50), policy_mean_easy+policy_std_easy, color='b')\n",
    "plt.fill_between(np.arange(50), policy_mean_easy-policy_std_easy, policy_mean_easy+policy_std_easy, color='blue', alpha=0.1)\n",
    "\n",
    "plt.plot(np.arange(50), policy_mean_hard, color='r')\n",
    "plt.plot(np.arange(50), policy_mean_hard-policy_std_hard, color='b')\n",
    "plt.plot(np.arange(50), policy_mean_hard+policy_std_hard, color='b')\n",
    "plt.fill_between(np.arange(50), policy_mean_hard-policy_std_hard, policy_mean_hard+policy_std_hard, color='blue', alpha=0.1)\n",
    "plt.ylim(0, 0.2)\n",
    "plt.xlabel('images')\n",
    "plt.ylabel('avh_scores')\n",
    "plt.legend([\"unaugmented_easy\", \"unaugmented_hard\", \"easy\", \"\", \"\", \"hard\", \"\", \"\"])\n",
    "plt.show();"
   ]
  },
  {
   "cell_type": "code",
   "execution_count": 114,
   "metadata": {},
   "outputs": [],
   "source": [
    "range = (0, unaugmented_hard_hardness_scores.max()+0.05)"
   ]
  },
  {
   "cell_type": "code",
   "execution_count": 119,
   "metadata": {},
   "outputs": [
    {
     "data": {
      "text/plain": [
       "(array([ 0.,  0.,  0.,  0.,  0.,  0.,  0.,  0.,  0.,  0.,  0.,  0., 50.,\n",
       "         0.,  0.,  0.,  0.,  0.,  0.,  0.,  0.,  0.,  0.,  0.,  0.,  0.,\n",
       "         0.,  0.,  0.,  0.,  0.,  0.,  0.,  0.,  0.,  0.,  0.,  0.,  0.,\n",
       "         0.,  0.,  0.,  0.,  0.,  0.,  0.,  0.,  0.,  0.,  0.]),\n",
       " array([0.        , 0.00344229, 0.00688458, 0.01032687, 0.01376915,\n",
       "        0.01721144, 0.02065373, 0.02409602, 0.02753831, 0.0309806 ,\n",
       "        0.03442289, 0.03786517, 0.04130746, 0.04474975, 0.04819204,\n",
       "        0.05163433, 0.05507661, 0.0585189 , 0.06196119, 0.06540348,\n",
       "        0.06884577, 0.07228806, 0.07573035, 0.07917263, 0.08261492,\n",
       "        0.08605721, 0.0894995 , 0.09294178, 0.09638408, 0.09982637,\n",
       "        0.10326865, 0.10671094, 0.11015323, 0.11359552, 0.1170378 ,\n",
       "        0.12048009, 0.12392239, 0.12736467, 0.13080695, 0.13424924,\n",
       "        0.13769154, 0.14113383, 0.14457612, 0.1480184 , 0.15146069,\n",
       "        0.15490298, 0.15834527, 0.16178755, 0.16522984, 0.16867213,\n",
       "        0.17211442], dtype=float32),\n",
       " <BarContainer object of 50 artists>)"
      ]
     },
     "execution_count": 119,
     "metadata": {},
     "output_type": "execute_result"
    },
    {
     "data": {
      "image/png": "[encoded data removed]",
      "text/plain": [
       "<Figure size 432x288 with 1 Axes>"
      ]
     },
     "metadata": {
      "needs_background": "light"
     },
     "output_type": "display_data"
    }
   ],
   "source": [
    "plt.hist(unaugmented_easy_hardness_scores, bins=50, align='mid', range=range)"
   ]
  },
  {
   "cell_type": "code",
   "execution_count": 120,
   "metadata": {},
   "outputs": [
    {
     "data": {
      "text/plain": [
       "(array([ 0.,  0.,  0.,  0.,  0.,  0.,  0.,  0.,  0.,  0.,  0.,  0.,  0.,\n",
       "         0.,  0.,  0.,  0.,  0.,  0.,  0.,  0.,  0.,  0.,  0.,  0.,  0.,\n",
       "         0.,  0.,  0.,  0.,  0.,  0., 27., 16.,  6.,  1.,  0.,  0.,  0.,\n",
       "         0.,  0.,  0.,  0.,  0.,  0.,  0.,  0.,  0.,  0.,  0.]),\n",
       " array([0.        , 0.00344229, 0.00688458, 0.01032687, 0.01376915,\n",
       "        0.01721144, 0.02065373, 0.02409602, 0.02753831, 0.0309806 ,\n",
       "        0.03442289, 0.03786517, 0.04130746, 0.04474975, 0.04819204,\n",
       "        0.05163433, 0.05507661, 0.0585189 , 0.06196119, 0.06540348,\n",
       "        0.06884577, 0.07228806, 0.07573035, 0.07917263, 0.08261492,\n",
       "        0.08605721, 0.0894995 , 0.09294178, 0.09638408, 0.09982637,\n",
       "        0.10326865, 0.10671094, 0.11015323, 0.11359552, 0.1170378 ,\n",
       "        0.12048009, 0.12392239, 0.12736467, 0.13080695, 0.13424924,\n",
       "        0.13769154, 0.14113383, 0.14457612, 0.1480184 , 0.15146069,\n",
       "        0.15490298, 0.15834527, 0.16178755, 0.16522984, 0.16867213,\n",
       "        0.17211442], dtype=float32),\n",
       " <BarContainer object of 50 artists>)"
      ]
     },
     "execution_count": 120,
     "metadata": {},
     "output_type": "execute_result"
    },
    {
     "data": {
      "image/png": "[encoded data removed]",
      "text/plain": [
       "<Figure size 432x288 with 1 Axes>"
      ]
     },
     "metadata": {
      "needs_background": "light"
     },
     "output_type": "display_data"
    }
   ],
   "source": [
    "plt.hist(unaugmented_hard_hardness_scores, bins=50, align='mid', range=range)"
   ]
  },
  {
   "cell_type": "code",
   "execution_count": 121,
   "metadata": {},
   "outputs": [
    {
     "data": {
      "text/plain": [
       "(array([ 0.,  0.,  0.,  0.,  0.,  0.,  0.,  0.,  0.,  0.,  0.,  0.,  0.,\n",
       "         7., 14., 15.,  9.,  5.,  0.,  0.,  0.,  0.,  0.,  0.,  0.,  0.,\n",
       "         0.,  0.,  0.,  0.,  0.,  0.,  0.,  0.,  0.,  0.,  0.,  0.,  0.,\n",
       "         0.,  0.,  0.,  0.,  0.,  0.,  0.,  0.,  0.,  0.,  0.]),\n",
       " array([0.        , 0.00344229, 0.00688458, 0.01032687, 0.01376915,\n",
       "        0.01721144, 0.02065373, 0.02409602, 0.02753831, 0.0309806 ,\n",
       "        0.03442289, 0.03786517, 0.04130746, 0.04474975, 0.04819204,\n",
       "        0.05163433, 0.05507661, 0.0585189 , 0.06196119, 0.06540348,\n",
       "        0.06884577, 0.07228806, 0.07573035, 0.07917263, 0.08261492,\n",
       "        0.08605721, 0.0894995 , 0.09294178, 0.09638408, 0.09982637,\n",
       "        0.10326865, 0.10671094, 0.11015323, 0.11359552, 0.1170378 ,\n",
       "        0.12048009, 0.12392239, 0.12736467, 0.13080695, 0.13424924,\n",
       "        0.13769154, 0.14113383, 0.14457612, 0.1480184 , 0.15146069,\n",
       "        0.15490298, 0.15834527, 0.16178755, 0.16522984, 0.16867213,\n",
       "        0.17211442], dtype=float32),\n",
       " <BarContainer object of 50 artists>)"
      ]
     },
     "execution_count": 121,
     "metadata": {},
     "output_type": "execute_result"
    },
    {
     "data": {
      "image/png": "[encoded data removed]",
      "text/plain": [
       "<Figure size 432x288 with 1 Axes>"
      ]
     },
     "metadata": {
      "needs_background": "light"
     },
     "output_type": "display_data"
    }
   ],
   "source": [
    "plt.hist(policy_mean_easy, bins=50, align='mid', range=range)"
   ]
  },
  {
   "cell_type": "code",
   "execution_count": 130,
   "metadata": {},
   "outputs": [
    {
     "data": {
      "text/plain": [
       "(array([ 0.,  0.,  0.,  0.,  0.,  0.,  0.,  0.,  0.,  0.,  0.,  0.,  0.,\n",
       "         0.,  0.,  0.,  0.,  0.,  0.,  0.,  0.,  0.,  0.,  0.,  0.,  0.,\n",
       "         0.,  0.,  2., 10., 10., 13., 11.,  4.,  0.,  0.,  0.,  0.,  0.,\n",
       "         0.,  0.,  0.,  0.,  0.,  0.,  0.,  0.,  0.,  0.,  0.]),\n",
       " array([0.        , 0.00344229, 0.00688458, 0.01032687, 0.01376915,\n",
       "        0.01721144, 0.02065373, 0.02409602, 0.02753831, 0.0309806 ,\n",
       "        0.03442289, 0.03786517, 0.04130746, 0.04474975, 0.04819204,\n",
       "        0.05163433, 0.05507661, 0.0585189 , 0.06196119, 0.06540348,\n",
       "        0.06884577, 0.07228806, 0.07573035, 0.07917263, 0.08261492,\n",
       "        0.08605721, 0.0894995 , 0.09294178, 0.09638408, 0.09982637,\n",
       "        0.10326865, 0.10671094, 0.11015323, 0.11359552, 0.1170378 ,\n",
       "        0.12048009, 0.12392239, 0.12736467, 0.13080695, 0.13424924,\n",
       "        0.13769154, 0.14113383, 0.14457612, 0.1480184 , 0.15146069,\n",
       "        0.15490298, 0.15834527, 0.16178755, 0.16522984, 0.16867213,\n",
       "        0.17211442], dtype=float32),\n",
       " <BarContainer object of 50 artists>)"
      ]
     },
     "execution_count": 130,
     "metadata": {},
     "output_type": "execute_result"
    },
    {
     "data": {
      "image/png": "[encoded data removed]",
      "text/plain": [
       "<Figure size 432x288 with 1 Axes>"
      ]
     },
     "metadata": {
      "needs_background": "light"
     },
     "output_type": "display_data"
    }
   ],
   "source": [
    "plt.hist(policy_mean_hard, bins=50, align='mid', range=range)"
   ]
  },
  {
   "cell_type": "code",
   "execution_count": 136,
   "metadata": {},
   "outputs": [
    {
     "data": {
      "text/plain": [
       "<matplotlib.legend.Legend at 0x7fc143ecf090>"
      ]
     },
     "execution_count": 136,
     "metadata": {},
     "output_type": "execute_result"
    },
    {
     "data": {
      "image/png": "[encoded data removed]",
      "text/plain": [
       "<Figure size 432x288 with 1 Axes>"
      ]
     },
     "metadata": {
      "needs_background": "light"
     },
     "output_type": "display_data"
    }
   ],
   "source": [
    "plt.hist(unaugmented_easy_hardness_scores, bins=50, align='mid')\n",
    "plt.hist(unaugmented_hard_hardness_scores, bins=50, align='mid')\n",
    "plt.hist(policy_mean_easy, bins=50, align='mid')\n",
    "plt.hist(policy_mean_hard, bins=50, align='mid')\n",
    "plt.hist(policy_std_easy, bins=50, align='mid')\n",
    "plt.hist(policy_std_hard, bins=50, align='mid')\n",
    "plt.ylabel('number of images')\n",
    "plt.xlabel('avh')\n",
    "plt.legend([\"unaugmented_easy\", \"unaugmented_hard\", \"augmented_easy\", \"augmented_hard\", \"std_easy\", \"std_hard\"])"
   ]
  },
  {
   "cell_type": "code",
   "execution_count": 131,
   "metadata": {},
   "outputs": [],
   "source": [
    "difference_easy = policy_mean_easy - unaugmented_easy_hardness_scores\n",
    "difference_hard = policy_mean_hard - unaugmented_hard_hardness_scores"
   ]
  },
  {
   "cell_type": "code",
   "execution_count": 134,
   "metadata": {},
   "outputs": [
    {
     "data": {
      "image/png": "[encoded data removed]",
      "text/plain": [
       "<Figure size 432x288 with 1 Axes>"
      ]
     },
     "metadata": {
      "needs_background": "light"
     },
     "output_type": "display_data"
    }
   ],
   "source": [
    "plt.plot(np.arange(50), difference_easy)\n",
    "plt.plot(np.arange(50), difference_hard)\n",
    "plt.legend([\"difference_easy\", \"difference_hard\"])\n",
    "plt.xlabel('images')\n",
    "plt.ylabel('(augmented_avh - unaugmented_avh)')\n",
    "plt.show();"
   ]
  },
  {
   "cell_type": "code",
   "execution_count": 135,
   "metadata": {},
   "outputs": [
    {
     "data": {
      "image/png": "[encoded data removed]",
      "text/plain": [
       "<Figure size 432x288 with 1 Axes>"
      ]
     },
     "metadata": {
      "needs_background": "light"
     },
     "output_type": "display_data"
    }
   ],
   "source": [
    "plt.hist(difference_easy, bins=50)\n",
    "plt.hist(difference_hard, bins=50)\n",
    "plt.legend([\"difference_easy\", \"difference_hard\"])\n",
    "plt.ylabel('number of images')\n",
    "plt.xlabel('(augmented_avh - unaugmented_avh)')\n",
    "plt.show();"
   ]
  },
  {
   "cell_type": "code",
   "execution_count": 137,
   "metadata": {},
   "outputs": [
    {
     "name": "stdout",
     "output_type": "stream",
     "text": [
      "Differnce_easy mean 0.008312769 std 0.003910156\n"
     ]
    }
   ],
   "source": [
    "print(\"Differnce_easy\", \"mean\", difference_easy.mean(), \"std\", difference_easy.std())"
   ]
  },
  {
   "cell_type": "code",
   "execution_count": 138,
   "metadata": {},
   "outputs": [
    {
     "name": "stdout",
     "output_type": "stream",
     "text": [
      "Differnce_hard mean -0.0060746972 std 0.0038356348\n"
     ]
    }
   ],
   "source": [
    "print(\"Differnce_hard\", \"mean\", difference_hard.mean(), \"std\", difference_hard.std())"
   ]
  },
  {
   "cell_type": "code",
   "execution_count": null,
   "metadata": {},
   "outputs": [],
   "source": []
  },
  {
   "cell_type": "code",
   "execution_count": 145,
   "metadata": {},
   "outputs": [],
   "source": [
    "model = untrained_model"
   ]
  },
  {
   "cell_type": "code",
   "execution_count": 146,
   "metadata": {},
   "outputs": [],
   "source": [
    "save_path = '/efs-cotton/outputs/fast-autoaugment/confs/hardnessaware/wresnet28x10_rcifar-AA-rerun7/test.pth'\n",
    "data = torch.load(save_path)\n",
    "key = 'model' if 'model' in data else 'state_dict'\n",
    "\n",
    "if 'epoch' not in data:\n",
    "    model.load_state_dict(data)\n",
    "else:\n",
    "    if not isinstance(model, (DataParallel, DistributedDataParallel)):\n",
    "        model.load_state_dict({k.replace('module.', ''): v for k, v in data[key].items()})\n",
    "    else:\n",
    "        model.load_state_dict({k if 'module.' in k else 'module.'+k: v for k, v in data[key].items()})"
   ]
  },
  {
   "cell_type": "code",
   "execution_count": 147,
   "metadata": {},
   "outputs": [
    {
     "data": {
      "text/plain": [
       "10"
      ]
     },
     "execution_count": 147,
     "metadata": {},
     "output_type": "execute_result"
    }
   ],
   "source": [
    "data['epoch']"
   ]
  },
  {
   "cell_type": "code",
   "execution_count": 148,
   "metadata": {},
   "outputs": [],
   "source": [
    "augmentations = [\"ShearX\", \"ShearY\", \"Rotate\", \"AutoContrast\", \"Invert\", \n",
    "                 \"Equalize\", \"Solarize\", \"Contrast\", \"Color\", \"Brightness\", \n",
    "                 \"Sharpness\", \"Posterize2\", \"TranslateXAbs\", \"TranslateYAbs\"]"
   ]
  },
  {
   "cell_type": "code",
   "execution_count": 149,
   "metadata": {},
   "outputs": [],
   "source": [
    "policy = [[('Contrast', 0.5, 'random'),\n",
    "  ('Rotate', 0.5, 'random'),\n",
    "  ('TranslateXAbs', 0.5, 'random'),\n",
    "  ('Solarize', 0.5, 'random'),\n",
    "  ('Invert', 0.5, 'random')],\n",
    " [('Rotate', 0.5, 'random'),\n",
    "  ('ShearX', 0.5, 'random'),\n",
    "  ('TranslateXAbs', 0.5, 'random'),\n",
    "  ('TranslateYAbs', 0.5, 'random'),\n",
    "  ('ShearY', 0.5, 'random')],\n",
    " [('Solarize', 0.5, 'random'),\n",
    "  ('Sharpness', 0.5, 'random'),\n",
    "  ('Rotate', 0.5, 'random'),\n",
    "  ('TranslateYAbs', 0.5, 'random'),\n",
    "  ('Posterize2', 0.5, 'random')],\n",
    " [('TranslateYAbs', 0.5, 'random'),\n",
    "  ('TranslateXAbs', 0.5, 'random'),\n",
    "  ('AutoContrast', 0.5, 'random'),\n",
    "  ('Posterize2', 0.5, 'random'),\n",
    "  ('Solarize', 0.5, 'random')],\n",
    " [('TranslateYAbs', 0.5, 'random'),\n",
    "  ('ShearY', 0.5, 'random'),\n",
    "  ('Invert', 0.5, 'random'),\n",
    "  ('Contrast', 0.5, 'random'),\n",
    "  ('TranslateXAbs', 0.5, 'random')],\n",
    " [('ShearX', 0.5, 'random'),\n",
    "  ('Rotate', 0.5, 'random'),\n",
    "  ('Invert', 0.5, 'random'),\n",
    "  ('TranslateYAbs', 0.5, 'random'),\n",
    "  ('ShearY', 0.5, 'random')],\n",
    " [('Solarize', 0.5, 'random'),\n",
    "  ('AutoContrast', 0.5, 'random'),\n",
    "  ('Color', 0.5, 'random'),\n",
    "  ('Posterize2', 0.5, 'random'),\n",
    "  ('Brightness', 0.5, 'random')],\n",
    " [('ShearY', 0.5, 'random'),\n",
    "  ('Contrast', 0.5, 'random'),\n",
    "  ('ShearX', 0.5, 'random'),\n",
    "  ('TranslateYAbs', 0.5, 'random'),\n",
    "  ('TranslateXAbs', 0.5, 'random')],\n",
    " [('Solarize', 0.5, 'random'),\n",
    "  ('Color', 0.5, 'random'),\n",
    "  ('Brightness', 0.5, 'random'),\n",
    "  ('TranslateXAbs', 0.5, 'random'),\n",
    "  ('Equalize', 0.5, 'random')],\n",
    " [('Brightness', 0.5, 'random'),\n",
    "  ('Solarize', 0.5, 'random'),\n",
    "  ('ShearX', 0.5, 'random'),\n",
    "  ('Equalize', 0.5, 'random'),\n",
    "  ('Invert', 0.5, 'random')]]"
   ]
  },
  {
   "cell_type": "code",
   "execution_count": 150,
   "metadata": {},
   "outputs": [],
   "source": [
    "class Augmentation2(object):\n",
    "    def __init__(self, policies):\n",
    "        self.policies = policies\n",
    "\n",
    "    def __call__(self, img, hardness_score=None):\n",
    "        for name, pr, level in self.policies:\n",
    "            if random.random() > pr:\n",
    "                continue\n",
    "            if level == 'random':\n",
    "                level = random.choice(range(10))*0.1\n",
    "            img = apply_augment(img, name, level)\n",
    "        return img"
   ]
  },
  {
   "cell_type": "code",
   "execution_count": 151,
   "metadata": {},
   "outputs": [],
   "source": [
    "_CIFAR_MEAN, _CIFAR_STD = (0.4914, 0.4822, 0.4465), (0.2023, 0.1994, 0.2010)\n",
    "dataroot = \"data\""
   ]
  },
  {
   "cell_type": "code",
   "execution_count": 152,
   "metadata": {},
   "outputs": [
    {
     "name": "stderr",
     "output_type": "stream",
     "text": [
      "  0%|          | 3/3125 [00:00<03:01, 17.16it/s]"
     ]
    },
    {
     "name": "stdout",
     "output_type": "stream",
     "text": [
      "top1 tensor(0.6250, device='cuda:0') top5 tensor(0.9375, device='cuda:0')\n"
     ]
    },
    {
     "name": "stderr",
     "output_type": "stream",
     "text": [
      "  3%|▎         | 104/3125 [00:05<02:35, 19.46it/s]"
     ]
    },
    {
     "name": "stdout",
     "output_type": "stream",
     "text": [
      "top1 tensor(0.6250, device='cuda:0') top5 tensor(0.8125, device='cuda:0')\n"
     ]
    },
    {
     "name": "stderr",
     "output_type": "stream",
     "text": [
      "  7%|▋         | 204/3125 [00:10<02:29, 19.50it/s]"
     ]
    },
    {
     "name": "stdout",
     "output_type": "stream",
     "text": [
      "top1 tensor(0.5625, device='cuda:0') top5 tensor(0.9375, device='cuda:0')\n"
     ]
    },
    {
     "name": "stderr",
     "output_type": "stream",
     "text": [
      " 10%|▉         | 304/3125 [00:15<02:24, 19.49it/s]"
     ]
    },
    {
     "name": "stdout",
     "output_type": "stream",
     "text": [
      "top1 tensor(0.4375, device='cuda:0') top5 tensor(0.8750, device='cuda:0')\n"
     ]
    },
    {
     "name": "stderr",
     "output_type": "stream",
     "text": [
      " 13%|█▎        | 404/3125 [00:20<02:19, 19.44it/s]"
     ]
    },
    {
     "name": "stdout",
     "output_type": "stream",
     "text": [
      "top1 tensor(0.5000, device='cuda:0') top5 tensor(0.9375, device='cuda:0')\n"
     ]
    },
    {
     "name": "stderr",
     "output_type": "stream",
     "text": [
      " 16%|█▌        | 504/3125 [00:25<02:14, 19.44it/s]"
     ]
    },
    {
     "name": "stdout",
     "output_type": "stream",
     "text": [
      "top1 tensor(0.4375, device='cuda:0') top5 tensor(0.9375, device='cuda:0')\n"
     ]
    },
    {
     "name": "stderr",
     "output_type": "stream",
     "text": [
      " 19%|█▉        | 604/3125 [00:30<02:09, 19.42it/s]"
     ]
    },
    {
     "name": "stdout",
     "output_type": "stream",
     "text": [
      "top1 tensor(0.5000, device='cuda:0') top5 tensor(0.8750, device='cuda:0')\n"
     ]
    },
    {
     "name": "stderr",
     "output_type": "stream",
     "text": [
      " 23%|██▎       | 704/3125 [00:35<02:04, 19.42it/s]"
     ]
    },
    {
     "name": "stdout",
     "output_type": "stream",
     "text": [
      "top1 tensor(0.3750, device='cuda:0') top5 tensor(0.9375, device='cuda:0')\n"
     ]
    },
    {
     "name": "stderr",
     "output_type": "stream",
     "text": [
      " 26%|██▌       | 804/3125 [00:41<01:59, 19.41it/s]"
     ]
    },
    {
     "name": "stdout",
     "output_type": "stream",
     "text": [
      "top1 tensor(0.6250, device='cuda:0') top5 tensor(1., device='cuda:0')\n"
     ]
    },
    {
     "name": "stderr",
     "output_type": "stream",
     "text": [
      " 29%|██▉       | 904/3125 [00:46<01:54, 19.41it/s]"
     ]
    },
    {
     "name": "stdout",
     "output_type": "stream",
     "text": [
      "top1 tensor(0.6250, device='cuda:0') top5 tensor(1., device='cuda:0')\n"
     ]
    },
    {
     "name": "stderr",
     "output_type": "stream",
     "text": [
      " 32%|███▏      | 1004/3125 [00:51<01:49, 19.39it/s]"
     ]
    },
    {
     "name": "stdout",
     "output_type": "stream",
     "text": [
      "top1 tensor(0.4375, device='cuda:0') top5 tensor(0.8750, device='cuda:0')\n"
     ]
    },
    {
     "name": "stderr",
     "output_type": "stream",
     "text": [
      " 35%|███▌      | 1104/3125 [00:56<01:44, 19.41it/s]"
     ]
    },
    {
     "name": "stdout",
     "output_type": "stream",
     "text": [
      "top1 tensor(0.4375, device='cuda:0') top5 tensor(0.9375, device='cuda:0')\n"
     ]
    },
    {
     "name": "stderr",
     "output_type": "stream",
     "text": [
      " 39%|███▊      | 1204/3125 [01:01<01:39, 19.40it/s]"
     ]
    },
    {
     "name": "stdout",
     "output_type": "stream",
     "text": [
      "top1 tensor(0.5000, device='cuda:0') top5 tensor(0.9375, device='cuda:0')\n"
     ]
    },
    {
     "name": "stderr",
     "output_type": "stream",
     "text": [
      " 42%|████▏     | 1304/3125 [01:06<01:33, 19.40it/s]"
     ]
    },
    {
     "name": "stdout",
     "output_type": "stream",
     "text": [
      "top1 tensor(0.2500, device='cuda:0') top5 tensor(0.8125, device='cuda:0')\n"
     ]
    },
    {
     "name": "stderr",
     "output_type": "stream",
     "text": [
      " 45%|████▍     | 1404/3125 [01:11<01:28, 19.40it/s]"
     ]
    },
    {
     "name": "stdout",
     "output_type": "stream",
     "text": [
      "top1 tensor(0.1875, device='cuda:0') top5 tensor(0.9375, device='cuda:0')\n"
     ]
    },
    {
     "name": "stderr",
     "output_type": "stream",
     "text": [
      " 48%|████▊     | 1504/3125 [01:16<01:23, 19.40it/s]"
     ]
    },
    {
     "name": "stdout",
     "output_type": "stream",
     "text": [
      "top1 tensor(0.5625, device='cuda:0') top5 tensor(1., device='cuda:0')\n"
     ]
    },
    {
     "name": "stderr",
     "output_type": "stream",
     "text": [
      " 51%|█████▏    | 1604/3125 [01:21<01:18, 19.40it/s]"
     ]
    },
    {
     "name": "stdout",
     "output_type": "stream",
     "text": [
      "top1 tensor(0.4375, device='cuda:0') top5 tensor(0.9375, device='cuda:0')\n"
     ]
    },
    {
     "name": "stderr",
     "output_type": "stream",
     "text": [
      " 55%|█████▍    | 1704/3125 [01:26<01:13, 19.41it/s]"
     ]
    },
    {
     "name": "stdout",
     "output_type": "stream",
     "text": [
      "top1 tensor(0.1250, device='cuda:0') top5 tensor(0.8750, device='cuda:0')\n"
     ]
    },
    {
     "name": "stderr",
     "output_type": "stream",
     "text": [
      " 58%|█████▊    | 1804/3125 [01:31<01:08, 19.40it/s]"
     ]
    },
    {
     "name": "stdout",
     "output_type": "stream",
     "text": [
      "top1 tensor(0.3125, device='cuda:0') top5 tensor(1., device='cuda:0')\n"
     ]
    },
    {
     "name": "stderr",
     "output_type": "stream",
     "text": [
      " 61%|██████    | 1904/3125 [01:37<01:02, 19.40it/s]"
     ]
    },
    {
     "name": "stdout",
     "output_type": "stream",
     "text": [
      "top1 tensor(0.4375, device='cuda:0') top5 tensor(0.7500, device='cuda:0')\n"
     ]
    },
    {
     "name": "stderr",
     "output_type": "stream",
     "text": [
      " 64%|██████▍   | 2004/3125 [01:42<00:57, 19.41it/s]"
     ]
    },
    {
     "name": "stdout",
     "output_type": "stream",
     "text": [
      "top1 tensor(0.3125, device='cuda:0') top5 tensor(1., device='cuda:0')\n"
     ]
    },
    {
     "name": "stderr",
     "output_type": "stream",
     "text": [
      " 67%|██████▋   | 2104/3125 [01:47<00:52, 19.41it/s]"
     ]
    },
    {
     "name": "stdout",
     "output_type": "stream",
     "text": [
      "top1 tensor(0.1875, device='cuda:0') top5 tensor(0.8750, device='cuda:0')\n"
     ]
    },
    {
     "name": "stderr",
     "output_type": "stream",
     "text": [
      " 71%|███████   | 2204/3125 [01:52<00:47, 19.41it/s]"
     ]
    },
    {
     "name": "stdout",
     "output_type": "stream",
     "text": [
      "top1 tensor(0.4375, device='cuda:0') top5 tensor(0.9375, device='cuda:0')\n"
     ]
    },
    {
     "name": "stderr",
     "output_type": "stream",
     "text": [
      " 74%|███████▎  | 2304/3125 [01:57<00:42, 19.40it/s]"
     ]
    },
    {
     "name": "stdout",
     "output_type": "stream",
     "text": [
      "top1 tensor(0.5000, device='cuda:0') top5 tensor(1., device='cuda:0')\n"
     ]
    },
    {
     "name": "stderr",
     "output_type": "stream",
     "text": [
      " 77%|███████▋  | 2404/3125 [02:02<00:37, 19.40it/s]"
     ]
    },
    {
     "name": "stdout",
     "output_type": "stream",
     "text": [
      "top1 tensor(0.5625, device='cuda:0') top5 tensor(1., device='cuda:0')\n"
     ]
    },
    {
     "name": "stderr",
     "output_type": "stream",
     "text": [
      " 80%|████████  | 2504/3125 [02:07<00:31, 19.41it/s]"
     ]
    },
    {
     "name": "stdout",
     "output_type": "stream",
     "text": [
      "top1 tensor(0.3125, device='cuda:0') top5 tensor(0.8750, device='cuda:0')\n"
     ]
    },
    {
     "name": "stderr",
     "output_type": "stream",
     "text": [
      " 83%|████████▎ | 2604/3125 [02:12<00:26, 19.41it/s]"
     ]
    },
    {
     "name": "stdout",
     "output_type": "stream",
     "text": [
      "top1 tensor(0.3125, device='cuda:0') top5 tensor(1., device='cuda:0')\n"
     ]
    },
    {
     "name": "stderr",
     "output_type": "stream",
     "text": [
      " 87%|████████▋ | 2704/3125 [02:17<00:21, 19.41it/s]"
     ]
    },
    {
     "name": "stdout",
     "output_type": "stream",
     "text": [
      "top1 tensor(0.3125, device='cuda:0') top5 tensor(0.9375, device='cuda:0')\n"
     ]
    },
    {
     "name": "stderr",
     "output_type": "stream",
     "text": [
      " 90%|████████▉ | 2804/3125 [02:22<00:16, 19.40it/s]"
     ]
    },
    {
     "name": "stdout",
     "output_type": "stream",
     "text": [
      "top1 tensor(0.2500, device='cuda:0') top5 tensor(0.8125, device='cuda:0')\n"
     ]
    },
    {
     "name": "stderr",
     "output_type": "stream",
     "text": [
      " 93%|█████████▎| 2904/3125 [02:27<00:11, 19.39it/s]"
     ]
    },
    {
     "name": "stdout",
     "output_type": "stream",
     "text": [
      "top1 tensor(0.3125, device='cuda:0') top5 tensor(0.8750, device='cuda:0')\n"
     ]
    },
    {
     "name": "stderr",
     "output_type": "stream",
     "text": [
      " 96%|█████████▌| 3004/3125 [02:33<00:06, 19.38it/s]"
     ]
    },
    {
     "name": "stdout",
     "output_type": "stream",
     "text": [
      "top1 tensor(0.4375, device='cuda:0') top5 tensor(0.8750, device='cuda:0')\n"
     ]
    },
    {
     "name": "stderr",
     "output_type": "stream",
     "text": [
      " 99%|█████████▉| 3104/3125 [02:38<00:01, 19.40it/s]"
     ]
    },
    {
     "name": "stdout",
     "output_type": "stream",
     "text": [
      "top1 tensor(0.3750, device='cuda:0') top5 tensor(1., device='cuda:0')\n"
     ]
    },
    {
     "name": "stderr",
     "output_type": "stream",
     "text": [
      "100%|██████████| 3125/3125 [02:39<00:00, 19.62it/s]\n"
     ]
    }
   ],
   "source": [
    "all_preds = []\n",
    "all_embeddings = []\n",
    "all_labels = []\n",
    "all_indices = []\n",
    "with torch.no_grad():\n",
    "    model.eval()\n",
    "    loader = tqdm(basic_dataloader, disable=False)\n",
    "    for i, (data, label, index) in enumerate(loader):\n",
    "        data, label = data.cuda(), label.cuda()\n",
    "        preds, embeddings = model(data)\n",
    "\n",
    "        all_preds.append(preds)\n",
    "        all_embeddings.append(embeddings)\n",
    "        all_labels.append(label)\n",
    "        all_indices.append(index)\n",
    "        top1, top5 = accuracy(preds, label, (1, 5))\n",
    "        if i%100==0:\n",
    "            print(\"top1\", top1, \"top5\", top5)\n",
    "    del data, label, index, preds, embeddings"
   ]
  },
  {
   "cell_type": "code",
   "execution_count": 153,
   "metadata": {},
   "outputs": [],
   "source": [
    "unaugmented_hardness = avh(model=model, embeddings=torch.cat(all_embeddings), \n",
    "                           targets=torch.cat(all_labels))"
   ]
  },
  {
   "cell_type": "code",
   "execution_count": 154,
   "metadata": {},
   "outputs": [],
   "source": [
    "unaugmented_hardness = unaugmented_hardness.cpu().numpy()\n",
    "all_indices = torch.cat(all_indices).cpu().numpy()"
   ]
  },
  {
   "cell_type": "code",
   "execution_count": 155,
   "metadata": {},
   "outputs": [],
   "source": [
    "combined = list(zip(*sorted(zip(unaugmented_hardness, all_indices))))"
   ]
  },
  {
   "cell_type": "code",
   "execution_count": 156,
   "metadata": {},
   "outputs": [],
   "source": [
    "sorted_indices = list(combined[1])"
   ]
  },
  {
   "cell_type": "code",
   "execution_count": 157,
   "metadata": {},
   "outputs": [],
   "source": [
    "easy_indices = sorted_indices[0:50]\n",
    "hard_indices = sorted_indices[-50:]"
   ]
  },
  {
   "cell_type": "code",
   "execution_count": 160,
   "metadata": {},
   "outputs": [],
   "source": [
    "def process(model, dataloader):\n",
    "    all_preds = []\n",
    "    all_embeddings = []\n",
    "    all_labels = []\n",
    "    all_indices = []\n",
    "    with torch.no_grad():\n",
    "        model.eval()\n",
    "        loader = tqdm(dataloader, disable=False)\n",
    "        for i, (data, label, index) in enumerate(loader):\n",
    "            data, label = data.cuda(), label.cuda()\n",
    "            preds, embeddings = model(data)\n",
    "\n",
    "            all_preds.append(preds)\n",
    "            all_embeddings.append(embeddings)\n",
    "            all_labels.append(label)\n",
    "            all_indices.append(index)\n",
    "            top1, top5 = accuracy(preds, label, (1, 5))\n",
    "            if i%1000==0:\n",
    "                print(\"top1\", top1, \"top5\", top5)\n",
    "        del data, label, index, preds, embeddings\n",
    "    \n",
    "    avh = AVH()\n",
    "    hardness_scores = avh(model=model, embeddings=torch.cat(all_embeddings), \n",
    "                           targets=torch.cat(all_labels))\n",
    "    return hardness_scores"
   ]
  },
  {
   "cell_type": "code",
   "execution_count": 165,
   "metadata": {},
   "outputs": [
    {
     "name": "stderr",
     "output_type": "stream",
     "text": [
      "  0%|          | 0/3125 [00:00<?, ?it/s]"
     ]
    },
    {
     "name": "stdout",
     "output_type": "stream",
     "text": [
      "t\n"
     ]
    },
    {
     "name": "stderr",
     "output_type": "stream",
     "text": [
      "\n"
     ]
    },
    {
     "ename": "TypeError",
     "evalue": "'tuple' object is not callable",
     "output_type": "error",
     "traceback": [
      "\u001b[0;31m---------------------------------------------------------------------------\u001b[0m",
      "\u001b[0;31mTypeError\u001b[0m                                 Traceback (most recent call last)",
      "\u001b[0;32m<ipython-input-165-1bdf42034ae4>\u001b[0m in \u001b[0;36m<module>\u001b[0;34m\u001b[0m\n\u001b[1;32m      2\u001b[0m \u001b[0;32mfor\u001b[0m \u001b[0mi\u001b[0m \u001b[0;32min\u001b[0m \u001b[0mnp\u001b[0m\u001b[0;34m.\u001b[0m\u001b[0marange\u001b[0m\u001b[0;34m(\u001b[0m\u001b[0;36m10\u001b[0m\u001b[0;34m)\u001b[0m\u001b[0;34m:\u001b[0m\u001b[0;34m\u001b[0m\u001b[0;34m\u001b[0m\u001b[0m\n\u001b[1;32m      3\u001b[0m     \u001b[0mprint\u001b[0m\u001b[0;34m(\u001b[0m\u001b[0;34m\"t\"\u001b[0m\u001b[0;34m)\u001b[0m\u001b[0;34m\u001b[0m\u001b[0;34m\u001b[0m\u001b[0m\n\u001b[0;32m----> 4\u001b[0;31m     \u001b[0mpolicy_hardness_scores\u001b[0m\u001b[0;34m.\u001b[0m\u001b[0mappend\u001b[0m\u001b[0;34m(\u001b[0m\u001b[0mprocess\u001b[0m\u001b[0;34m(\u001b[0m\u001b[0mmodel\u001b[0m\u001b[0;34m,\u001b[0m \u001b[0mpolicy_dataloaders\u001b[0m\u001b[0;34m[\u001b[0m\u001b[0mi\u001b[0m\u001b[0;34m]\u001b[0m\u001b[0;34m)\u001b[0m\u001b[0;34m)\u001b[0m\u001b[0;34m\u001b[0m\u001b[0;34m\u001b[0m\u001b[0m\n\u001b[0m",
      "\u001b[0;32m<ipython-input-160-95fc77afbb8e>\u001b[0m in \u001b[0;36mprocess\u001b[0;34m(model, dataloader)\u001b[0m\n\u001b[1;32m      7\u001b[0m         \u001b[0mmodel\u001b[0m\u001b[0;34m.\u001b[0m\u001b[0meval\u001b[0m\u001b[0;34m(\u001b[0m\u001b[0;34m)\u001b[0m\u001b[0;34m\u001b[0m\u001b[0;34m\u001b[0m\u001b[0m\n\u001b[1;32m      8\u001b[0m         \u001b[0mloader\u001b[0m \u001b[0;34m=\u001b[0m \u001b[0mtqdm\u001b[0m\u001b[0;34m(\u001b[0m\u001b[0mdataloader\u001b[0m\u001b[0;34m,\u001b[0m \u001b[0mdisable\u001b[0m\u001b[0;34m=\u001b[0m\u001b[0;32mFalse\u001b[0m\u001b[0;34m)\u001b[0m\u001b[0;34m\u001b[0m\u001b[0;34m\u001b[0m\u001b[0m\n\u001b[0;32m----> 9\u001b[0;31m         \u001b[0;32mfor\u001b[0m \u001b[0mi\u001b[0m\u001b[0;34m,\u001b[0m \u001b[0;34m(\u001b[0m\u001b[0mdata\u001b[0m\u001b[0;34m,\u001b[0m \u001b[0mlabel\u001b[0m\u001b[0;34m,\u001b[0m \u001b[0mindex\u001b[0m\u001b[0;34m)\u001b[0m \u001b[0;32min\u001b[0m \u001b[0menumerate\u001b[0m\u001b[0;34m(\u001b[0m\u001b[0mloader\u001b[0m\u001b[0;34m)\u001b[0m\u001b[0;34m:\u001b[0m\u001b[0;34m\u001b[0m\u001b[0;34m\u001b[0m\u001b[0m\n\u001b[0m\u001b[1;32m     10\u001b[0m             \u001b[0mdata\u001b[0m\u001b[0;34m,\u001b[0m \u001b[0mlabel\u001b[0m \u001b[0;34m=\u001b[0m \u001b[0mdata\u001b[0m\u001b[0;34m.\u001b[0m\u001b[0mcuda\u001b[0m\u001b[0;34m(\u001b[0m\u001b[0;34m)\u001b[0m\u001b[0;34m,\u001b[0m \u001b[0mlabel\u001b[0m\u001b[0;34m.\u001b[0m\u001b[0mcuda\u001b[0m\u001b[0;34m(\u001b[0m\u001b[0;34m)\u001b[0m\u001b[0;34m\u001b[0m\u001b[0;34m\u001b[0m\u001b[0m\n\u001b[1;32m     11\u001b[0m             \u001b[0mpreds\u001b[0m\u001b[0;34m,\u001b[0m \u001b[0membeddings\u001b[0m \u001b[0;34m=\u001b[0m \u001b[0mmodel\u001b[0m\u001b[0;34m(\u001b[0m\u001b[0mdata\u001b[0m\u001b[0;34m)\u001b[0m\u001b[0;34m\u001b[0m\u001b[0;34m\u001b[0m\u001b[0m\n",
      "\u001b[0;32m~/fast-autoaugment/FA/lib/python3.7/site-packages/tqdm/std.py\u001b[0m in \u001b[0;36m__iter__\u001b[0;34m(self)\u001b[0m\n\u001b[1;32m   1128\u001b[0m \u001b[0;34m\u001b[0m\u001b[0m\n\u001b[1;32m   1129\u001b[0m         \u001b[0;32mtry\u001b[0m\u001b[0;34m:\u001b[0m\u001b[0;34m\u001b[0m\u001b[0;34m\u001b[0m\u001b[0m\n\u001b[0;32m-> 1130\u001b[0;31m             \u001b[0;32mfor\u001b[0m \u001b[0mobj\u001b[0m \u001b[0;32min\u001b[0m \u001b[0miterable\u001b[0m\u001b[0;34m:\u001b[0m\u001b[0;34m\u001b[0m\u001b[0;34m\u001b[0m\u001b[0m\n\u001b[0m\u001b[1;32m   1131\u001b[0m                 \u001b[0;32myield\u001b[0m \u001b[0mobj\u001b[0m\u001b[0;34m\u001b[0m\u001b[0;34m\u001b[0m\u001b[0m\n\u001b[1;32m   1132\u001b[0m                 \u001b[0;31m# Update and possibly print the progressbar.\u001b[0m\u001b[0;34m\u001b[0m\u001b[0;34m\u001b[0m\u001b[0;34m\u001b[0m\u001b[0m\n",
      "\u001b[0;32m~/fast-autoaugment/FA/lib/python3.7/site-packages/torch/utils/data/dataloader.py\u001b[0m in \u001b[0;36m__next__\u001b[0;34m(self)\u001b[0m\n\u001b[1;32m    361\u001b[0m \u001b[0;34m\u001b[0m\u001b[0m\n\u001b[1;32m    362\u001b[0m     \u001b[0;32mdef\u001b[0m \u001b[0m__next__\u001b[0m\u001b[0;34m(\u001b[0m\u001b[0mself\u001b[0m\u001b[0;34m)\u001b[0m\u001b[0;34m:\u001b[0m\u001b[0;34m\u001b[0m\u001b[0;34m\u001b[0m\u001b[0m\n\u001b[0;32m--> 363\u001b[0;31m         \u001b[0mdata\u001b[0m \u001b[0;34m=\u001b[0m \u001b[0mself\u001b[0m\u001b[0;34m.\u001b[0m\u001b[0m_next_data\u001b[0m\u001b[0;34m(\u001b[0m\u001b[0;34m)\u001b[0m\u001b[0;34m\u001b[0m\u001b[0;34m\u001b[0m\u001b[0m\n\u001b[0m\u001b[1;32m    364\u001b[0m         \u001b[0mself\u001b[0m\u001b[0;34m.\u001b[0m\u001b[0m_num_yielded\u001b[0m \u001b[0;34m+=\u001b[0m \u001b[0;36m1\u001b[0m\u001b[0;34m\u001b[0m\u001b[0;34m\u001b[0m\u001b[0m\n\u001b[1;32m    365\u001b[0m         \u001b[0;32mif\u001b[0m \u001b[0mself\u001b[0m\u001b[0;34m.\u001b[0m\u001b[0m_dataset_kind\u001b[0m \u001b[0;34m==\u001b[0m \u001b[0m_DatasetKind\u001b[0m\u001b[0;34m.\u001b[0m\u001b[0mIterable\u001b[0m \u001b[0;32mand\u001b[0m\u001b[0;31m \u001b[0m\u001b[0;31m\\\u001b[0m\u001b[0;34m\u001b[0m\u001b[0;34m\u001b[0m\u001b[0m\n",
      "\u001b[0;32m~/fast-autoaugment/FA/lib/python3.7/site-packages/torch/utils/data/dataloader.py\u001b[0m in \u001b[0;36m_next_data\u001b[0;34m(self)\u001b[0m\n\u001b[1;32m    401\u001b[0m     \u001b[0;32mdef\u001b[0m \u001b[0m_next_data\u001b[0m\u001b[0;34m(\u001b[0m\u001b[0mself\u001b[0m\u001b[0;34m)\u001b[0m\u001b[0;34m:\u001b[0m\u001b[0;34m\u001b[0m\u001b[0;34m\u001b[0m\u001b[0m\n\u001b[1;32m    402\u001b[0m         \u001b[0mindex\u001b[0m \u001b[0;34m=\u001b[0m \u001b[0mself\u001b[0m\u001b[0;34m.\u001b[0m\u001b[0m_next_index\u001b[0m\u001b[0;34m(\u001b[0m\u001b[0;34m)\u001b[0m  \u001b[0;31m# may raise StopIteration\u001b[0m\u001b[0;34m\u001b[0m\u001b[0;34m\u001b[0m\u001b[0m\n\u001b[0;32m--> 403\u001b[0;31m         \u001b[0mdata\u001b[0m \u001b[0;34m=\u001b[0m \u001b[0mself\u001b[0m\u001b[0;34m.\u001b[0m\u001b[0m_dataset_fetcher\u001b[0m\u001b[0;34m.\u001b[0m\u001b[0mfetch\u001b[0m\u001b[0;34m(\u001b[0m\u001b[0mindex\u001b[0m\u001b[0;34m)\u001b[0m  \u001b[0;31m# may raise StopIteration\u001b[0m\u001b[0;34m\u001b[0m\u001b[0;34m\u001b[0m\u001b[0m\n\u001b[0m\u001b[1;32m    404\u001b[0m         \u001b[0;32mif\u001b[0m \u001b[0mself\u001b[0m\u001b[0;34m.\u001b[0m\u001b[0m_pin_memory\u001b[0m\u001b[0;34m:\u001b[0m\u001b[0;34m\u001b[0m\u001b[0;34m\u001b[0m\u001b[0m\n\u001b[1;32m    405\u001b[0m             \u001b[0mdata\u001b[0m \u001b[0;34m=\u001b[0m \u001b[0m_utils\u001b[0m\u001b[0;34m.\u001b[0m\u001b[0mpin_memory\u001b[0m\u001b[0;34m.\u001b[0m\u001b[0mpin_memory\u001b[0m\u001b[0;34m(\u001b[0m\u001b[0mdata\u001b[0m\u001b[0;34m)\u001b[0m\u001b[0;34m\u001b[0m\u001b[0;34m\u001b[0m\u001b[0m\n",
      "\u001b[0;32m~/fast-autoaugment/FA/lib/python3.7/site-packages/torch/utils/data/_utils/fetch.py\u001b[0m in \u001b[0;36mfetch\u001b[0;34m(self, possibly_batched_index)\u001b[0m\n\u001b[1;32m     42\u001b[0m     \u001b[0;32mdef\u001b[0m \u001b[0mfetch\u001b[0m\u001b[0;34m(\u001b[0m\u001b[0mself\u001b[0m\u001b[0;34m,\u001b[0m \u001b[0mpossibly_batched_index\u001b[0m\u001b[0;34m)\u001b[0m\u001b[0;34m:\u001b[0m\u001b[0;34m\u001b[0m\u001b[0;34m\u001b[0m\u001b[0m\n\u001b[1;32m     43\u001b[0m         \u001b[0;32mif\u001b[0m \u001b[0mself\u001b[0m\u001b[0;34m.\u001b[0m\u001b[0mauto_collation\u001b[0m\u001b[0;34m:\u001b[0m\u001b[0;34m\u001b[0m\u001b[0;34m\u001b[0m\u001b[0m\n\u001b[0;32m---> 44\u001b[0;31m             \u001b[0mdata\u001b[0m \u001b[0;34m=\u001b[0m \u001b[0;34m[\u001b[0m\u001b[0mself\u001b[0m\u001b[0;34m.\u001b[0m\u001b[0mdataset\u001b[0m\u001b[0;34m[\u001b[0m\u001b[0midx\u001b[0m\u001b[0;34m]\u001b[0m \u001b[0;32mfor\u001b[0m \u001b[0midx\u001b[0m \u001b[0;32min\u001b[0m \u001b[0mpossibly_batched_index\u001b[0m\u001b[0;34m]\u001b[0m\u001b[0;34m\u001b[0m\u001b[0;34m\u001b[0m\u001b[0m\n\u001b[0m\u001b[1;32m     45\u001b[0m         \u001b[0;32melse\u001b[0m\u001b[0;34m:\u001b[0m\u001b[0;34m\u001b[0m\u001b[0;34m\u001b[0m\u001b[0m\n\u001b[1;32m     46\u001b[0m             \u001b[0mdata\u001b[0m \u001b[0;34m=\u001b[0m \u001b[0mself\u001b[0m\u001b[0;34m.\u001b[0m\u001b[0mdataset\u001b[0m\u001b[0;34m[\u001b[0m\u001b[0mpossibly_batched_index\u001b[0m\u001b[0;34m]\u001b[0m\u001b[0;34m\u001b[0m\u001b[0;34m\u001b[0m\u001b[0m\n",
      "\u001b[0;32m~/fast-autoaugment/FA/lib/python3.7/site-packages/torch/utils/data/_utils/fetch.py\u001b[0m in \u001b[0;36m<listcomp>\u001b[0;34m(.0)\u001b[0m\n\u001b[1;32m     42\u001b[0m     \u001b[0;32mdef\u001b[0m \u001b[0mfetch\u001b[0m\u001b[0;34m(\u001b[0m\u001b[0mself\u001b[0m\u001b[0;34m,\u001b[0m \u001b[0mpossibly_batched_index\u001b[0m\u001b[0;34m)\u001b[0m\u001b[0;34m:\u001b[0m\u001b[0;34m\u001b[0m\u001b[0;34m\u001b[0m\u001b[0m\n\u001b[1;32m     43\u001b[0m         \u001b[0;32mif\u001b[0m \u001b[0mself\u001b[0m\u001b[0;34m.\u001b[0m\u001b[0mauto_collation\u001b[0m\u001b[0;34m:\u001b[0m\u001b[0;34m\u001b[0m\u001b[0;34m\u001b[0m\u001b[0m\n\u001b[0;32m---> 44\u001b[0;31m             \u001b[0mdata\u001b[0m \u001b[0;34m=\u001b[0m \u001b[0;34m[\u001b[0m\u001b[0mself\u001b[0m\u001b[0;34m.\u001b[0m\u001b[0mdataset\u001b[0m\u001b[0;34m[\u001b[0m\u001b[0midx\u001b[0m\u001b[0;34m]\u001b[0m \u001b[0;32mfor\u001b[0m \u001b[0midx\u001b[0m \u001b[0;32min\u001b[0m \u001b[0mpossibly_batched_index\u001b[0m\u001b[0;34m]\u001b[0m\u001b[0;34m\u001b[0m\u001b[0;34m\u001b[0m\u001b[0m\n\u001b[0m\u001b[1;32m     45\u001b[0m         \u001b[0;32melse\u001b[0m\u001b[0;34m:\u001b[0m\u001b[0;34m\u001b[0m\u001b[0;34m\u001b[0m\u001b[0m\n\u001b[1;32m     46\u001b[0m             \u001b[0mdata\u001b[0m \u001b[0;34m=\u001b[0m \u001b[0mself\u001b[0m\u001b[0;34m.\u001b[0m\u001b[0mdataset\u001b[0m\u001b[0;34m[\u001b[0m\u001b[0mpossibly_batched_index\u001b[0m\u001b[0;34m]\u001b[0m\u001b[0;34m\u001b[0m\u001b[0;34m\u001b[0m\u001b[0m\n",
      "\u001b[0;32m~/fast-autoaugment/FastAutoAugment/datasets.py\u001b[0m in \u001b[0;36m__getitem__\u001b[0;34m(self, index)\u001b[0m\n\u001b[1;32m     36\u001b[0m                     \u001b[0mimg\u001b[0m \u001b[0;34m=\u001b[0m \u001b[0mt\u001b[0m\u001b[0;34m(\u001b[0m\u001b[0mimg\u001b[0m\u001b[0;34m,\u001b[0m \u001b[0mhardness_score\u001b[0m\u001b[0;34m)\u001b[0m\u001b[0;34m\u001b[0m\u001b[0;34m\u001b[0m\u001b[0m\n\u001b[1;32m     37\u001b[0m                 \u001b[0;32melse\u001b[0m\u001b[0;34m:\u001b[0m\u001b[0;34m\u001b[0m\u001b[0;34m\u001b[0m\u001b[0m\n\u001b[0;32m---> 38\u001b[0;31m                     \u001b[0mimg\u001b[0m \u001b[0;34m=\u001b[0m \u001b[0mt\u001b[0m\u001b[0;34m(\u001b[0m\u001b[0mimg\u001b[0m\u001b[0;34m)\u001b[0m\u001b[0;34m\u001b[0m\u001b[0;34m\u001b[0m\u001b[0m\n\u001b[0m\u001b[1;32m     39\u001b[0m \u001b[0;34m\u001b[0m\u001b[0m\n\u001b[1;32m     40\u001b[0m         \u001b[0;32mif\u001b[0m \u001b[0mself\u001b[0m\u001b[0;34m.\u001b[0m\u001b[0mtarget_transform\u001b[0m \u001b[0;32mis\u001b[0m \u001b[0;32mnot\u001b[0m \u001b[0;32mNone\u001b[0m\u001b[0;34m:\u001b[0m\u001b[0;34m\u001b[0m\u001b[0;34m\u001b[0m\u001b[0m\n",
      "\u001b[0;32m<ipython-input-12-310857de1c4b>\u001b[0m in \u001b[0;36m__call__\u001b[0;34m(self, img, hardness_score)\u001b[0m\n\u001b[1;32m      8\u001b[0m                 \u001b[0;32mcontinue\u001b[0m\u001b[0;34m\u001b[0m\u001b[0;34m\u001b[0m\u001b[0m\n\u001b[1;32m      9\u001b[0m             \u001b[0;32mif\u001b[0m \u001b[0mlevel\u001b[0m \u001b[0;34m==\u001b[0m \u001b[0;34m'random'\u001b[0m\u001b[0;34m:\u001b[0m\u001b[0;34m\u001b[0m\u001b[0;34m\u001b[0m\u001b[0m\n\u001b[0;32m---> 10\u001b[0;31m                 \u001b[0mlevel\u001b[0m \u001b[0;34m=\u001b[0m \u001b[0mrandom\u001b[0m\u001b[0;34m.\u001b[0m\u001b[0mchoice\u001b[0m\u001b[0;34m(\u001b[0m\u001b[0mrange\u001b[0m\u001b[0;34m(\u001b[0m\u001b[0;36m10\u001b[0m\u001b[0;34m)\u001b[0m\u001b[0;34m)\u001b[0m\u001b[0;34m*\u001b[0m\u001b[0;36m0.1\u001b[0m\u001b[0;34m\u001b[0m\u001b[0;34m\u001b[0m\u001b[0m\n\u001b[0m\u001b[1;32m     11\u001b[0m             \u001b[0mimg\u001b[0m \u001b[0;34m=\u001b[0m \u001b[0mapply_augment\u001b[0m\u001b[0;34m(\u001b[0m\u001b[0mimg\u001b[0m\u001b[0;34m,\u001b[0m \u001b[0mname\u001b[0m\u001b[0;34m,\u001b[0m \u001b[0mlevel\u001b[0m\u001b[0;34m)\u001b[0m\u001b[0;34m\u001b[0m\u001b[0;34m\u001b[0m\u001b[0m\n\u001b[1;32m     12\u001b[0m         \u001b[0;32mreturn\u001b[0m \u001b[0mimg\u001b[0m\u001b[0;34m\u001b[0m\u001b[0;34m\u001b[0m\u001b[0m\n",
      "\u001b[0;31mTypeError\u001b[0m: 'tuple' object is not callable"
     ]
    }
   ],
   "source": [
    "policy_hardness_scores = []\n",
    "for i in np.arange(10):\n",
    "    print(\"t\")\n",
    "    policy_hardness_scores.append(process(model, policy_dataloaders[i]))"
   ]
  },
  {
   "cell_type": "code",
   "execution_count": 163,
   "metadata": {},
   "outputs": [
    {
     "data": {
      "text/plain": [
       "WideResNet(\n",
       "  (conv1): Conv2d(3, 16, kernel_size=(3, 3), stride=(1, 1), padding=(1, 1))\n",
       "  (layer1): Sequential(\n",
       "    (0): WideBasic(\n",
       "      (bn1): BatchNorm2d(16, eps=1e-05, momentum=0.9, affine=True, track_running_stats=True)\n",
       "      (conv1): Conv2d(16, 160, kernel_size=(3, 3), stride=(1, 1), padding=(1, 1))\n",
       "      (dropout): Dropout(p=0.0, inplace=False)\n",
       "      (bn2): BatchNorm2d(160, eps=1e-05, momentum=0.9, affine=True, track_running_stats=True)\n",
       "      (conv2): Conv2d(160, 160, kernel_size=(3, 3), stride=(1, 1), padding=(1, 1))\n",
       "      (shortcut): Sequential(\n",
       "        (0): Conv2d(16, 160, kernel_size=(1, 1), stride=(1, 1))\n",
       "      )\n",
       "    )\n",
       "    (1): WideBasic(\n",
       "      (bn1): BatchNorm2d(160, eps=1e-05, momentum=0.9, affine=True, track_running_stats=True)\n",
       "      (conv1): Conv2d(160, 160, kernel_size=(3, 3), stride=(1, 1), padding=(1, 1))\n",
       "      (dropout): Dropout(p=0.0, inplace=False)\n",
       "      (bn2): BatchNorm2d(160, eps=1e-05, momentum=0.9, affine=True, track_running_stats=True)\n",
       "      (conv2): Conv2d(160, 160, kernel_size=(3, 3), stride=(1, 1), padding=(1, 1))\n",
       "      (shortcut): Sequential()\n",
       "    )\n",
       "    (2): WideBasic(\n",
       "      (bn1): BatchNorm2d(160, eps=1e-05, momentum=0.9, affine=True, track_running_stats=True)\n",
       "      (conv1): Conv2d(160, 160, kernel_size=(3, 3), stride=(1, 1), padding=(1, 1))\n",
       "      (dropout): Dropout(p=0.0, inplace=False)\n",
       "      (bn2): BatchNorm2d(160, eps=1e-05, momentum=0.9, affine=True, track_running_stats=True)\n",
       "      (conv2): Conv2d(160, 160, kernel_size=(3, 3), stride=(1, 1), padding=(1, 1))\n",
       "      (shortcut): Sequential()\n",
       "    )\n",
       "    (3): WideBasic(\n",
       "      (bn1): BatchNorm2d(160, eps=1e-05, momentum=0.9, affine=True, track_running_stats=True)\n",
       "      (conv1): Conv2d(160, 160, kernel_size=(3, 3), stride=(1, 1), padding=(1, 1))\n",
       "      (dropout): Dropout(p=0.0, inplace=False)\n",
       "      (bn2): BatchNorm2d(160, eps=1e-05, momentum=0.9, affine=True, track_running_stats=True)\n",
       "      (conv2): Conv2d(160, 160, kernel_size=(3, 3), stride=(1, 1), padding=(1, 1))\n",
       "      (shortcut): Sequential()\n",
       "    )\n",
       "  )\n",
       "  (layer2): Sequential(\n",
       "    (0): WideBasic(\n",
       "      (bn1): BatchNorm2d(160, eps=1e-05, momentum=0.9, affine=True, track_running_stats=True)\n",
       "      (conv1): Conv2d(160, 320, kernel_size=(3, 3), stride=(1, 1), padding=(1, 1))\n",
       "      (dropout): Dropout(p=0.0, inplace=False)\n",
       "      (bn2): BatchNorm2d(320, eps=1e-05, momentum=0.9, affine=True, track_running_stats=True)\n",
       "      (conv2): Conv2d(320, 320, kernel_size=(3, 3), stride=(2, 2), padding=(1, 1))\n",
       "      (shortcut): Sequential(\n",
       "        (0): Conv2d(160, 320, kernel_size=(1, 1), stride=(2, 2))\n",
       "      )\n",
       "    )\n",
       "    (1): WideBasic(\n",
       "      (bn1): BatchNorm2d(320, eps=1e-05, momentum=0.9, affine=True, track_running_stats=True)\n",
       "      (conv1): Conv2d(320, 320, kernel_size=(3, 3), stride=(1, 1), padding=(1, 1))\n",
       "      (dropout): Dropout(p=0.0, inplace=False)\n",
       "      (bn2): BatchNorm2d(320, eps=1e-05, momentum=0.9, affine=True, track_running_stats=True)\n",
       "      (conv2): Conv2d(320, 320, kernel_size=(3, 3), stride=(1, 1), padding=(1, 1))\n",
       "      (shortcut): Sequential()\n",
       "    )\n",
       "    (2): WideBasic(\n",
       "      (bn1): BatchNorm2d(320, eps=1e-05, momentum=0.9, affine=True, track_running_stats=True)\n",
       "      (conv1): Conv2d(320, 320, kernel_size=(3, 3), stride=(1, 1), padding=(1, 1))\n",
       "      (dropout): Dropout(p=0.0, inplace=False)\n",
       "      (bn2): BatchNorm2d(320, eps=1e-05, momentum=0.9, affine=True, track_running_stats=True)\n",
       "      (conv2): Conv2d(320, 320, kernel_size=(3, 3), stride=(1, 1), padding=(1, 1))\n",
       "      (shortcut): Sequential()\n",
       "    )\n",
       "    (3): WideBasic(\n",
       "      (bn1): BatchNorm2d(320, eps=1e-05, momentum=0.9, affine=True, track_running_stats=True)\n",
       "      (conv1): Conv2d(320, 320, kernel_size=(3, 3), stride=(1, 1), padding=(1, 1))\n",
       "      (dropout): Dropout(p=0.0, inplace=False)\n",
       "      (bn2): BatchNorm2d(320, eps=1e-05, momentum=0.9, affine=True, track_running_stats=True)\n",
       "      (conv2): Conv2d(320, 320, kernel_size=(3, 3), stride=(1, 1), padding=(1, 1))\n",
       "      (shortcut): Sequential()\n",
       "    )\n",
       "  )\n",
       "  (layer3): Sequential(\n",
       "    (0): WideBasic(\n",
       "      (bn1): BatchNorm2d(320, eps=1e-05, momentum=0.9, affine=True, track_running_stats=True)\n",
       "      (conv1): Conv2d(320, 640, kernel_size=(3, 3), stride=(1, 1), padding=(1, 1))\n",
       "      (dropout): Dropout(p=0.0, inplace=False)\n",
       "      (bn2): BatchNorm2d(640, eps=1e-05, momentum=0.9, affine=True, track_running_stats=True)\n",
       "      (conv2): Conv2d(640, 640, kernel_size=(3, 3), stride=(2, 2), padding=(1, 1))\n",
       "      (shortcut): Sequential(\n",
       "        (0): Conv2d(320, 640, kernel_size=(1, 1), stride=(2, 2))\n",
       "      )\n",
       "    )\n",
       "    (1): WideBasic(\n",
       "      (bn1): BatchNorm2d(640, eps=1e-05, momentum=0.9, affine=True, track_running_stats=True)\n",
       "      (conv1): Conv2d(640, 640, kernel_size=(3, 3), stride=(1, 1), padding=(1, 1))\n",
       "      (dropout): Dropout(p=0.0, inplace=False)\n",
       "      (bn2): BatchNorm2d(640, eps=1e-05, momentum=0.9, affine=True, track_running_stats=True)\n",
       "      (conv2): Conv2d(640, 640, kernel_size=(3, 3), stride=(1, 1), padding=(1, 1))\n",
       "      (shortcut): Sequential()\n",
       "    )\n",
       "    (2): WideBasic(\n",
       "      (bn1): BatchNorm2d(640, eps=1e-05, momentum=0.9, affine=True, track_running_stats=True)\n",
       "      (conv1): Conv2d(640, 640, kernel_size=(3, 3), stride=(1, 1), padding=(1, 1))\n",
       "      (dropout): Dropout(p=0.0, inplace=False)\n",
       "      (bn2): BatchNorm2d(640, eps=1e-05, momentum=0.9, affine=True, track_running_stats=True)\n",
       "      (conv2): Conv2d(640, 640, kernel_size=(3, 3), stride=(1, 1), padding=(1, 1))\n",
       "      (shortcut): Sequential()\n",
       "    )\n",
       "    (3): WideBasic(\n",
       "      (bn1): BatchNorm2d(640, eps=1e-05, momentum=0.9, affine=True, track_running_stats=True)\n",
       "      (conv1): Conv2d(640, 640, kernel_size=(3, 3), stride=(1, 1), padding=(1, 1))\n",
       "      (dropout): Dropout(p=0.0, inplace=False)\n",
       "      (bn2): BatchNorm2d(640, eps=1e-05, momentum=0.9, affine=True, track_running_stats=True)\n",
       "      (conv2): Conv2d(640, 640, kernel_size=(3, 3), stride=(1, 1), padding=(1, 1))\n",
       "      (shortcut): Sequential()\n",
       "    )\n",
       "  )\n",
       "  (bn1): BatchNorm2d(640, eps=1e-05, momentum=0.9, affine=True, track_running_stats=True)\n",
       "  (linear): Linear(in_features=640, out_features=10, bias=True)\n",
       ")"
      ]
     },
     "execution_count": 163,
     "metadata": {},
     "output_type": "execute_result"
    }
   ],
   "source": [
    "model"
   ]
  },
  {
   "cell_type": "code",
   "execution_count": null,
   "metadata": {},
   "outputs": [],
   "source": []
  }
 ],
 "metadata": {
  "kernelspec": {
   "display_name": "FA",
   "language": "python",
   "name": "fa"
  },
  "language_info": {
   "codemirror_mode": {
    "name": "ipython",
    "version": 3
   },
   "file_extension": ".py",
   "mimetype": "text/x-python",
   "name": "python",
   "nbconvert_exporter": "python",
   "pygments_lexer": "ipython3",
   "version": "3.7.7"
  }
 },
 "nbformat": 4,
 "nbformat_minor": 4
}
